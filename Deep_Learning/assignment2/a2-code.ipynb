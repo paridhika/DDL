{
  "cells": [
    {
      "cell_type": "markdown",
      "metadata": {
        "id": "JyzOT64xkqy6"
      },
      "source": [
        "# Assignment 2: Convolutional Neural Networks\n",
        "\n",
        "**Version Release Date**: 2023-01-29\n",
        "\n",
        "**Due Date**: Friday, Feb. 24, at 11:59pm\n",
        "\n",
        "Based on an assignment by Lisa Zhang\n",
        "\n",
        "For CSC413/2516 in Winter 2023 with Professors Jimmy Ba and Bo Wang\n",
        "\n",
        "**Submission:**\n",
        "You must submit two files through [MarkUs](https://markus.teach.cs.toronto.edu/2022-01/): a PDF file containing your writeup, titled *a2-writeup.pdf*, and your code file *a2-code.ipynb*. Your writeup must be typeset.\n",
        "\n",
        "The programming assignments are individual work. See the Course Syllabus for detailed policies. \n",
        "\n",
        "**Introduction:**  \n",
        "This assignment will focus on the applications of convolutional neural networks in various image processing tasks. We will train a convolutional neural network for a task known as image colourization. Given a greyscale image, we will predict the colour at each pixel. This a difficult problem for many reasons, one of which being that it is ill-posed: for a single greyscale image, there can be multiple,  equally valid colourings. "
      ]
    },
    {
      "cell_type": "markdown",
      "metadata": {
        "id": "TjPTaRB4mpCd"
      },
      "source": [
        "# Colab FAQ and Using GPU\n",
        "\n",
        "For some basic overview and features offered in Colab notebooks, check out: [Overview of Colaboratory Features](https://colab.research.google.com/notebooks/basic_features_overview.ipynb).\n",
        "\n",
        "You need to use the Colab GPU for this assignment by selecting:\n",
        "\n",
        "> **Runtime**   →   **Change runtime type**   →   **Hardware Accelerator: GPU**"
      ]
    },
    {
      "cell_type": "markdown",
      "metadata": {
        "id": "s9IS9B9-yUU5"
      },
      "source": [
        "# Download CIFAR and Colour dictionary\n",
        "We will use the [CIFAR-10 data set](http://www.cs.toronto.edu/~kriz/cifar-10-python.tar.gz), which consists of images of size 32x32 pixels. For most of the questions we will use a subset of the dataset. To make the problem easier, we will only use the “Horse” category from this data set. Now let’s learn to colour some horses!\n",
        "\n",
        "The data loading script is included below. It can take up to a couple of minutes to download everything the first time.\n",
        "\n",
        "All files are stored at `/content/csc413/a2/data/` folder."
      ]
    },
    {
      "cell_type": "markdown",
      "metadata": {
        "id": "4BIpGwANoQOg"
      },
      "source": [
        "#### Helper code\n",
        "You can ignore the restart warning."
      ]
    },
    {
      "cell_type": "code",
      "execution_count": 1,
      "metadata": {
        "colab": {
          "base_uri": "https://localhost:8080/"
        },
        "id": "piDmAsqFG0gU",
        "outputId": "280c4125-c602-4f47-a9a4-075f4781b627"
      },
      "outputs": [
        {
          "output_type": "stream",
          "name": "stdout",
          "text": [
            "/content/csc413/a2\n"
          ]
        }
      ],
      "source": [
        "######################################################################\n",
        "# Setup working directory\n",
        "######################################################################\n",
        "%mkdir -p /content/csc413/a2/\n",
        "%cd /content/csc413/a2\n",
        "\n",
        "######################################################################\n",
        "# Helper functions for loading data\n",
        "######################################################################\n",
        "# adapted from\n",
        "# https://github.com/fchollet/keras/blob/master/keras/datasets/cifar10.py\n",
        "\n",
        "import os\n",
        "import pickle\n",
        "import sys\n",
        "import tarfile\n",
        "\n",
        "import numpy as np\n",
        "from PIL import Image\n",
        "from six.moves.urllib.request import urlretrieve\n",
        "\n",
        "\n",
        "def get_file(fname, origin, untar=False, extract=False, archive_format=\"auto\", cache_dir=\"data\"):\n",
        "    datadir = os.path.join(cache_dir)\n",
        "    if not os.path.exists(datadir):\n",
        "        os.makedirs(datadir)\n",
        "\n",
        "    if untar:\n",
        "        untar_fpath = os.path.join(datadir, fname)\n",
        "        fpath = untar_fpath + \".tar.gz\"\n",
        "    else:\n",
        "        fpath = os.path.join(datadir, fname)\n",
        "\n",
        "    print(\"File path: %s\" % fpath)\n",
        "    if not os.path.exists(fpath):\n",
        "        print(\"Downloading data from\", origin)\n",
        "\n",
        "        error_msg = \"URL fetch failure on {}: {} -- {}\"\n",
        "        try:\n",
        "            try:\n",
        "                urlretrieve(origin, fpath)\n",
        "            except URLError as e:\n",
        "                raise Exception(error_msg.format(origin, e.errno, e.reason))\n",
        "            except HTTPError as e:\n",
        "                raise Exception(error_msg.format(origin, e.code, e.msg))\n",
        "        except (Exception, KeyboardInterrupt) as e:\n",
        "            if os.path.exists(fpath):\n",
        "                os.remove(fpath)\n",
        "            raise\n",
        "\n",
        "    if untar:\n",
        "        if not os.path.exists(untar_fpath):\n",
        "            print(\"Extracting file.\")\n",
        "            with tarfile.open(fpath) as archive:\n",
        "                archive.extractall(datadir)\n",
        "        return untar_fpath\n",
        "\n",
        "    if extract:\n",
        "        _extract_archive(fpath, datadir, archive_format)\n",
        "\n",
        "    return fpath\n",
        "\n",
        "\n",
        "def load_batch(fpath, label_key=\"labels\"):\n",
        "    \"\"\"Internal utility for parsing CIFAR data.\n",
        "    # Arguments\n",
        "        fpath: path the file to parse.\n",
        "        label_key: key for label data in the retrieve\n",
        "            dictionary.\n",
        "    # Returns\n",
        "        A tuple `(data, labels)`.\n",
        "    \"\"\"\n",
        "    f = open(fpath, \"rb\")\n",
        "    if sys.version_info < (3,):\n",
        "        d = pickle.load(f)\n",
        "    else:\n",
        "        d = pickle.load(f, encoding=\"bytes\")\n",
        "        # decode utf8\n",
        "        d_decoded = {}\n",
        "        for k, v in d.items():\n",
        "            d_decoded[k.decode(\"utf8\")] = v\n",
        "        d = d_decoded\n",
        "    f.close()\n",
        "    data = d[\"data\"]\n",
        "    labels = d[label_key]\n",
        "\n",
        "    data = data.reshape(data.shape[0], 3, 32, 32)\n",
        "    return data, labels\n",
        "\n",
        "\n",
        "def load_cifar10(transpose=False):\n",
        "    \"\"\"Loads CIFAR10 dataset.\n",
        "    # Returns\n",
        "        Tuple of Numpy arrays: `(x_train, y_train), (x_test, y_test)`.\n",
        "    \"\"\"\n",
        "    dirname = \"cifar-10-batches-py\"\n",
        "    origin = \"http://www.cs.toronto.edu/~kriz/cifar-10-python.tar.gz\"\n",
        "    path = get_file(dirname, origin=origin, untar=True)\n",
        "\n",
        "    num_train_samples = 50000\n",
        "\n",
        "    x_train = np.zeros((num_train_samples, 3, 32, 32), dtype=\"uint8\")\n",
        "    y_train = np.zeros((num_train_samples,), dtype=\"uint8\")\n",
        "\n",
        "    for i in range(1, 6):\n",
        "        fpath = os.path.join(path, \"data_batch_\" + str(i))\n",
        "        data, labels = load_batch(fpath)\n",
        "        x_train[(i - 1) * 10000 : i * 10000, :, :, :] = data\n",
        "        y_train[(i - 1) * 10000 : i * 10000] = labels\n",
        "\n",
        "    fpath = os.path.join(path, \"test_batch\")\n",
        "    x_test, y_test = load_batch(fpath)\n",
        "\n",
        "    y_train = np.reshape(y_train, (len(y_train), 1))\n",
        "    y_test = np.reshape(y_test, (len(y_test), 1))\n",
        "\n",
        "    if transpose:\n",
        "        x_train = x_train.transpose(0, 2, 3, 1)\n",
        "        x_test = x_test.transpose(0, 2, 3, 1)\n",
        "    return (x_train, y_train), (x_test, y_test)"
      ]
    },
    {
      "cell_type": "markdown",
      "metadata": {
        "id": "2jIKvJNtoVgU"
      },
      "source": [
        "#### Download files\n",
        "\n",
        "This may take 1 or 2 mins for the first time."
      ]
    },
    {
      "cell_type": "code",
      "execution_count": 2,
      "metadata": {
        "colab": {
          "base_uri": "https://localhost:8080/"
        },
        "id": "l7fti3cryStt",
        "outputId": "bc0d2e3d-87f2-4df5-c101-604ea0ed416e"
      },
      "outputs": [
        {
          "output_type": "stream",
          "name": "stdout",
          "text": [
            "File path: data/colours.tar.gz\n",
            "Downloading data from http://www.cs.toronto.edu/~jba/kmeans_colour_a2.tar.gz\n",
            "Extracting file.\n",
            "File path: data/cifar-10-batches-py.tar.gz\n",
            "Downloading data from http://www.cs.toronto.edu/~kriz/cifar-10-python.tar.gz\n",
            "Extracting file.\n"
          ]
        }
      ],
      "source": [
        "# Download cluster centers for k-means over colours\n",
        "colours_fpath = get_file(\n",
        "    fname=\"colours\", origin=\"http://www.cs.toronto.edu/~jba/kmeans_colour_a2.tar.gz\", untar=True\n",
        ")\n",
        "# Download CIFAR dataset\n",
        "m = load_cifar10()"
      ]
    },
    {
      "cell_type": "markdown",
      "metadata": {
        "id": "s1JvfupQm6F-"
      },
      "source": [
        "# Image Colourization as Classification\n",
        "\n",
        "We will select a subset of 24 colours and frame colourization as a pixel-wise classification problem, where we label each pixel with one of 24 colours. The 24 colours are selected using [k-means clustering](https://en.wikipedia.org/wiki/K-means_clustering) over colours, and selecting cluster centers. \n",
        "\n",
        "This was already done for you, and cluster centers are provided in http://www.cs.toronto.edu/~jba/kmeans_colour_a2.tar.gz, which was downloaded by the helper functions above. For simplicity, we will measure distance in RGB space. This is not ideal but reduces the software dependencies for this assignment."
      ]
    },
    {
      "cell_type": "markdown",
      "metadata": {
        "id": "oWyZwl9VKkxD"
      },
      "source": [
        "## Helper code"
      ]
    },
    {
      "cell_type": "code",
      "execution_count": 3,
      "metadata": {
        "id": "bTF1TQObE6DG"
      },
      "outputs": [],
      "source": [
        "\"\"\"\n",
        "Colourization of CIFAR-10 Horses via classification.\n",
        "\"\"\"\n",
        "import argparse\n",
        "import math\n",
        "import time\n",
        "\n",
        "import matplotlib\n",
        "import matplotlib.pyplot as plt\n",
        "import numpy as np\n",
        "import numpy.random as npr\n",
        "import scipy.misc\n",
        "import torch\n",
        "import torch.nn as nn\n",
        "import torch.nn.functional as F\n",
        "from torch.autograd import Variable\n",
        "\n",
        "# from load_data import load_cifar10\n",
        "\n",
        "HORSE_CATEGORY = 7"
      ]
    },
    {
      "cell_type": "markdown",
      "metadata": {
        "id": "zN3FF8hIlS7h"
      },
      "source": [
        "#### Data related code"
      ]
    },
    {
      "cell_type": "code",
      "execution_count": 4,
      "metadata": {
        "id": "-900ROTMlSPd"
      },
      "outputs": [],
      "source": [
        "def get_rgb_cat(xs, colours):\n",
        "    \"\"\"\n",
        "    Get colour categories given RGB values. This function doesn't\n",
        "    actually do the work, instead it splits the work into smaller\n",
        "    chunks that can fit into memory, and calls helper function\n",
        "    _get_rgb_cat\n",
        "\n",
        "    Args:\n",
        "      xs: float numpy array of RGB images in [B, C, H, W] format\n",
        "      colours: numpy array of colour categories and their RGB values\n",
        "    Returns:\n",
        "      result: int numpy array of shape [B, 1, H, W]\n",
        "    \"\"\"\n",
        "    if np.shape(xs)[0] < 100:\n",
        "        return _get_rgb_cat(xs)\n",
        "    batch_size = 100\n",
        "    nexts = []\n",
        "    for i in range(0, np.shape(xs)[0], batch_size):\n",
        "        next = _get_rgb_cat(xs[i : i + batch_size, :, :, :], colours)\n",
        "        nexts.append(next)\n",
        "    result = np.concatenate(nexts, axis=0)\n",
        "    return result\n",
        "\n",
        "\n",
        "def _get_rgb_cat(xs, colours):\n",
        "    \"\"\"\n",
        "    Get colour categories given RGB values. This is done by choosing\n",
        "    the colour in `colours` that is the closest (in RGB space) to\n",
        "    each point in the image `xs`. This function is a little memory\n",
        "    intensive, and so the size of `xs` should not be too large.\n",
        "\n",
        "    Args:\n",
        "      xs: float numpy array of RGB images in [B, C, H, W] format\n",
        "      colours: numpy array of colour categories and their RGB values\n",
        "    Returns:\n",
        "      result: int numpy array of shape [B, 1, H, W]\n",
        "    \"\"\"\n",
        "    num_colours = np.shape(colours)[0]\n",
        "    xs = np.expand_dims(xs, 0)\n",
        "    cs = np.reshape(colours, [num_colours, 1, 3, 1, 1])\n",
        "    dists = np.linalg.norm(xs - cs, axis=2)  # 2 = colour axis\n",
        "    cat = np.argmin(dists, axis=0)\n",
        "    cat = np.expand_dims(cat, axis=1)\n",
        "    return cat\n",
        "\n",
        "\n",
        "def get_cat_rgb(cats, colours):\n",
        "    \"\"\"\n",
        "    Get RGB colours given the colour categories\n",
        "\n",
        "    Args:\n",
        "      cats: integer numpy array of colour categories\n",
        "      colours: numpy array of colour categories and their RGB values\n",
        "    Returns:\n",
        "      numpy tensor of RGB colours\n",
        "    \"\"\"\n",
        "    return colours[cats]\n",
        "\n",
        "\n",
        "def process(xs, ys, max_pixel=256.0, downsize_input=False):\n",
        "    \"\"\"\n",
        "    Pre-process CIFAR10 images by taking only the horse category,\n",
        "    shuffling, and have colour values be bound between 0 and 1\n",
        "\n",
        "    Args:\n",
        "      xs: the colour RGB pixel values\n",
        "      ys: the category labels\n",
        "      max_pixel: maximum pixel value in the original data\n",
        "    Returns:\n",
        "      xs: value normalized and shuffled colour images\n",
        "      grey: greyscale images, also normalized so values are between 0 and 1\n",
        "    \"\"\"\n",
        "    xs = xs / max_pixel\n",
        "    xs = xs[np.where(ys == HORSE_CATEGORY)[0], :, :, :]\n",
        "    npr.shuffle(xs)\n",
        "\n",
        "    grey = np.mean(xs, axis=1, keepdims=True)\n",
        "\n",
        "    if downsize_input:\n",
        "        downsize_module = nn.Sequential(\n",
        "            nn.AvgPool2d(2),\n",
        "            nn.AvgPool2d(2),\n",
        "            nn.Upsample(scale_factor=2),\n",
        "            nn.Upsample(scale_factor=2),\n",
        "        )\n",
        "        xs_downsized = downsize_module.forward(torch.from_numpy(xs).float())\n",
        "        xs_downsized = xs_downsized.data.numpy()\n",
        "        return (xs, xs_downsized)\n",
        "    else:\n",
        "        return (xs, grey)\n",
        "\n",
        "\n",
        "def get_batch(x, y, batch_size):\n",
        "    \"\"\"\n",
        "    Generated that yields batches of data\n",
        "\n",
        "    Args:\n",
        "      x: input values\n",
        "      y: output values\n",
        "      batch_size: size of each batch\n",
        "    Yields:\n",
        "      batch_x: a batch of inputs of size at most batch_size\n",
        "      batch_y: a batch of outputs of size at most batch_size\n",
        "    \"\"\"\n",
        "    N = np.shape(x)[0]\n",
        "    assert N == np.shape(y)[0]\n",
        "    for i in range(0, N, batch_size):\n",
        "        batch_x = x[i : i + batch_size, :, :, :]\n",
        "        batch_y = y[i : i + batch_size, :, :, :]\n",
        "        yield (batch_x, batch_y)"
      ]
    },
    {
      "cell_type": "markdown",
      "metadata": {
        "id": "Ft0qRJgWlK2q"
      },
      "source": [
        "#### Torch helper"
      ]
    },
    {
      "cell_type": "code",
      "execution_count": 5,
      "metadata": {
        "id": "TgMknlyhlJvi"
      },
      "outputs": [],
      "source": [
        "def get_torch_vars(xs, ys, gpu=False):\n",
        "    \"\"\"\n",
        "    Helper function to convert numpy arrays to pytorch tensors.\n",
        "    If GPU is used, move the tensors to GPU.\n",
        "\n",
        "    Args:\n",
        "      xs (float numpy tenosor): greyscale input\n",
        "      ys (int numpy tenosor): categorical labels\n",
        "      gpu (bool): whether to move pytorch tensor to GPU\n",
        "    Returns:\n",
        "      Variable(xs), Variable(ys)\n",
        "    \"\"\"\n",
        "    xs = torch.from_numpy(xs).float()\n",
        "    ys = torch.from_numpy(ys).long()\n",
        "    if gpu:\n",
        "        xs = xs.cuda()\n",
        "        ys = ys.cuda()\n",
        "    return Variable(xs), Variable(ys)\n",
        "\n",
        "\n",
        "def compute_loss(criterion, outputs, labels, batch_size, num_colours):\n",
        "    \"\"\"\n",
        "    Helper function to compute the loss. Since this is a pixelwise\n",
        "    prediction task we need to reshape the output and ground truth\n",
        "    tensors into a 2D tensor before passing it in to the loss criteron.\n",
        "\n",
        "    Args:\n",
        "      criterion: pytorch loss criterion\n",
        "      outputs (pytorch tensor): predicted labels from the model\n",
        "      labels (pytorch tensor): ground truth labels\n",
        "      batch_size (int): batch size used for training\n",
        "      num_colours (int): number of colour categories\n",
        "    Returns:\n",
        "      pytorch tensor for loss\n",
        "    \"\"\"\n",
        "    batch = outputs.size(0)\n",
        "    loss_out = outputs.transpose(1, 3).contiguous().view([batch * 32 * 32, num_colours])\n",
        "    loss_lab = labels.transpose(1, 3).contiguous().view([batch * 32 * 32])\n",
        "    return criterion(loss_out, loss_lab)\n",
        "\n",
        "\n",
        "def run_validation_step(\n",
        "    cnn,\n",
        "    criterion,\n",
        "    test_grey,\n",
        "    test_rgb_cat,\n",
        "    batch_size,\n",
        "    colours,\n",
        "    plotpath=None,\n",
        "    visualize=True,\n",
        "    downsize_input=False\n",
        "):\n",
        "    correct = 0.0\n",
        "    total = 0.0\n",
        "    losses = []\n",
        "    num_colours = np.shape(colours)[0]\n",
        "    for i, (xs, ys) in enumerate(get_batch(test_grey, test_rgb_cat, batch_size)):\n",
        "        images, labels = get_torch_vars(xs, ys, args.gpu)\n",
        "        outputs = cnn(images)\n",
        "\n",
        "        val_loss = compute_loss(\n",
        "            criterion, outputs, labels, batch_size=args.batch_size, num_colours=num_colours\n",
        "        )\n",
        "        losses.append(val_loss.data.item())\n",
        "\n",
        "        _, predicted = torch.max(outputs.data, 1, keepdim=True)\n",
        "        total += labels.size(0) * 32 * 32\n",
        "        correct += (predicted == labels.data).sum()\n",
        "\n",
        "    if plotpath:  # only plot if a path is provided\n",
        "        plot(\n",
        "            xs,\n",
        "            ys,\n",
        "            predicted.cpu().numpy(),\n",
        "            colours,\n",
        "            plotpath,\n",
        "            visualize=visualize,\n",
        "            compare_bilinear=downsize_input,\n",
        "        )\n",
        "\n",
        "    val_loss = np.mean(losses)\n",
        "    val_acc = 100 * correct / total\n",
        "    return val_loss, val_acc"
      ]
    },
    {
      "cell_type": "markdown",
      "metadata": {
        "id": "rp_wCpMjqt5w"
      },
      "source": [
        "#### Visualization"
      ]
    },
    {
      "cell_type": "code",
      "execution_count": 6,
      "metadata": {
        "id": "syg8NjwMqw_F"
      },
      "outputs": [],
      "source": [
        "def plot(input, gtlabel, output, colours, path, visualize, compare_bilinear=False):\n",
        "    \"\"\"\n",
        "    Generate png plots of input, ground truth, and outputs\n",
        "\n",
        "    Args:\n",
        "      input: the greyscale input to the colourization CNN\n",
        "      gtlabel: the grouth truth categories for each pixel\n",
        "      output: the predicted categories for each pixel\n",
        "      colours: numpy array of colour categories and their RGB values\n",
        "      path: output path\n",
        "      visualize: display the figures inline or save the figures in path\n",
        "    \"\"\"\n",
        "    grey = np.transpose(input[:10, :, :, :], [0, 2, 3, 1])\n",
        "    gtcolor = get_cat_rgb(gtlabel[:10, 0, :, :], colours)\n",
        "    predcolor = get_cat_rgb(output[:10, 0, :, :], colours)\n",
        "\n",
        "    img_stack = [np.hstack(np.tile(grey, [1, 1, 1, 3])), np.hstack(gtcolor), np.hstack(predcolor)]\n",
        "\n",
        "    if compare_bilinear:\n",
        "        downsize_module = nn.Sequential(\n",
        "            nn.AvgPool2d(2),\n",
        "            nn.AvgPool2d(2),\n",
        "            nn.Upsample(scale_factor=2, mode=\"bilinear\"),\n",
        "            nn.Upsample(scale_factor=2, mode=\"bilinear\"),\n",
        "        )\n",
        "        gt_input = np.transpose(\n",
        "            gtcolor,\n",
        "            [\n",
        "                0,\n",
        "                3,\n",
        "                1,\n",
        "                2\n",
        "            ],\n",
        "        )\n",
        "        color_bilinear = downsize_module.forward(torch.from_numpy(gt_input).float())\n",
        "        color_bilinear = np.transpose(color_bilinear.data.numpy(), [0, 2, 3, 1])\n",
        "        img_stack = [\n",
        "            np.hstack(np.transpose(input[:10, :, :, :], [0, 2, 3, 1])),\n",
        "            np.hstack(gtcolor),\n",
        "            np.hstack(predcolor),\n",
        "            np.hstack(color_bilinear),\n",
        "        ]\n",
        "    img = np.vstack(img_stack)\n",
        "\n",
        "    plt.grid(None)\n",
        "    plt.imshow(img, vmin=0.0, vmax=1.0)\n",
        "    if visualize:\n",
        "        plt.show()\n",
        "    else:\n",
        "        plt.savefig(path)\n",
        "\n",
        "\n",
        "def toimage(img, cmin, cmax):\n",
        "    return Image.fromarray((img.clip(cmin, cmax) * 255).astype(np.uint8))\n",
        "\n",
        "\n",
        "def plot_activation(args, cnn):\n",
        "    # LOAD THE COLOURS CATEGORIES\n",
        "    colours = np.load(args.colours, allow_pickle=True)[0]\n",
        "    num_colours = np.shape(colours)[0]\n",
        "\n",
        "    (x_train, y_train), (x_test, y_test) = load_cifar10()\n",
        "    test_rgb, test_grey = process(x_test, y_test, downsize_input=args.downsize_input)\n",
        "    test_rgb_cat = get_rgb_cat(test_rgb, colours)\n",
        "\n",
        "    # Take the idnex of the test image\n",
        "    id = args.index\n",
        "    outdir = \"outputs/\" + args.experiment_name + \"/act\" + str(id)\n",
        "    if not os.path.exists(outdir):\n",
        "        os.makedirs(outdir)\n",
        "    images, labels = get_torch_vars(\n",
        "        np.expand_dims(test_grey[id], 0), np.expand_dims(test_rgb_cat[id], 0)\n",
        "    )\n",
        "    cnn.cpu()\n",
        "    outputs = cnn(images)\n",
        "    _, predicted = torch.max(outputs.data, 1, keepdim=True)\n",
        "    predcolor = get_cat_rgb(predicted.cpu().numpy()[0, 0, :, :], colours)\n",
        "    img = predcolor\n",
        "    toimage(predcolor, cmin=0, cmax=1).save(os.path.join(outdir, \"output_%d.png\" % id))\n",
        "\n",
        "    if not args.downsize_input:\n",
        "        img = np.tile(np.transpose(test_grey[id], [1, 2, 0]), [1, 1, 3])\n",
        "    else:\n",
        "        img = np.transpose(test_grey[id], [1, 2, 0])\n",
        "    toimage(img, cmin=0, cmax=1).save(os.path.join(outdir, \"input_%d.png\" % id))\n",
        "\n",
        "    img = np.transpose(test_rgb[id], [1, 2, 0])\n",
        "    toimage(img, cmin=0, cmax=1).save(os.path.join(outdir, \"input_%d_gt.png\" % id))\n",
        "\n",
        "    def add_border(img):\n",
        "        return np.pad(img, 1, \"constant\", constant_values=1.0)\n",
        "\n",
        "    def draw_activations(path, activation, imgwidth=4):\n",
        "        img = np.vstack(\n",
        "            [\n",
        "                np.hstack(\n",
        "                    [\n",
        "                        add_border(filter)\n",
        "                        for filter in activation[i * imgwidth : (i + 1) * imgwidth, :, :]\n",
        "                    ]\n",
        "                )\n",
        "                for i in range(activation.shape[0] // imgwidth)\n",
        "            ]\n",
        "        )\n",
        "        scipy.misc.imsave(path, img)\n",
        "\n",
        "    for i, tensor in enumerate([cnn.out1, cnn.out2, cnn.out3, cnn.out4, cnn.out5]):\n",
        "        draw_activations(\n",
        "            os.path.join(outdir, \"conv%d_out_%d.png\" % (i + 1, id)), tensor.data.cpu().numpy()[0]\n",
        "        )\n",
        "    print(\"visualization results are saved to %s\" % outdir)"
      ]
    },
    {
      "cell_type": "markdown",
      "metadata": {
        "id": "xIa_fiZYnRy7"
      },
      "source": [
        "#### Training"
      ]
    },
    {
      "cell_type": "code",
      "execution_count": 7,
      "metadata": {
        "id": "LtAdbbzHnP-n"
      },
      "outputs": [],
      "source": [
        "class AttrDict(dict):\n",
        "    def __init__(self, *args, **kwargs):\n",
        "        super(AttrDict, self).__init__(*args, **kwargs)\n",
        "        self.__dict__ = self\n",
        "\n",
        "\n",
        "def train(args, cnn=None):\n",
        "    # Set the maximum number of threads to prevent crash in Teaching Labs\n",
        "    # TODO: necessary?\n",
        "    torch.set_num_threads(5)\n",
        "    # Numpy random seed\n",
        "    npr.seed(args.seed)\n",
        "\n",
        "    # Save directory\n",
        "    save_dir = \"outputs/\" + args.experiment_name\n",
        "\n",
        "    # LOAD THE COLOURS CATEGORIES\n",
        "    colours = np.load(args.colours, allow_pickle=True, encoding=\"bytes\")[0]\n",
        "    num_colours = np.shape(colours)[0]\n",
        "    # INPUT CHANNEL\n",
        "    num_in_channels = 1 if not args.downsize_input else 3\n",
        "    # LOAD THE MODEL\n",
        "    if cnn is None:\n",
        "        Net = globals()[args.model]\n",
        "        cnn = Net(args.kernel, args.num_filters, num_colours, num_in_channels)\n",
        "\n",
        "    # LOSS FUNCTION\n",
        "    criterion = nn.CrossEntropyLoss()\n",
        "    optimizer = torch.optim.Adam(cnn.parameters(), lr=args.learn_rate)\n",
        "\n",
        "    # DATA\n",
        "    print(\"Loading data...\")\n",
        "    (x_train, y_train), (x_test, y_test) = load_cifar10()\n",
        "\n",
        "    print(\"Transforming data...\")\n",
        "    train_rgb, train_grey = process(x_train, y_train, downsize_input=args.downsize_input)\n",
        "    train_rgb_cat = get_rgb_cat(train_rgb, colours)\n",
        "    test_rgb, test_grey = process(x_test, y_test, downsize_input=args.downsize_input)\n",
        "    test_rgb_cat = get_rgb_cat(test_rgb, colours)\n",
        "\n",
        "    # Create the outputs folder if not created already\n",
        "    if not os.path.exists(save_dir):\n",
        "        os.makedirs(save_dir)\n",
        "\n",
        "    print(\"Beginning training ...\")\n",
        "    if args.gpu:\n",
        "        cnn.cuda()\n",
        "    start = time.time()\n",
        "\n",
        "    train_losses = []\n",
        "    valid_losses = []\n",
        "    valid_accs = []\n",
        "    for epoch in range(args.epochs):\n",
        "        # Train the Model\n",
        "        cnn.train()  # Change model to 'train' mode\n",
        "        losses = []\n",
        "        for i, (xs, ys) in enumerate(get_batch(train_grey, train_rgb_cat, args.batch_size)):\n",
        "            images, labels = get_torch_vars(xs, ys, args.gpu)\n",
        "            # Forward + Backward + Optimize\n",
        "            optimizer.zero_grad()\n",
        "            outputs = cnn(images)\n",
        "\n",
        "            loss = compute_loss(\n",
        "                criterion, outputs, labels, batch_size=args.batch_size, num_colours=num_colours\n",
        "            )\n",
        "            loss.backward()\n",
        "            optimizer.step()\n",
        "            losses.append(loss.data.item())\n",
        "\n",
        "        # plot training images\n",
        "        if args.plot:\n",
        "            _, predicted = torch.max(outputs.data, 1, keepdim=True)\n",
        "            plot(\n",
        "                xs,\n",
        "                ys,\n",
        "                predicted.cpu().numpy(),\n",
        "                colours,\n",
        "                save_dir + \"/train_%d.png\" % epoch,\n",
        "                args.visualize,\n",
        "                args.downsize_input,\n",
        "            )\n",
        "\n",
        "        # plot training images\n",
        "        avg_loss = np.mean(losses)\n",
        "        train_losses.append(avg_loss)\n",
        "        time_elapsed = time.time() - start\n",
        "        print(\n",
        "            \"Epoch [%d/%d], Loss: %.4f, Time (s): %d\"\n",
        "            % (epoch + 1, args.epochs, avg_loss, time_elapsed)\n",
        "        )\n",
        "\n",
        "        # Evaluate the model\n",
        "        cnn.eval()  # Change model to 'eval' mode (BN uses moving mean/var).\n",
        "        val_loss, val_acc = run_validation_step(\n",
        "            cnn,\n",
        "            criterion,\n",
        "            test_grey,\n",
        "            test_rgb_cat,\n",
        "            args.batch_size,\n",
        "            colours,\n",
        "            save_dir + \"/test_%d.png\" % epoch,\n",
        "            args.visualize,\n",
        "            args.downsize_input,\n",
        "        )\n",
        "\n",
        "        time_elapsed = time.time() - start\n",
        "        valid_losses.append(val_loss)\n",
        "        valid_accs.append(val_acc)\n",
        "        print(\n",
        "            \"Epoch [%d/%d], Val Loss: %.4f, Val Acc: %.1f%%, Time(s): %.2f\"\n",
        "            % (epoch + 1, args.epochs, val_loss, val_acc, time_elapsed)\n",
        "        )\n",
        "\n",
        "    # Plot training curve\n",
        "    plt.figure()\n",
        "    plt.plot(train_losses, \"ro-\", label=\"Train\")\n",
        "    plt.plot(valid_losses, \"go-\", label=\"Validation\")\n",
        "    plt.legend()\n",
        "    plt.title(\"Loss\")\n",
        "    plt.xlabel(\"Epochs\")\n",
        "    plt.savefig(save_dir + \"/training_curve.png\")\n",
        "\n",
        "    if args.checkpoint:\n",
        "        print(\"Saving model...\")\n",
        "        torch.save(cnn.state_dict(), args.checkpoint)\n",
        "\n",
        "    return cnn"
      ]
    },
    {
      "cell_type": "markdown",
      "metadata": {
        "id": "vicMmF4WGF6t"
      },
      "source": [
        "## 4: Pooling and Upsampling"
      ]
    },
    {
      "cell_type": "markdown",
      "metadata": {
        "id": "LAqGXV0iK1G9"
      },
      "source": [
        "### 4.1 [0.5pt] [Type 1]\n",
        "\n",
        "Complete the `PoolUpsampleNet` CNN model following the architecture described in the assignment handout."
      ]
    },
    {
      "cell_type": "markdown",
      "metadata": {
        "id": "iDOflxsWM3uY"
      },
      "source": [
        "![image.png](data:image/png;base64,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)"
      ]
    },
    {
      "cell_type": "markdown",
      "metadata": {
        "id": "s8L5eIEF6BSa"
      },
      "source": [
        "In the diagram above, we denote the number of filters as **NF**. Further layers double the number of filters, denoted as **2NF**. In the final layers, the number of filters will be equivalent to the number of colour classes, denoted as **NC**. Consequently, your constructed neural network should define the number of input/output layers with respect to the variables `num_filters` and `num_colours`, as opposed to a constant value.\n",
        "\n",
        "\n",
        "The specific modules to use are listed below. If parameters are not otherwise specified, use the default PyTorch parameters.\n",
        "\n",
        "- [`nn.Conv2d`](https://pytorch.org/docs/stable/generated/torch.nn.Conv2d.html) — The number of input filters should match the second dimension of the _input_ tensor (e.g. the first `nn.Conv2d` layer has **NIC** input filters). The number of output filters should match the second dimension of the _output_ tensor (e.g. the first `nn.Conv2d` layer has **NF** output filters). Set kernel size to parameter `kernel`. Set padding to the `padding` variable included in the starter code.\n",
        "- [`nn.MaxPool2d`](https://pytorch.org/docs/stable/generated/torch.nn.MaxPool2d.html#torch.nn.MaxPool2d) — Use `kernel_size=2` for all layers.\n",
        "- [`nn.BatchNorm2d`](https://pytorch.org/docs/stable/generated/torch.nn.MaxPool2d.html#torch.nn.BatchNorm2d) — The number of features is specified after the hyphen in the diagram as a multiple of **NF** or **NC**.\n",
        "- [`nn.Upsample`](https://pytorch.org/docs/stable/generated/torch.nn.Upsample.html#torch.nn.Upsample) — Use `scaling_factor=2` for all layers.\n",
        "- [`nn.ReLU`](https://pytorch.org/docs/stable/generated/torch.nn.ReLU.html#torch.nn.ReLU)\n",
        "\n",
        "\n",
        "We recommend grouping each block of operations (those adjacent without whitespace in the diagram) into [`nn.Sequential`](https://pytorch.org/docs/stable/generated/torch.nn.Sequential.html#torch.nn.Sequential) containers. Grouping up relevant operations will allow for easier implementation of the `forward` method."
      ]
    },
    {
      "cell_type": "code",
      "execution_count": 8,
      "metadata": {
        "id": "XoM5Lv4y3ZPJ"
      },
      "outputs": [],
      "source": [
        "class PoolUpsampleNet(nn.Module):\n",
        "    def __init__(self, kernel, num_filters, num_colours, num_in_channels):\n",
        "        super().__init__()\n",
        "\n",
        "        # Useful parameters\n",
        "        padding = kernel // 2\n",
        "\n",
        "        ############### YOUR CODE GOES HERE ############### \n",
        "        ###################################################\n",
        "        self.block1 = nn.Sequential(\n",
        "        nn.Conv2d(num_in_channels, num_filters, kernel, padding=padding),\n",
        "        nn.MaxPool2d(2),\n",
        "        nn.BatchNorm2d(num_filters),\n",
        "        nn.ReLU())\n",
        "        self.block2 = nn.Sequential(\n",
        "        nn.Conv2d(num_filters, 2 * num_filters, kernel, padding=padding),\n",
        "        nn.MaxPool2d(2),\n",
        "        nn.BatchNorm2d(2 * num_filters),\n",
        "        nn.ReLU())\n",
        "        self.block3 = nn.Sequential(\n",
        "        nn.Conv2d(2 * num_filters, num_filters, kernel, padding=padding),\n",
        "        nn.Upsample(scale_factor=2),\n",
        "        nn.BatchNorm2d(num_filters),\n",
        "        nn.ReLU())\n",
        "        self.block4 = nn.Sequential(\n",
        "        nn.Conv2d(num_filters, num_colours, kernel, padding=padding),\n",
        "        nn.Upsample(scale_factor=2),\n",
        "        nn.BatchNorm2d(num_colours),\n",
        "        nn.ReLU())\n",
        "        self.block5 = nn.Conv2d(num_colours, num_colours,\n",
        "        kernel, padding=padding)\n",
        "    def forward(self, x):\n",
        "        ############### YOUR CODE GOES HERE ###############\n",
        "        ###################################################\n",
        "        x = self.block1(x)\n",
        "        x = self.block2(x)\n",
        "        x = self.block3(x)\n",
        "        x = self.block4(x)\n",
        "        x = self.block5(x)\n",
        "        return x"
      ]
    },
    {
      "cell_type": "markdown",
      "metadata": {
        "id": "CTZWiuxMjQTB"
      },
      "source": [
        "### 4.2 [0.5pt] [Type 4]\n",
        "\n",
        "Run main training loop of `PoolUpsampleNet`. This will train the CNN for a few epochs using the cross-entropy objective. It will generate some images showing the trained result at the end. Do these results look good to you? Why or why not?"
      ]
    },
    {
      "cell_type": "code",
      "execution_count": 9,
      "metadata": {
        "id": "s7KtLv5c30kU",
        "outputId": "c34f6d25-7b63-4b13-a03f-2338020943a0",
        "colab": {
          "base_uri": "https://localhost:8080/",
          "height": 0
        }
      },
      "outputs": [
        {
          "output_type": "stream",
          "name": "stdout",
          "text": [
            "Loading data...\n",
            "File path: data/cifar-10-batches-py.tar.gz\n",
            "Transforming data...\n",
            "Beginning training ...\n",
            "Epoch [1/25], Loss: 2.4461, Time (s): 8\n",
            "Epoch [1/25], Val Loss: 2.1461, Val Acc: 28.1%, Time(s): 8.96\n",
            "Epoch [2/25], Loss: 1.9978, Time (s): 9\n",
            "Epoch [2/25], Val Loss: 1.9060, Val Acc: 34.0%, Time(s): 9.83\n",
            "Epoch [3/25], Loss: 1.8761, Time (s): 10\n",
            "Epoch [3/25], Val Loss: 1.8107, Val Acc: 36.1%, Time(s): 10.73\n",
            "Epoch [4/25], Loss: 1.8142, Time (s): 11\n",
            "Epoch [4/25], Val Loss: 1.7636, Val Acc: 37.1%, Time(s): 11.68\n",
            "Epoch [5/25], Loss: 1.7747, Time (s): 12\n",
            "Epoch [5/25], Val Loss: 1.7324, Val Acc: 37.8%, Time(s): 12.70\n",
            "Epoch [6/25], Loss: 1.7467, Time (s): 13\n",
            "Epoch [6/25], Val Loss: 1.7098, Val Acc: 38.3%, Time(s): 13.95\n",
            "Epoch [7/25], Loss: 1.7257, Time (s): 14\n",
            "Epoch [7/25], Val Loss: 1.6947, Val Acc: 38.7%, Time(s): 15.17\n",
            "Epoch [8/25], Loss: 1.7089, Time (s): 15\n",
            "Epoch [8/25], Val Loss: 1.6809, Val Acc: 38.9%, Time(s): 16.25\n",
            "Epoch [9/25], Loss: 1.6950, Time (s): 17\n",
            "Epoch [9/25], Val Loss: 1.6715, Val Acc: 39.1%, Time(s): 17.35\n",
            "Epoch [10/25], Loss: 1.6833, Time (s): 18\n",
            "Epoch [10/25], Val Loss: 1.6628, Val Acc: 39.3%, Time(s): 18.47\n",
            "Epoch [11/25], Loss: 1.6733, Time (s): 19\n",
            "Epoch [11/25], Val Loss: 1.6541, Val Acc: 39.5%, Time(s): 19.67\n",
            "Epoch [12/25], Loss: 1.6643, Time (s): 20\n",
            "Epoch [12/25], Val Loss: 1.6482, Val Acc: 39.6%, Time(s): 20.89\n",
            "Epoch [13/25], Loss: 1.6565, Time (s): 21\n",
            "Epoch [13/25], Val Loss: 1.6396, Val Acc: 39.8%, Time(s): 22.12\n",
            "Epoch [14/25], Loss: 1.6491, Time (s): 23\n",
            "Epoch [14/25], Val Loss: 1.6309, Val Acc: 40.1%, Time(s): 23.37\n",
            "Epoch [15/25], Loss: 1.6418, Time (s): 24\n",
            "Epoch [15/25], Val Loss: 1.6247, Val Acc: 40.2%, Time(s): 24.67\n",
            "Epoch [16/25], Loss: 1.6348, Time (s): 25\n",
            "Epoch [16/25], Val Loss: 1.6185, Val Acc: 40.3%, Time(s): 26.35\n",
            "Epoch [17/25], Loss: 1.6284, Time (s): 27\n",
            "Epoch [17/25], Val Loss: 1.6132, Val Acc: 40.5%, Time(s): 27.94\n",
            "Epoch [18/25], Loss: 1.6226, Time (s): 28\n",
            "Epoch [18/25], Val Loss: 1.6054, Val Acc: 40.7%, Time(s): 29.37\n",
            "Epoch [19/25], Loss: 1.6173, Time (s): 30\n",
            "Epoch [19/25], Val Loss: 1.6029, Val Acc: 40.7%, Time(s): 30.82\n",
            "Epoch [20/25], Loss: 1.6124, Time (s): 31\n",
            "Epoch [20/25], Val Loss: 1.5975, Val Acc: 40.9%, Time(s): 32.29\n",
            "Epoch [21/25], Loss: 1.6080, Time (s): 33\n",
            "Epoch [21/25], Val Loss: 1.5938, Val Acc: 41.0%, Time(s): 33.81\n",
            "Epoch [22/25], Loss: 1.6038, Time (s): 34\n",
            "Epoch [22/25], Val Loss: 1.5944, Val Acc: 40.9%, Time(s): 35.36\n",
            "Epoch [23/25], Loss: 1.5999, Time (s): 36\n",
            "Epoch [23/25], Val Loss: 1.5911, Val Acc: 41.0%, Time(s): 37.04\n",
            "Epoch [24/25], Loss: 1.5962, Time (s): 38\n",
            "Epoch [24/25], Val Loss: 1.5887, Val Acc: 41.1%, Time(s): 39.10\n",
            "Epoch [25/25], Loss: 1.5927, Time (s): 40\n",
            "Epoch [25/25], Val Loss: 1.5863, Val Acc: 41.1%, Time(s): 40.76\n"
          ]
        },
        {
          "output_type": "display_data",
          "data": {
            "text/plain": [
              "<Figure size 432x288 with 1 Axes>"
            ],
            "image/png": "[encoded data removed]"
          },
          "metadata": {
            "needs_background": "light"
          }
        },
        {
          "output_type": "display_data",
          "data": {
            "text/plain": [
              "<Figure size 432x288 with 1 Axes>"
            ],
            "image/png": "[encoded data removed]"
          },
          "metadata": {
            "needs_background": "light"
          }
        }
      ],
      "source": [
        "args = AttrDict()\n",
        "args_dict = {\n",
        "    \"gpu\": True,\n",
        "    \"valid\": False,\n",
        "    \"checkpoint\": \"\",\n",
        "    \"colours\": \"./data/colours/colour_kmeans24_cat7.npy\",\n",
        "    \"model\": \"PoolUpsampleNet\",\n",
        "    \"kernel\": 3,\n",
        "    \"num_filters\": 32,\n",
        "    'learn_rate':0.001, \n",
        "    \"batch_size\": 100,\n",
        "    \"epochs\": 25,\n",
        "    \"seed\": 0,\n",
        "    \"plot\": True,\n",
        "    \"experiment_name\": \"colourization_cnn\",\n",
        "    \"visualize\": False,\n",
        "    \"downsize_input\": False,\n",
        "}\n",
        "args.update(args_dict)\n",
        "cnn = train(args)"
      ]
    },
    {
      "cell_type": "markdown",
      "metadata": {
        "id": "3SdryHvyGci5"
      },
      "source": [
        "### 4.3 [1.0pt] [Type 3]\n",
        "\n",
        "See assignment handout."
      ]
    },
    {
      "cell_type": "markdown",
      "metadata": {
        "id": "x4UgVSNGGOAf"
      },
      "source": [
        "## 5 Strided and Transposed Dilated Convolutions"
      ]
    },
    {
      "cell_type": "markdown",
      "metadata": {
        "id": "LwJu-9EoR0JZ"
      },
      "source": [
        "### 5.1 [0.5pt] [Type 1]\n",
        "\n",
        "Complete the `ConvTransposeNet` CNN model following the architecture described in the assignment handout."
      ]
    },
    {
      "cell_type": "markdown",
      "metadata": {
        "id": "B8FeVwEmR3cU"
      },
      "source": [
        "![image.png](data:image/png;base64,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)"
      ]
    },
    {
      "cell_type": "markdown",
      "metadata": {
        "id": "8IImg1gbVUNX"
      },
      "source": [
        "An excellent visualization of convolutions and transposed convolutions with strides can be found here: <https://github.com/vdumoulin/conv_arithmetic>.\n",
        "\n",
        "The specific modules to use are listed below. If parameters are not otherwise specified, use the default PyTorch parameters.\n",
        "\n",
        "- [`nn.Conv2d`](https://pytorch.org/docs/stable/generated/torch.nn.Conv2d.html) — The number of input and output filters, and the kernel size, should be set in the same way as Section 4. For the first two `nn.Conv2d` layers, set `stride` to 2 and set `padding` to 1.\n",
        "- [`nn.BatchNorm2d`](https://pytorch.org/docs/stable/generated/torch.nn.MaxPool2d.html#torch.nn.BatchNorm2d) — The number of features should be specified in the same way as for Section 4.\n",
        "- [`nn.ConvTranspose2d`](https://pytorch.org/docs/stable/generated/torch.nn.ConvTranspose2d.html) — The number of input filters should match the second dimension of the _input_ tensor. The number of output filters should match the second dimension of the _output_ tensor. Set `kernel_size` to parameter `kernel`. Set `stride` to 2, set `dilation` to 1, and set both `padding` and `output_padding` to 1.\n",
        "- [`nn.ReLU`](https://pytorch.org/docs/stable/generated/torch.nn.ReLU.html#torch.nn.ReLU)"
      ]
    },
    {
      "cell_type": "code",
      "execution_count": 10,
      "metadata": {
        "id": "sSRh5tFR5cmQ"
      },
      "outputs": [],
      "source": [
        "class ConvTransposeNet(nn.Module):\n",
        "    def __init__(self, kernel, num_filters, num_colours, num_in_channels):\n",
        "        super().__init__()\n",
        "\n",
        "        # Useful parameters\n",
        "        stride = 2\n",
        "        padding = kernel // 2\n",
        "        output_padding = 1\n",
        "\n",
        "        ############### YOUR CODE GOES HERE ############### \n",
        "        ###################################################\n",
        "        self.downconv1 = nn.Sequential(\n",
        "        nn.Conv2d(num_in_channels,\n",
        "        num_filters,\n",
        "        kernel_size=kernel,\n",
        "        padding=padding,\n",
        "        stride=stride\n",
        "        ),\n",
        "        nn.BatchNorm2d(num_filters),\n",
        "        nn.ReLU(),\n",
        "        )\n",
        "        self.downconv2 = nn.Sequential(\n",
        "        nn.Conv2d(\n",
        "        num_filters,\n",
        "        num_filters * 2,\n",
        "        kernel_size=kernel,\n",
        "        padding=padding,\n",
        "        stride=stride\n",
        "        ),\n",
        "        nn.BatchNorm2d(num_filters*2),\n",
        "        nn.ReLU(),\n",
        "        )\n",
        "        self.upconv1 = nn.Sequential(\n",
        "        nn.ConvTranspose2d(\n",
        "        num_filters * 2,\n",
        "        num_filters,\n",
        "        kernel_size=kernel,\n",
        "        padding=padding,\n",
        "        stride=stride,\n",
        "        output_padding=output_padding\n",
        "        ),\n",
        "        nn.BatchNorm2d(num_filters),\n",
        "        nn.ReLU(),\n",
        "        )\n",
        "        self.upconv2 = nn.Sequential(\n",
        "        nn.ConvTranspose2d(\n",
        "        num_filters,\n",
        "        num_colours,\n",
        "        kernel_size=kernel,\n",
        "        padding=padding,\n",
        "        stride=stride,\n",
        "        output_padding=output_padding\n",
        "        ),\n",
        "        nn.BatchNorm2d(num_colours),\n",
        "        nn.ReLU(),\n",
        "        )\n",
        "        self.finalconv = nn.Conv2d(\n",
        "        num_colours,\n",
        "        num_colours,\n",
        "        kernel_size=kernel,\n",
        "        padding=padding\n",
        "      )\n",
        "    def forward(self, x):\n",
        "        ############### YOUR CODE GOES HERE ###############\n",
        "        ###################################################\n",
        "        x = self.downconv1(x)\n",
        "        x = self.downconv2(x)\n",
        "        x = self.upconv1(x)\n",
        "        x = self.upconv2(x)\n",
        "        x = self.finalconv(x)\n",
        "        return x"
      ]
    },
    {
      "cell_type": "markdown",
      "metadata": {
        "id": "uL8vT5OMSY9A"
      },
      "source": [
        "### 5.2 [0.5pt] [Type 4]\n",
        "\n",
        "Train the model for at least 25 epochs using a batch size of 100 and a kernel size of 3. Plot the training curve, and include this plot in your write-up. How do the results compare to the previous model?"
      ]
    },
    {
      "cell_type": "code",
      "execution_count": null,
      "metadata": {
        "id": "vXLe3bb6SZIi"
      },
      "outputs": [],
      "source": [
        "args = AttrDict()\n",
        "args_dict = {\n",
        "    \"gpu\": True,\n",
        "    \"valid\": False,\n",
        "    \"checkpoint\": \"\",\n",
        "    \"colours\": \"./data/colours/colour_kmeans24_cat7.npy\",\n",
        "    \"model\": \"ConvTransposeNet\",\n",
        "    \"kernel\": 3,\n",
        "    \"num_filters\": 32,\n",
        "    'learn_rate':0.001, \n",
        "    \"batch_size\": 100,\n",
        "    \"epochs\": 25,\n",
        "    \"seed\": 0,\n",
        "    \"plot\": True,\n",
        "    \"experiment_name\": \"colourization_cnn\",\n",
        "    \"visualize\": False,\n",
        "    \"downsize_input\": False,\n",
        "}\n",
        "args.update(args_dict)\n",
        "cnn = train(args)"
      ]
    },
    {
      "cell_type": "markdown",
      "metadata": {
        "id": "6ULBGo6oNp2o"
      },
      "source": [
        "### 5.3 – 5.5\n",
        "\n",
        "See assignment handout."
      ]
    },
    {
      "cell_type": "markdown",
      "metadata": {
        "id": "Rb7Agthjf9qs"
      },
      "source": [
        "## 6 Skip Connections\n",
        "\n",
        "\n",
        "A skip connection in a neural network is a connection which skips one or more layer and connects\n",
        "to a later layer. We will introduce skip connections to our previous model."
      ]
    },
    {
      "cell_type": "markdown",
      "metadata": {
        "id": "uITQrz2HRZy_"
      },
      "source": [
        "### 6.1 [0.5pt] [Type 1]"
      ]
    },
    {
      "cell_type": "markdown",
      "metadata": {
        "id": "w2xAzPV2SicI"
      },
      "source": [
        "![image.png](data:image/png;base64,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)"
      ]
    },
    {
      "cell_type": "markdown",
      "metadata": {
        "id": "C_DIdxbBgSjL"
      },
      "source": [
        "In this question, we will be adding a skip connection from the first layer to the last, second layer to the second last, etc. That is, the final convolution should have both the output of the previous layer and the initial greyscale input as input. This type of skip-connection is introduced by [Ronneberger et al.[2015]](https://arxiv.org/abs/1505.04597), and is called a ”UNet”. \n",
        "\n",
        "Just like the `ConvTransposeNet` class that you have completed in the previous part, complete the `__init__` and `forward` methods methods of the `UNet` class below.\n",
        "\n",
        "Hint: You will need to use the function `torch.cat`."
      ]
    },
    {
      "cell_type": "code",
      "execution_count": null,
      "metadata": {
        "id": "Fo0lBy8GDcbc"
      },
      "outputs": [],
      "source": [
        "class UNet(nn.Module):\n",
        "    def __init__(self, kernel, num_filters, num_colours, num_in_channels):\n",
        "        super().__init__()\n",
        "\n",
        "        # Useful parameters\n",
        "        stride = 2\n",
        "        padding = kernel // 2\n",
        "        output_padding = 1\n",
        "\n",
        "        ############### YOUR CODE GOES HERE ############### \n",
        "        ###################################################\n",
        "\n",
        "    def forward(self, x):\n",
        "        ############### YOUR CODE GOES HERE ###############\n",
        "        ###################################################"
      ]
    },
    {
      "cell_type": "markdown",
      "metadata": {
        "id": "KDCGvYMhgeFG"
      },
      "source": [
        "### 6.2 [0.5pt] [Type 4]\n",
        "\n",
        "Train the model for at least 25 epochs using a batch size of 100 and a kernel size of 3. Plot the training curve, and include this plot in your write-up."
      ]
    },
    {
      "cell_type": "code",
      "execution_count": null,
      "metadata": {
        "id": "2-vGs7qHndmY"
      },
      "outputs": [],
      "source": [
        "args = AttrDict()\n",
        "args_dict = {\n",
        "    \"gpu\": True,\n",
        "    \"valid\": False,\n",
        "    \"checkpoint\": \"\",\n",
        "    \"colours\": \"./data/colours/colour_kmeans24_cat7.npy\",\n",
        "    \"model\": \"UNet\",\n",
        "    \"kernel\": 3,\n",
        "    \"num_filters\": 32,\n",
        "    'learn_rate':0.001, \n",
        "    \"batch_size\": 100,\n",
        "    \"epochs\": 25,\n",
        "    \"seed\": 0,\n",
        "    \"plot\": True,\n",
        "    \"experiment_name\": \"colourization_cnn\",\n",
        "    \"visualize\": False,\n",
        "    \"downsize_input\": False,\n",
        "}\n",
        "args.update(args_dict)\n",
        "cnn = train(args)"
      ]
    },
    {
      "cell_type": "markdown",
      "metadata": {
        "id": "c7S8D4rglqaj"
      },
      "source": [
        "### 6.3 [1.0pt] [Type 3]\n",
        "\n",
        "See assignment handout."
      ]
    }
  ],
  "metadata": {
    "accelerator": "GPU",
    "colab": {
      "provenance": []
    },
    "kernelspec": {
      "display_name": "Python 3",
      "language": "python",
      "name": "python3"
    },
    "language_info": {
      "codemirror_mode": {
        "name": "ipython",
        "version": 3
      },
      "file_extension": ".py",
      "mimetype": "text/x-python",
      "name": "python",
      "nbconvert_exporter": "python",
      "pygments_lexer": "ipython3",
      "version": "3.8.6"
    }
  },
  "nbformat": 4,
  "nbformat_minor": 0
}