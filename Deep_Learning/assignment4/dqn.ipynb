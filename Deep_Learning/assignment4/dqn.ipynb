{
  "cells": [
    {
      "cell_type": "markdown",
      "metadata": {
        "id": "V3szwJAdaoQa"
      },
      "source": [
        "## Enable rendering OpenAI Gym environments from CoLab\n",
        "\n",
        "In this assignemnt, We will use [OpenAI Gym](https://gym.openai.com/) for rendering game envionment for our agent to play and learn. It is possible and important to visualize the game your agent is playing, even on Colab. This section imports the necessary package and functions needed to generate a video in Colab. The video processing steps credit to [here](https://colab.research.google.com/drive/1flu31ulJlgiRL1dnN2ir8wGh9p7Zij2t)."
      ]
    },
    {
      "cell_type": "code",
      "execution_count": 1,
      "metadata": {
        "colab": {
          "base_uri": "https://localhost:8080/"
        },
        "id": "M9fFfA-gb8oC",
        "outputId": "8f55e462-512f-4ba8-9aa0-f817ece2564f"
      },
      "outputs": [
        {
          "output_type": "stream",
          "name": "stdout",
          "text": [
            "Looking in indexes: https://pypi.org/simple, https://us-python.pkg.dev/colab-wheels/public/simple/\n",
            "Requirement already satisfied: setuptools in /usr/local/lib/python3.9/dist-packages (67.6.0)\n",
            "Collecting setuptools\n",
            "  Downloading setuptools-67.6.1-py3-none-any.whl (1.1 MB)\n",
            "\u001b[2K     \u001b[90m━━━━━━━━━━━━━━━━━━━━━━━━━━━━━━━━━━━━━━━━\u001b[0m \u001b[32m1.1/1.1 MB\u001b[0m \u001b[31m8.6 MB/s\u001b[0m eta \u001b[36m0:00:00\u001b[0m\n",
            "\u001b[?25hInstalling collected packages: setuptools\n",
            "  Attempting uninstall: setuptools\n",
            "    Found existing installation: setuptools 67.6.0\n",
            "    Uninstalling setuptools-67.6.0:\n",
            "      Successfully uninstalled setuptools-67.6.0\n",
            "\u001b[31mERROR: pip's dependency resolver does not currently take into account all the packages that are installed. This behaviour is the source of the following dependency conflicts.\n",
            "ipython 7.9.0 requires jedi>=0.10, which is not installed.\u001b[0m\u001b[31m\n",
            "\u001b[0mSuccessfully installed setuptools-67.6.1\n"
          ]
        }
      ],
      "source": [
        "# You will need to run this block twice to make it effective\n",
        "!apt-get update > /dev/null 2>&1\n",
        "!apt-get install cmake > /dev/null 2>&1\n",
        "!pip install --upgrade setuptools 2>&1\n",
        "!pip install ez_setup > /dev/null 2>&1\n",
        "!pip install gym[atari] > /dev/null 2>&1\n",
        "!pip install box2d-py > /dev/null 2>&1\n",
        "!pip install gym[Box_2D] > /dev/null 2>&1"
      ]
    },
    {
      "cell_type": "code",
      "execution_count": 2,
      "metadata": {
        "id": "NE1QQOVX27dp"
      },
      "outputs": [],
      "source": [
        "!pip install gym==0.15.3 pyvirtualdisplay > /dev/null 2>&1\n",
        "!apt-get install -y xvfb python-opengl ffmpeg > /dev/null 2>&1"
      ]
    },
    {
      "cell_type": "markdown",
      "metadata": {
        "id": "QfTPg6uZckCm"
      },
      "source": [
        "Import openAI gym and define the functions used to show the video."
      ]
    },
    {
      "cell_type": "code",
      "execution_count": 3,
      "metadata": {
        "id": "JLl9cs6ncAf0"
      },
      "outputs": [],
      "source": [
        "import gym\n",
        "from gym.wrappers import Monitor\n",
        "import glob\n",
        "import io\n",
        "import base64\n",
        "from IPython.display import HTML\n",
        "from pyvirtualdisplay import Display\n",
        "from IPython import display as ipythondisplay\n",
        "\n",
        "display = Display(visible=0, size=(1400, 900))\n",
        "display.start()\n",
        "\n",
        "\"\"\"\n",
        "Utility functions to enable video recording of gym environment \n",
        "and displaying it.\n",
        "To enable video, just do \"env = wrap_env(env)\"\"\n",
        "\"\"\"\n",
        "\n",
        "def show_video():\n",
        "  mp4list = glob.glob('video/*.mp4')\n",
        "  if len(mp4list) > 0:\n",
        "    mp4 = mp4list[0]\n",
        "    video = io.open(mp4, 'r+b').read()\n",
        "    encoded = base64.b64encode(video)\n",
        "    ipythondisplay.display(HTML(data='''<video alt=\"test\" autoplay \n",
        "                loop controls style=\"height: 400px;\">\n",
        "                <source src=\"data:video/mp4;base64,{0}\" type=\"video/mp4\" />\n",
        "             </video>'''.format(encoded.decode('ascii'))))\n",
        "  else: \n",
        "    print(\"Could not find video\")\n",
        "    \n",
        "\n",
        "def wrap_env(env):\n",
        "  env = Monitor(env, './video', force=True)\n",
        "  return env"
      ]
    },
    {
      "cell_type": "markdown",
      "metadata": {
        "id": "UHkrflTWakKd"
      },
      "source": [
        "Import other packages:\n",
        "\n",
        "We will use Pytorch for building and learning our DQN network."
      ]
    },
    {
      "cell_type": "code",
      "execution_count": 4,
      "metadata": {
        "id": "9KvZYSl6RrzD"
      },
      "outputs": [],
      "source": [
        "import torch\n",
        "from torch import nn\n",
        "import copy\n",
        "from collections import deque\n",
        "import random\n",
        "from tqdm import tqdm\n",
        "import matplotlib.pyplot as plt\n",
        "\n",
        "random.seed(42)"
      ]
    },
    {
      "cell_type": "markdown",
      "metadata": {
        "id": "zrLGCk-3ditk"
      },
      "source": [
        "## Run the game with random agent."
      ]
    },
    {
      "cell_type": "code",
      "execution_count": 5,
      "metadata": {
        "id": "ZMcGALcWeWfh",
        "outputId": "fa1fa733-3a44-40b5-ae54-c77cf704a2ed",
        "colab": {
          "base_uri": "https://localhost:8080/",
          "height": 456
        }
      },
      "outputs": [
        {
          "output_type": "stream",
          "name": "stderr",
          "text": [
            "100%|██████████| 20/20 [00:06<00:00,  3.00it/s]"
          ]
        },
        {
          "output_type": "stream",
          "name": "stdout",
          "text": [
            "average reward per episode : 22.4\n"
          ]
        },
        {
          "output_type": "stream",
          "name": "stderr",
          "text": [
            "\n"
          ]
        },
        {
          "output_type": "display_data",
          "data": {
            "text/plain": [
              "<IPython.core.display.HTML object>"
            ],
            "text/html": [
              "<video alt=\"test\" autoplay \n",
              "                loop controls style=\"height: 400px;\">\n",
              "                <source src=\"data:video/mp4;base64,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\" type=\"video/mp4\" />\n",
              "             </video>"
            ]
          },
          "metadata": {}
        }
      ],
      "source": [
        "from torch import randint\n",
        "from time import sleep\n",
        "\n",
        "env = wrap_env(gym.make('CartPole-v1'))\n",
        "reward_arr = []\n",
        "episode_count = 20\n",
        "for i in tqdm(range(episode_count)):\n",
        "    obs, done, rew = env.reset(), False, 0\n",
        "    env.render()\n",
        "    while not done:\n",
        "        A = randint(0, env.action_space.n, (1,))\n",
        "        obs, reward, done, info = env.step(A.item())\n",
        "        rew += reward\n",
        "        sleep(0.01)\n",
        "    reward_arr.append(rew)\n",
        "print(\"average reward per episode :\", sum(reward_arr) / len(reward_arr))\n",
        "env.close()\n",
        "show_video()"
      ]
    },
    {
      "cell_type": "markdown",
      "metadata": {
        "id": "Ope0zHAjfXQh"
      },
      "source": [
        "The episode ends when the pole is more than 15 degrees from vertical, or the cart moves more than 2.4 units from the center. The video is short (< 1s) because the pole loses balance immediately. \n",
        "\n",
        "You can see that a random agent is having trouble balancing the CartPole, just like you. However, a difficult game for human may be very simple to a computer. Let's see how we can use DQN to train a agent. "
      ]
    },
    {
      "cell_type": "markdown",
      "metadata": {
        "id": "OjP_2jn3SFgv"
      },
      "source": [
        "## Experience Replay\n",
        "\n",
        "The technique of experience replay was first proposed in to resolve temporal correlation in the input data by mixing recent experiences as well past experiences, essentially forcing the input to become independent and identically distributed (i.i.d.). It has been shown that this greatly stabilizes\n",
        "and improves the DQN training procedure."
      ]
    },
    {
      "cell_type": "code",
      "execution_count": 6,
      "metadata": {
        "id": "SoxW1Jlnk8mS"
      },
      "outputs": [],
      "source": [
        "class ExperienceReplay(object):\n",
        "      def __init__(self, length):\n",
        "        self.experience_replay = deque(maxlen=length)\n",
        "\n",
        "      def collect(self, experience):\n",
        "        self.experience_replay.append(experience)\n",
        "        return\n",
        "\n",
        "      def sample_from_experience(self, sample_size):\n",
        "        if len(self.experience_replay) < sample_size:\n",
        "            sample_size = len(self.experience_replay)\n",
        "        sample = random.sample(self.experience_replay, sample_size)\n",
        "        state = torch.tensor([exp[0] for exp in sample]).float()\n",
        "        action = torch.tensor([exp[1] for exp in sample]).float()\n",
        "        reward = torch.tensor([exp[2] for exp in sample]).float()\n",
        "        next_state = torch.tensor([exp[3] for exp in sample]).float()\n",
        "        return state, action, reward, next_state\n"
      ]
    },
    {
      "cell_type": "markdown",
      "metadata": {
        "id": "CgXwmV2im4Sx"
      },
      "source": [
        "## Build our DQN Network\n",
        "\n",
        "We will use a simple multi-layer neural network to learn the optimal actions. We will use Adam Optimizor and MSE loss for training. **Notice that the loss function and gamma is given to you in the class attribute.** "
      ]
    },
    {
      "cell_type": "code",
      "execution_count": 7,
      "metadata": {
        "id": "Wmd1pfuRm7MQ"
      },
      "outputs": [],
      "source": [
        "class DQN_Network:\n",
        "\n",
        "    def __init__(self, layer_size_list, lr, seed=1423):\n",
        "        torch.manual_seed(seed)\n",
        "        self.policy_net = self.create_network(layer_size_list)\n",
        "        self.target_net = copy.deepcopy(self.policy_net)\n",
        "  \n",
        "        self.loss_fn = torch.nn.MSELoss() # the loss function\n",
        "        self.optimizer = torch.optim.Adam(self.policy_net.parameters(), lr=lr)\n",
        "\n",
        "        self.step = 0\n",
        "        self.gamma = torch.tensor(0.95).float()\n",
        "        return\n",
        "\n",
        "    def create_network(self, layer_size_list):\n",
        "        assert len(layer_size_list) > 1\n",
        "\n",
        "        layers = []\n",
        "        for i in range(len(layer_size_list) - 1):\n",
        "            linear = nn.Linear(layer_size_list[i], layer_size_list[i + 1])\n",
        "\n",
        "            if i < len(layer_size_list) - 2:\n",
        "              activation = nn.Tanh()\n",
        "            else:\n",
        "              activation = nn.Identity()\n",
        "\n",
        "            layers += (linear, activation)\n",
        "        return nn.Sequential(*layers)\n",
        "\n",
        "    def load_pretrained_model(self, model_path):\n",
        "        self.policy_net.load_state_dict(torch.load(model_path))\n",
        "\n",
        "    def save_trained_model(self, model_path=\"cartpole-dqn.pth\"):\n",
        "        torch.save(self.policy_net.state_dict(), model_path)\n"
      ]
    },
    {
      "cell_type": "markdown",
      "metadata": {
        "id": "xKVV16YctASm"
      },
      "source": [
        "## **[Your task]**: complete the function that chooses the next action\n",
        "\n",
        "Choose next action based on **$\\epsilon$-greedy**:\n",
        "\n",
        "\\begin{align}\\text{where} \\quad \\mathcal{a_{t+1}} = \\begin{cases}\n",
        "     \\text{argmax}_{a}Q(a, s)  & \\text{with probability }: 1 - \\epsilon, \\text{exploitation}\\\\\n",
        "     \\text{Uniform}\\{a_{1},...,a_{n}\\} & \\text{with probability}:   \\epsilon, \\text{exploration} \\\\\n",
        "   \\end{cases}\\end{align}"
      ]
    },
    {
      "cell_type": "code",
      "execution_count": 8,
      "metadata": {
        "id": "iE0gVweYs8xW"
      },
      "outputs": [],
      "source": [
        "def get_action(model, state, action_space_len, epsilon):\n",
        "    # We do not require gradient at this point, because this function will be used either\n",
        "    # during experience collection or during inference\n",
        "\n",
        "    with torch.no_grad():\n",
        "        Qp = model.policy_net(torch.from_numpy(state).float())\n",
        "\n",
        "    ## TODO: select and return action based on epsilon-greedy\n",
        "    Q, A = torch.max(Qp, axis=0)\n",
        "    if torch.rand(1, ).item() > epsilon:\n",
        "      A = A\n",
        "    else:\n",
        "      A = torch.randint(0, action_space_len, (1,))\n",
        "    return A\n",
        "    "
      ]
    },
    {
      "cell_type": "markdown",
      "metadata": {
        "id": "iF9a5-IbazjQ"
      },
      "source": [
        "### **[Your task]**: complete the function that train the network for one step\n",
        "\n",
        "Here, you can find an ``train`` function that performs a\n",
        "single step of the optimization. \n",
        "\n",
        "For our training update rule, the loss you are trying to minimize is:\n",
        "\n",
        "\\begin{align}\\text{loss} = Q(s, a) - (r + \\gamma \\max_a Q(s', a))\\end{align}"
      ]
    },
    {
      "cell_type": "code",
      "execution_count": 9,
      "metadata": {
        "id": "mtx4FAiab0Hp"
      },
      "outputs": [],
      "source": [
        "def train(model, batch_size):\n",
        "    state, action, reward, next_state = memory.sample_from_experience(sample_size=batch_size)\n",
        "   \n",
        "    ############# My implementation starts here ##################################\n",
        "    # TODO: predict expected return of current state using main network\n",
        "\n",
        "    qp = model.policy_net(state)\n",
        "    pred_return,_ = torch.max(qp, axis=1)\n",
        "\n",
        "    # TODO: get target return using target network\n",
        "    qp_next = model.target_net(next_state)\n",
        "    q_next, _ = torch.max(qp_next, axis=1)\n",
        "    target_return = reward + model.gamma * q_next\n",
        "\n",
        "    # TODO: compute the loss\n",
        "    loss = model.loss_fn(pred_return, target_return)\n",
        "\n",
        "    ####################### My implementation ends here ############################\n",
        "\n",
        "    model.optimizer.zero_grad()\n",
        "    loss.backward(retain_graph=True)\n",
        "    model.optimizer.step()\n",
        "\n",
        "    model.step += 1\n",
        "    if model.step % 5 == 0:\n",
        "        model.target_net.load_state_dict(model.policy_net.state_dict())\n",
        "\n",
        "    return loss.item()"
      ]
    },
    {
      "cell_type": "markdown",
      "metadata": {
        "id": "uskoe87Uz-Jg"
      },
      "source": [
        "### **[Your task]**: Finish the training loop\n",
        "\n",
        "In this part, you can play around with ```exp_replay_size```, ```episode```, ```epsilon``` and the \"episodo decay\" logic to train your model. **If you have done correctly, you will observe that the training time for the latter episodes is longer than the early episodes. This is because your agent is getting better and better at playing the game and thus each episode takes longer**"
      ]
    },
    {
      "cell_type": "code",
      "execution_count": 10,
      "metadata": {
        "id": "3NfNnyD6SPpN",
        "outputId": "f2ce7b73-c4a3-40b7-e513-a2ed3128359f",
        "colab": {
          "base_uri": "https://localhost:8080/"
        }
      },
      "outputs": [
        {
          "output_type": "stream",
          "name": "stderr",
          "text": [
            "  0%|          | 0/8000 [00:00<?, ?it/s]<ipython-input-6-6c1cb76f3791>:13: UserWarning: Creating a tensor from a list of numpy.ndarrays is extremely slow. Please consider converting the list to a single numpy.ndarray with numpy.array() before converting to a tensor. (Triggered internally at ../torch/csrc/utils/tensor_new.cpp:230.)\n",
            "  state = torch.tensor([exp[0] for exp in sample]).float()\n",
            "100%|██████████| 8000/8000 [01:31<00:00, 87.59it/s]"
          ]
        },
        {
          "output_type": "stream",
          "name": "stdout",
          "text": [
            "Saving trained model\n"
          ]
        },
        {
          "output_type": "stream",
          "name": "stderr",
          "text": [
            "\n"
          ]
        }
      ],
      "source": [
        "# Create the model\n",
        "env = gym.make('CartPole-v0')\n",
        "input_dim = env.observation_space.shape[0]\n",
        "output_dim = env.action_space.n\n",
        "agent = DQN_Network(layer_size_list=[input_dim, 64, output_dim], lr=1e-3)\n",
        "\n",
        "# Main training loop\n",
        "losses_list, reward_list, episode_len_list, epsilon_list = [], [], [], []\n",
        "\n",
        "# TODO: try different values, it normally takes more than 6k episodes to train\n",
        "exp_replay_size = 256\n",
        "memory = ExperienceReplay(exp_replay_size)\n",
        "episodes = 8000\n",
        "epsilon = 1 # episilon start from 1 and decay gradually. \n",
        "\n",
        "# initiliaze experiance replay\n",
        "index = 0\n",
        "for i in range(exp_replay_size):\n",
        "    obs = env.reset()\n",
        "    done = False\n",
        "    while not done:\n",
        "        A = get_action(agent, obs, env.action_space.n, epsilon=1)\n",
        "        obs_next, reward, done, _ = env.step(A.item())\n",
        "        memory.collect([obs, A.item(), reward, obs_next])\n",
        "        obs = obs_next\n",
        "        index += 1\n",
        "        if index > exp_replay_size:\n",
        "            break\n",
        "\n",
        "index = 128\n",
        "for i in tqdm(range(episodes)):\n",
        "    obs, done, losses, ep_len, rew = env.reset(), False, 0, 0, 0\n",
        "    while not done:\n",
        "        ep_len += 1\n",
        "        A = get_action(agent, obs, env.action_space.n, epsilon)\n",
        "        obs_next, reward, done, _ = env.step(A.item())\n",
        "        memory.collect([obs, A.item(), reward, obs_next])\n",
        "\n",
        "        obs = obs_next\n",
        "        rew += reward\n",
        "        index += 1\n",
        "\n",
        "        if index > 128:\n",
        "            index = 0\n",
        "            for j in range(4):\n",
        "                loss = train(agent, batch_size=16)\n",
        "                losses += loss\n",
        "    \n",
        "    # TODO: add epsilon decay rule here! \n",
        "\n",
        "    if epsilon > 0.05:\n",
        "      epsilon -= (1/5000)\n",
        "  \n",
        "  \n",
        "    losses_list.append(losses / ep_len), reward_list.append(rew)\n",
        "    episode_len_list.append(ep_len), epsilon_list.append(epsilon)\n",
        "\n",
        "print(\"Saving trained model\")\n",
        "agent.save_trained_model(\"cartpole-dqn.pth\")"
      ]
    },
    {
      "cell_type": "markdown",
      "metadata": {
        "id": "CCow7jNXf5YT"
      },
      "source": [
        "## Last Step: evaluate your trained model! **Make sure to include your visualizations (plot+video) in the notebook for your submission!**\n",
        "\n",
        "First we can plot the reward vs. episode. **If you have done correctly, you should see the reward can stabilize at 200 in later episodes**\\"
      ]
    },
    {
      "cell_type": "code",
      "execution_count": 11,
      "metadata": {
        "id": "-Hy_FP7yeXA4",
        "outputId": "40661edf-e85e-40c5-f31e-1c0a2f289fa6",
        "colab": {
          "base_uri": "https://localhost:8080/",
          "height": 295
        }
      },
      "outputs": [
        {
          "output_type": "display_data",
          "data": {
            "text/plain": [
              "<Figure size 432x288 with 1 Axes>"
            ],
            "image/png": "[encoded data removed]"
          },
          "metadata": {
            "needs_background": "light"
          }
        }
      ],
      "source": [
        "def plot_reward(r):\n",
        "    plt.figure(2)\n",
        "    plt.clf()\n",
        "    plt.title('Result')\n",
        "    plt.xlabel('Episode')\n",
        "    plt.ylabel('Reward')\n",
        "    plt.plot(r)\n",
        "\n",
        "plot_reward(reward_list)"
      ]
    },
    {
      "cell_type": "markdown",
      "metadata": {
        "id": "EixOpGakoyi4"
      },
      "source": [
        "Next let check out how well your agent plays the game. **If you have done correctly, you should see a relatively longer video (> 3~4s) with a self-balancing pole.**"
      ]
    },
    {
      "cell_type": "code",
      "execution_count": 12,
      "metadata": {
        "id": "EMEivKldTGVG",
        "outputId": "e9285f09-9320-40b6-cabc-03d39a20455b",
        "colab": {
          "base_uri": "https://localhost:8080/",
          "height": 456
        }
      },
      "outputs": [
        {
          "output_type": "stream",
          "name": "stderr",
          "text": [
            "100%|██████████| 200/200 [00:37<00:00,  5.33it/s]"
          ]
        },
        {
          "output_type": "stream",
          "name": "stdout",
          "text": [
            "average reward per episode : 500.0\n"
          ]
        },
        {
          "output_type": "stream",
          "name": "stderr",
          "text": [
            "\n"
          ]
        },
        {
          "output_type": "display_data",
          "data": {
            "text/plain": [
              "<IPython.core.display.HTML object>"
            ],
            "text/html": [
              "<video alt=\"test\" autoplay \n",
              "                loop controls style=\"height: 400px;\">\n",
              "                <source src=\"data:video/mp4;base64,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\" type=\"video/mp4\" />\n",
              "             </video>"
            ]
          },
          "metadata": {}
        }
      ],
      "source": [
        "env = wrap_env(gym.make('CartPole-v1'))\n",
        "\n",
        "input_dim = env.observation_space.shape[0]\n",
        "output_dim = env.action_space.n\n",
        "model_validate = DQN_Network(layer_size_list=[input_dim, 64, output_dim], lr=1e-3)\n",
        "model_validate.load_pretrained_model(\"cartpole-dqn.pth\")\n",
        "\n",
        "reward_arr = []\n",
        "for i in tqdm(range(200)):\n",
        "    obs, done, rew = env.reset(), False, 0\n",
        "    env.render()\n",
        "    while not done:\n",
        "        A = get_action(model_validate, obs, env.action_space.n, epsilon=0)\n",
        "        obs, reward, done, info = env.step(A.item())\n",
        "        rew += reward\n",
        "        # sleep(0.01)\n",
        "\n",
        "    reward_arr.append(rew)\n",
        "print(\"average reward per episode :\", sum(reward_arr) / len(reward_arr))\n",
        "env.close()\n",
        "show_video()"
      ]
    },
    {
      "cell_type": "code",
      "execution_count": null,
      "metadata": {
        "id": "VTAa6RAWTKZJ"
      },
      "outputs": [],
      "source": []
    }
  ],
  "metadata": {
    "accelerator": "GPU",
    "colab": {
      "name": "a4_dqn.ipynb",
      "provenance": []
    },
    "kernelspec": {
      "display_name": "Python 3 (ipykernel)",
      "language": "python",
      "name": "python3"
    },
    "language_info": {
      "codemirror_mode": {
        "name": "ipython",
        "version": 3
      },
      "file_extension": ".py",
      "mimetype": "text/x-python",
      "name": "python",
      "nbconvert_exporter": "python",
      "pygments_lexer": "ipython3",
      "version": "3.7.13"
    }
  },
  "nbformat": 4,
  "nbformat_minor": 0
}