{
  "cells": [
    {
      "cell_type": "markdown",
      "metadata": {
        "id": "fr75-y9A4zcM"
      },
      "source": [
        "# Assignment 1: Learning Distributed Word Representations\n",
        "**Version**: 1.0\n",
        "\n",
        "**Version Release Date**: 2023-01-16\n",
        "\n",
        "**Due Date**: Friday, Feb. 3, at 11:59pm\n",
        "\n",
        "For CSC413/2516 in Winter 2023 with Professor Jimmy Ba and Professor Bo Wang\n",
        "\n",
        "**Submission:**\n",
        "You must submit two files through MarkUs: \n",
        "1. [ ] A PDF file containing your writeup, titled *a1-writeup.pdf*, which should the answers to (1) written assignment and (2) programming assignment. \n",
        "Your writeup must be typed. You may choose to directly append the PDF export of this notebook (i.e., by printing this notebook webpage as PDF) to the first half of the *a1-writeup.pdf*. There will be sections in the notebook for you to write your responses. Make sure that the relevant outputs (e.g. `print_gradients()` outputs, plots, etc.) are included and clearly visible. Do not forget to include the program traces/screenshots at the end of *a1-writeup.pdf*.\n",
        "2. [ ] This `a1-code.ipynb` iPython Notebook. \n",
        "\n",
        "The programming assignments are individual work. See the Course Syllabus for detailed policies. \n",
        "\n",
        "You should attempt all questions for this assignment. Most of them can be answered at least partially even if you were unable to finish earlier questions. If you think your computational results are incorrect, please say so; that may help you get partial credit. \n",
        "    \n",
        "The teaching assistants for this assignment are Denny Wu and Yangjung Ruan. Send your email with subject \"*\\[CSC413\\] A1*\" to mailto:csc413-2023-01-tas@cs.toronto.edu or post on Piazza with the tag `a1`.\n",
        "    \n",
        "# Introduction\n",
        "In this assignment we will learn about word embeddings and make neural networks learn about words.\n",
        "We could try to match statistics about the words, or we could train a network that takes a sequence of words as input and learns to predict the word that comes next.\n",
        "        \n",
        "This assignment will ask you to implement a linear embedding and then the backpropagation computations for a neural language model and then run some experiments to analyze the learned representation.\n",
        "The amount of code you have to write is very short but each line will require you to think very carefully.\n",
        "You will need to derive the updates mathematically, and then implement them using matrix and vector operations in NumPy."
      ]
    },
    {
      "cell_type": "markdown",
      "metadata": {
        "id": "-UUSJPdr3Ge_"
      },
      "source": [
        "# Starter code and data\n",
        "\n",
        "First, perform the required imports for your code:\n"
      ]
    },
    {
      "cell_type": "code",
      "execution_count": 6,
      "metadata": {
        "id": "CRwuwhoJ3Knl"
      },
      "outputs": [],
      "source": [
        "import collections\n",
        "import pickle\n",
        "import numpy as np\n",
        "import os\n",
        "from tqdm import tqdm\n",
        "import pylab\n",
        "from six.moves.urllib.request import urlretrieve\n",
        "import tarfile\n",
        "import sys\n",
        "import itertools\n",
        "\n",
        "TINY = 1e-30\n",
        "EPS = 1e-4\n",
        "nax = np.newaxis"
      ]
    },
    {
      "cell_type": "markdown",
      "metadata": {
        "id": "qNLvRXdy3NDO"
      },
      "source": [
        "If you're using colaboratory, this following script creates a folder - here we used 'CSC413/A1' - in order to download and store the data. If you're not using colaboratory, then set the path to wherever you want the contents to be stored at locally.\n",
        "\n",
        "You can also manually download and unzip the data from [http://www.cs.toronto.edu/~jba/a1_data.tar.gz] and put them in the same folder as where you store this notebook. \n",
        "\n",
        "Feel free to use a different way to access the files *data.pk* , *partially_trained.pk*, and *raw_sentences.txt*. \n",
        "\n",
        "The file *raw_sentences.txt* contains the sentences that we will be using for this assignment.\n",
        "These sentences are fairly simple ones and cover a vocabulary of only 250 words (+ 1 special `[MASK]` token word).\n",
        "\n",
        "\n",
        "\n"
      ]
    },
    {
      "cell_type": "code",
      "execution_count": 7,
      "metadata": {
        "id": "Gkug8am63SzY",
        "colab": {
          "base_uri": "https://localhost:8080/"
        },
        "outputId": "eb22c874-5fb7-4581-8c47-58c7b4b7e0b9"
      },
      "outputs": [
        {
          "output_type": "stream",
          "name": "stdout",
          "text": [
            "/content/CSC413/A1\n"
          ]
        }
      ],
      "source": [
        "######################################################################\n",
        "# Setup working directory\n",
        "######################################################################\n",
        "# Change this to a local path if running locally\n",
        "%mkdir -p /content/CSC413/A1/\n",
        "%cd /content/CSC413/A1\n",
        "\n",
        "######################################################################\n",
        "# Helper functions for loading data\n",
        "######################################################################\n",
        "# adapted from \n",
        "# https://github.com/fchollet/keras/blob/master/keras/datasets/cifar10.py\n",
        "\n",
        "def get_file(fname,\n",
        "             origin,\n",
        "             untar=False,\n",
        "             extract=False,\n",
        "             archive_format='auto',\n",
        "             cache_dir='data'):\n",
        "    datadir = os.path.join(cache_dir)\n",
        "    if not os.path.exists(datadir):\n",
        "        os.makedirs(datadir)\n",
        "\n",
        "    if untar:\n",
        "        untar_fpath = os.path.join(datadir, fname)\n",
        "        fpath = untar_fpath + '.tar.gz'\n",
        "    else:\n",
        "        fpath = os.path.join(datadir, fname)\n",
        "    \n",
        "    print('File path: %s' % fpath)\n",
        "    if not os.path.exists(fpath):\n",
        "        print('Downloading data from', origin)\n",
        "\n",
        "        error_msg = 'URL fetch failure on {}: {} -- {}'\n",
        "        try:\n",
        "            try:\n",
        "                urlretrieve(origin, fpath)\n",
        "            except URLError as e:\n",
        "                raise Exception(error_msg.format(origin, e.errno, e.reason))\n",
        "            except HTTPError as e:\n",
        "                raise Exception(error_msg.format(origin, e.code, e.msg))\n",
        "        except (Exception, KeyboardInterrupt) as e:\n",
        "            if os.path.exists(fpath):\n",
        "                os.remove(fpath)\n",
        "            raise\n",
        "\n",
        "    if untar:\n",
        "        if not os.path.exists(untar_fpath):\n",
        "            print('Extracting file.')\n",
        "            with tarfile.open(fpath) as archive:\n",
        "                archive.extractall(datadir)\n",
        "        return untar_fpath\n",
        "\n",
        "    if extract:\n",
        "        _extract_archive(fpath, datadir, archive_format)\n",
        "\n",
        "    return fpath"
      ]
    },
    {
      "cell_type": "code",
      "execution_count": 8,
      "metadata": {
        "id": "KUQjRpWqnkzk",
        "colab": {
          "base_uri": "https://localhost:8080/"
        },
        "outputId": "db9f693f-1f12-4d6a-e549-2e879b9d996a"
      },
      "outputs": [
        {
          "output_type": "stream",
          "name": "stdout",
          "text": [
            "File path: data/a1_data.tar.gz\n",
            "Downloading data from http://www.cs.toronto.edu/~jba/a1_data.tar.gz\n",
            "Extracting file.\n"
          ]
        }
      ],
      "source": [
        "# Download the dataset and partially pre-trained model\n",
        "get_file(fname='a1_data', \n",
        "                         origin='http://www.cs.toronto.edu/~jba/a1_data.tar.gz', \n",
        "                         untar=True)\n",
        "drive_location = 'data'\n",
        "PARTIALLY_TRAINED_MODEL = drive_location + '/' + 'partially_trained.pk'\n",
        "data_location = drive_location + '/' + 'data.pk'"
      ]
    },
    {
      "cell_type": "markdown",
      "metadata": {
        "id": "Qna9z_wJ3U5e"
      },
      "source": [
        "We have already extracted the 4-grams from this dataset and divided them into training, validation, and test sets.\n",
        "To inspect this data, run the following:"
      ]
    },
    {
      "cell_type": "code",
      "execution_count": 9,
      "metadata": {
        "id": "RD1LN16d3a0u",
        "colab": {
          "base_uri": "https://localhost:8080/"
        },
        "outputId": "37fda217-e31a-44a5-a269-88ed7d479f9a"
      },
      "outputs": [
        {
          "output_type": "stream",
          "name": "stdout",
          "text": [
            "[MASK]\n",
            "all\n",
            "251\n",
            "['[MASK]', 'all', 'set', 'just', 'show', 'being', 'money', 'over', 'both', 'years', 'four', 'through', 'during', 'go', 'still', 'children', 'before', 'police', 'office', 'million', 'also', 'less', 'had', ',', 'including', 'should', 'to', 'only', 'going', 'under', 'has', 'might', 'do', 'them', 'good', 'around', 'get', 'very', 'big', 'dr.', 'game', 'every', 'know', 'they', 'not', 'world', 'now', 'him', 'school', 'several', 'like', 'did', 'university', 'companies', 'these', 'she', 'team', 'found', 'where', 'right', 'says', 'people', 'house', 'national', 'some', 'back', 'see', 'street', 'are', 'year', 'home', 'best', 'out', 'even', 'what', 'said', 'for', 'federal', 'since', 'its', 'may', 'state', 'does', 'john', 'between', 'new', ';', 'three', 'public', '?', 'be', 'we', 'after', 'business', 'never', 'use', 'here', 'york', 'members', 'percent', 'put', 'group', 'come', 'by', '$', 'on', 'about', 'last', 'her', 'of', 'could', 'days', 'against', 'times', 'women', 'place', 'think', 'first', 'among', 'own', 'family', 'into', 'each', 'one', 'down', 'because', 'long', 'another', 'such', 'old', 'next', 'your', 'market', 'second', 'city', 'little', 'from', 'would', 'few', 'west', 'there', 'political', 'two', 'been', '.', 'their', 'much', 'music', 'too', 'way', 'white', ':', 'was', 'war', 'today', 'more', 'ago', 'life', 'that', 'season', 'company', '-', 'but', 'part', 'court', 'former', 'general', 'with', 'than', 'those', 'he', 'me', 'high', 'made', 'this', 'work', 'up', 'us', 'until', 'will', 'ms.', 'while', 'officials', 'can', 'were', 'country', 'my', 'called', 'and', 'program', 'have', 'then', 'is', 'it', 'an', 'states', 'case', 'say', 'his', 'at', 'want', 'in', 'any', 'as', 'if', 'united', 'end', 'no', ')', 'make', 'government', 'when', 'american', 'same', 'how', 'mr.', 'other', 'take', 'which', 'department', '--', 'you', 'many', 'nt', 'day', 'week', 'play', 'used', \"'s\", 'though', 'our', 'who', 'yesterday', 'director', 'most', 'president', 'law', 'man', 'a', 'night', 'off', 'center', 'i', 'well', 'or', 'without', 'so', 'time', 'five', 'the', 'left']\n",
            "[[ 28  26  90 144]\n",
            " [184  44 249 117]\n",
            " [183  32  76 122]\n",
            " [117 247 201 186]\n",
            " [223 190 249   6]\n",
            " [ 42  74  26  32]\n",
            " [242  32 223  32]\n",
            " [223  32 158 144]\n",
            " [ 74  32 221  32]\n",
            " [ 42 192  91  68]]\n"
          ]
        }
      ],
      "source": [
        "data = pickle.load(open(data_location, 'rb'))\n",
        "print(data['vocab'][0]) # First word in vocab is [MASK] \n",
        "print(data['vocab'][1]) \n",
        "print(len(data['vocab'])) # Number of words in vocab\n",
        "print(data['vocab']) # All the words in vocab\n",
        "print(data['train_inputs'][:10]) # 10 example training instances"
      ]
    },
    {
      "cell_type": "code",
      "source": [
        "# Paridhika - Understanding Input Data \n",
        "print(data['vocab'][28] + \" \" + data['vocab'][26] + \" \" + data['vocab'][90] + \" \" + data['vocab'][144]);\n",
        "print(data['vocab'][184] + \" \" + data['vocab'][44] + \" \" + data['vocab'][249] + \" \" + data['vocab'][117]);\n",
        "print(len(data['train_inputs']))"
      ],
      "metadata": {
        "colab": {
          "base_uri": "https://localhost:8080/"
        },
        "id": "qwDhJaESY_HS",
        "outputId": "89c0d059-0e0f-46b3-f73d-eefeb299797b"
      },
      "execution_count": 10,
      "outputs": [
        {
          "output_type": "stream",
          "name": "stdout",
          "text": [
            "going to be .\n",
            "were not the first\n",
            "372500\n"
          ]
        }
      ]
    },
    {
      "cell_type": "markdown",
      "metadata": {
        "id": "lXd2Msqs3fPQ"
      },
      "source": [
        "Now `data` is a Python dict which contains the vocabulary, as well as the inputs and targets for all three splits of the data. `data['vocab']` is a list of the 251 words in the dictionary; `data['vocab'][0]` is the word with index 0, and so on. `data['train_inputs']` is a 372,500 x 4 matrix where each row gives the indices of the 4 consecutive context words for one of the 372,500 training cases.\n",
        "The validation and test sets are handled analogously.\n",
        "\n",
        "Even though you only have to modify two specific locations in the code, you may want to read through this code before starting the assignment. "
      ]
    },
    {
      "cell_type": "markdown",
      "metadata": {
        "id": "pa9ggqxJPPs0"
      },
      "source": [
        "# Part 4: Linear Embedding -- GloVe (3pts)\n",
        "\n",
        "In this section we will be implementing a simplified version of [GloVe](https://nlp.stanford.edu/pubs/glove.pdf).\n",
        "Given a corpus with $V$ distinct words, we define the co-occurrence matrix $X\\in \\mathbb{N}^{V\\times V}$ with entries $X_{ij}$ representing the frequency of the $i$-th word and $j$-th word in the corpus appearing in the same *context* - in our case the adjacent words. The co-occurrence matrix can be *symmetric* (i.e., $X_{ij} = X_{ji}$) if the order of the words do not matter, or *asymmetric* (i.e., $X_{ij} \\neq X_{ji}$) if we wish to distinguish the counts for when $i$-th word appears before $j$-th word. \n",
        "GloVe aims to find a $d$-dimensional embedding of the words that preserves properties of the co-occurrence matrix by representing the $i$-th word with two $d$-dimensional vectors $\\mathbf{w}_i,\\tilde{\\mathbf{w}}_i \\in\\mathbb{R}^d$, as well as two scalar biases $b_i, \\tilde{b}_i\\in\\mathbb{R}$. Typically we have the dimension of the embedding $d$ much smaller than the number of words $V$. This objective can be written as:\n",
        "\n",
        "$$L(\\{\\mathbf{w}_i,\\tilde{\\mathbf{w}}_i,b_i, \\tilde{b}_i\\}_{i=1}^V) = \\sum_{i,j=1}^V (\\mathbf{w}_i^\\top\\tilde{\\mathbf{w}}_j + b_i + \\tilde{b}_j - \\log X_{ij})^2$$\n",
        "\n",
        "Note that each word is represented by two $d$-dimensional embedding vectors $\\mathbf{w}_i, \\tilde{\\mathbf{w}}_i$ and two scalar biases $b_i, \\tilde{b}_i$.  When the bias terms are omitted and we tie the two embedding vectors $\\mathbf{w}_i =\\tilde{\\mathbf{w}}_i$, then GloVe corresponds to finding a rank-$d$ symmetric factorization of the co-occurrence matrix.\n",
        "\n"
      ]
    },
    {
      "cell_type": "markdown",
      "metadata": {
        "id": "Xo1R6rfP4aJQ"
      },
      "source": [
        "Answer the following questions:\n",
        "\n",
        "## 4.1.  GloVe Parameter Count \\[0pt\\] \\[Type 1\\]\n",
        "Given the vocabulary size $V$ and embedding dimensionality $d$, how many parameters does the GloVe model have?  Note that each word in the vocabulary is associated with 2 embedding vectors and 2 biases."
      ]
    },
    {
      "cell_type": "markdown",
      "metadata": {
        "id": "gREV4DxJx98K"
      },
      "source": [
        "4.1 **Answer**: **\\*\\*TODO: Write Part 4.1 answer here\\*\\***\n",
        "<!-- Paridhika -->\n",
        "![4.1_prompt.png](data:image/png;base64,iVBORw0KGgoAAAANSUhEUgAAAy8AAAEdCAYAAAAFAFi/AAABRWlDQ1BJQ0MgUHJvZmlsZQAAKJFjYGASSSwoyGFhYGDIzSspCnJ3UoiIjFJgf87AyCDCIMygxsCemFxc4BgQ4ANUwgCjUcG3a0DVQHBZF2QW0+Pj9eonkhpXF83sML1o6o6pHgVwpaQWJwPpP0CcmlxQVMLAwJgCZCuXlxSA2B1AtkgR0FFA9hwQOx3C3gBiJ0HYR8BqQoKcgewbQLZAckYi0AzGF0C2ThKSeDoSG2ovCHB7BChEGZnkKbgbEXAtGaAktaIERDvnF1QWZaZnlCg4AkMpVcEzL1lPR8HIwMiYgQEU5hDVn2+Aw5JRjAMhVpLFwGBZCRTkQojF/2dg2FkL9PYLhJhSLgMDLxcDw17rgsSiRLgDGL+xFKcZQ3zGyL2dgYF12v//n8MZGNg1GRj+Xv////f2////LmNgYL7FwHDgGwCKil7hkhxBhAAAAGJlWElmTU0AKgAAAAgAAgESAAMAAAABAAEAAIdpAAQAAAABAAAAJgAAAAAAA5KGAAcAAAASAAAAUKACAAQAAAABAAADL6ADAAQAAAABAAABHQAAAABBU0NJSQAAAFNjcmVlbnNob3Qm6wkQAAACPWlUWHRYTUw6Y29tLmFkb2JlLnhtcAAAAAAAPHg6eG1wbWV0YSB4bWxuczp4PSJhZG9iZTpuczptZXRhLyIgeDp4bXB0az0iWE1QIENvcmUgNi4wLjAiPgogICA8cmRmOlJERiB4bWxuczpyZGY9Imh0dHA6Ly93d3cudzMub3JnLzE5OTkvMDIvMjItcmRmLXN5bnRheC1ucyMiPgogICAgICA8cmRmOkRlc2NyaXB0aW9uIHJkZjphYm91dD0iIgogICAgICAgICAgICB4bWxuczpleGlmPSJodHRwOi8vbnMuYWRvYmUuY29tL2V4aWYvMS4wLyIKICAgICAgICAgICAgeG1sbnM6dGlmZj0iaHR0cDovL25zLmFkb2JlLmNvbS90aWZmLzEuMC8iPgogICAgICAgICA8ZXhpZjpQaXhlbFlEaW1lbnNpb24+Mjg1PC9leGlmOlBpeGVsWURpbWVuc2lvbj4KICAgICAgICAgPGV4aWY6VXNlckNvbW1lbnQ+U2NyZWVuc2hvdDwvZXhpZjpVc2VyQ29tbWVudD4KICAgICAgICAgPGV4aWY6UGl4ZWxYRGltZW5zaW9uPjgxNTwvZXhpZjpQaXhlbFhEaW1lbnNpb24+CiAgICAgICAgIDx0aWZmOk9yaWVudGF0aW9uPjE8L3RpZmY6T3JpZW50YXRpb24+CiAgICAgIDwvcmRmOkRlc2NyaXB0aW9uPgogICA8L3JkZjpSREY+CjwveDp4bXBtZXRhPgq8dd3IAABAAElEQVR4AexdBZxVRRc/yxbdKSFtoJSKUkoIKCihhIQ0EoKEgCApJSUh3SAi9mfSChhYSCgp0t29sMG+7/zP7lzvvn373t3AZd1z9vf23jt37sR/5s7MmRPXz8VESoqAIqAIKAKKgCKgCCgCioAioAjc4QikucPLp8VTBBQBRUARUAQUAUVAEVAEFAFFQBBQ5kU7giKgCCgCioAioAgoAoqAIqAIpAgElHlJEc2khVQEFAFFQBFQBBQBRUARUAQUAWVetA8oAoqAIqAIKAKKgCKgCCgCikCKQECZlxTRTFpIRUARUAQUAUVAEVAEFAFFQBFQ5kX7gCKgCCgCioAioAgoAoqAIqAIpAgElHlJEc2khVQEFAFFQBFQBBQBRUARUAQUAWVetA8oAoqAIqAIKAKKgCKgCCgCikCKQECZlxTRTFpIRUARUAQUAUVAEVAEFAFFQBFQ5kX7gCKgCCgCioAioAgoAoqAIqAIpAgElHlJEc2khVQEFAFFQBFQBBQBRUARUAQUAWVetA8oAoqAIqAIKAKKgCKgCCgCikCKQECZlxTRTFpIRUARUAQUAUVAEVAEFAFFQBFQ5kX7gCKgCCgCioAioAgoAoqAIqAIpAgElHlJEc2khVQEFAFFQBFQBBQBRUARUAQUAWVetA8oAoqAIqAIKAKKgCKgCCgCikCKQECZlxTRTFpIRUARUAQUAUVAEVAEFAFFQBFQ5kX7gCKgCCgCioAioAgoAoqAIqAIpAgElHlJEc2khVQEFAFFQBFQBBQBRUARUAQUAWVetA8oAoqAIqAIKAKKgCKgCCgCikCKQCAguUq5dvUmWrLwc7oVQZQrV266ePEiHTrwN125dIFCrwVSuoDcFO4KpQcfLEuPPlGJMufOQjf5+tz5s7T5p18oIiyCIiP9yN8vkIL801GAfzD5+wfx0Y8CA/zIReH8iyB/rmFgIFG27Bmo0fOV6dHH7kuuKmu+ioAioAgoAoqAIqAIKAKKgCKQCAT8XEyJeD7Bj1ap2JSuXLlOhQoVJuYy6PiJoxSQxp+yZMhE/pFZKThNTgqNCKHCRQvTw5UqUGTALdqzfyf9uXMrXb9yjcJuMnMSSeSfJpjSBmWkTBmzUYYMmSlt2kAOI4q4FUoREaHCvGTJmonvpaPgtGlo1Jh2CS6zPqgIKAKKgCKgCCgCioAioAgoAsmHQLJJXtJmzEIZs+SgE6dPUMiNEGZkLlHWzNkoKG1aCmAJi39AOKXNEExpuIRHj+6nP3b9Tn8f3EVBQQHMtLgoKDCYIiJv0dVrF+l8WCRlzJCV8hcows9nZelLGgr0d1FgUCAFBKah4GB/Ir9IunolJPmQ1pwVAUVAEVAEFAFFQBFQBBQBRSBRCCQb81KgSFFmLAKpQNGidOHieboREkKhN27SlcuX6eTpw0ThJ1iKEkwXrp6gNPsiWTgTRpnSBTHT4k/FihShnDlyMdMTSoePHqPjp07T9ZCL/FwEpc9QktKnzc4MCzNBAQGsMhZILhbRQFITwSpqSoqAIqAIKAKKgCKgCCgCioAikDIRSDbmJYyYoQgPpVts9BLhR5QpR3bKHhBMd/PPFUZ0+dxlOs2qZNdDWCKTJQOFhd1klbK0VKnCI1SsUH5mToLoCjMvOXOwmtmuSNr79z66cJnjns9AubLlYNUxf4oIj6BwlsrcirhFoWFhfB6eMltJS60IKAKKgCKgCCgCioAioAgoApRs3sZucc7Wj5kXnEdG/4KZScldIDdlzp6JsmTPzOphoZQ5U3qq+cTjdF+xwpQ+MJLSpgmnzOnSUL48Wajw3XlZSuNHN0Iv0Zmzp+j06fN0+tR5OnXyIh0/eoZ/5+nk8Ut0+uSVf73Jb968SQcOHqLQ0FCPea9Z+y19++1Gj/eSO/Cvv/6mz7/4mhnMW8ldlNuWP+q3e/feRKd/J2N1J/exRAOfiAS+/no17dixKxEpJOzRn376lb7/flPCHnbw1P79B+W9DQ/3vlljr//Zs+doyZL36Ny58w5ySPool1jijnfxFEvRQTt37qblyz9KEWNPcmJnH7+SsxxJ0SPsdUmK9DQNRUAR+O8iwOxC8pA743KLGZhIP5f8bkbcoIvXLtDNWzfE41g4My+lHriX8ufJSf4slkkfwGpkEdfoVugV8nPdoHTp/NjWxY9uuW7SjZvX6cL5K3T50g26ejmUrl+LpJs30nD89MypZfnXKouBuEPH7uzdrAY1atSCKjxanV5o3i7GQjkyMpL69RtMg4eM/NfKFVdGhw4dkQUVymTox00/09Cho8nXIsjET4lH1G/9hu8TXfQ7Fas7qY8lGuQkTuD1QW/QunUbkjhV38m9s3Q5zV/wju+ICYzx66+b5b29wWq43she/zVrvqVJk6fThiR4F7zlGde9UydPS5n37dsvUebNW0xjx00mjEt3OiUndvbxy70cePfBJP+bGCZmrrDX5U5vcy3f7Ufg0qVL9N13PxKOSoqAOwLJpjYWzJv5fvzHGl2Uxi+A0oS76BarhoUwA8Kuxdhl8jVW+wpgA/1slDVHQbp4meiPv89Q7qwZ6f4iedgo/wYb7l9lmxY/Cg4MopysKnbs2EkKDw3jNMN5xy5cXCn7EarIjA0b+eP4b9DSd9+niRPfprvvLkg9unemkiWL02+bt9BXX60SBmbB/On08MPlKU2aNPTeewtZxS3ZeEgLjhUr19CcOQvpl5+/ZSlWWitcT1I2AsnRx27cuEFT355Nv/yyWdRCc7BKaOPnG1K9enUEzK9XrKYPP/yfuEd/8MFS1LvXy5QzZ46UDXQKL32jRs9S/vz56LHHHrkjajJgQB9q0qQRFStW5I4oj7dC3CnYuZcjjFWlu/foS507t6duXTt6q0Ki7/38y280Y8ZcnoNP0Ppvv050epqAIrBn7z7q8Uo/XpdMpccevTPGJW2VOweBZGNeItnzVwRb0IeHh4lqwLVrV+kmn+MXEebPbpMz8oImN9u7ZKPMGTPT1atX6VLIVdr991E6z6oND95bmC6wq+UjJ4/SyTNssM/nbJ7PKmbMBN1i+5aIm2zr4mLGKIh5Fq6mKw2zLrefSbhw4aIwLhkypKeFC2Zai7LHH69MtWvVoFYvdqJ3lr4vzAu6Qan7701wb4CXaz8/7wyZkzhOC+ArLV/3neZjj+c0TV/xfN03eTqNZ+I7OTpJE7ukYDQSS57yut19zL3M6dKlowGv9aZX+74uko2uXTrS00/XsqI9WuFhGj16Ag0dMoCeeupJK9zbiad6eYrvK56v+57SRJiT5zzF8RTmnkdSxHGShrd6pE+fjqpVq+peNOvaV/q+7lsJuZ3E9VzevHkIv7jI03OewuzP+7qPuL7ieLrvDTtP8e1lMue+4vm6j3S8lcPkc7uOWFyCeUnKRaavOvu6n1R19ZSPpzCTn7d7Jg6OTuPZn/F17iRNJ3E8zUdOnvMUx1OYvR6+7tvjup87eda9Lk6ecc9Hr+88BBK/Wkpgnf7++y/Wa/6Ddc63syrVDhZtH6BzZ87QNRYRhoawOhjdYFbjJqUNdvE3WvzZixirfkVep6NH9tKvWzbR+h820idfrqQVazbQ79t20dGTp1jFjHW8eS2PHaewsFBxCBDBDgEi2WYDPzgHuN20Zct2yWLQ6/0sxsXkiV3m1q2bc10P07Vr1yQYqhujeCGHF6xFyw7C+Jj4OMJWpknT1jR79gIr+P0PPqE2bbtQ2XKV6ZWe/enHH3+27m3+fSs1eq4lYScM9xCneo16tGjxu1Yc95OXu79K77K0CNS0WRvq2q13jCi7du0VFTikhTJClGungwcP0/A33qTKVWpRvWca05QpMykk5IY9inWOuCjfqlXrrDCcwPYA4cYWAHZCSLNGzWek/CNHjqMj7FnOTtevh9DUqTOpfoNmUs8uXXoR6m8n6PVDXQ9lR7ypb88SZtkex8XYL1y4VPJBHYYNH8PuuY9bUTApu2MC2wCU99v131nx7Cdh7Bxixsx5gofBDZI3Q6ad8DzUC8uVr0Jfr1gjaaLMdtqz5y8Jj0ulB30Ekr7adRpKPdu170rbtv1hJWH6GAI++fQLSQtld/+B8TbkrY+ZOL6ORYtG7ZpjUWUI9lMDXx9ObVq3cMS4wPYB7Wr68WsDhrLE5h81AqhdQr3oww8/tfpBp5d6xOorkPYAF6SDd2fnrj2mSF6P3nAwbfjDDz9ZZcT7AfunP/7YKe8K8kP/++23LbHywXuENkAcvKu//vp7rDje8kdk2Dlg/EC/xXs+bfocHvti27r4qj/Ki7Ls5bKD3nlnuZQbdTRjDe7bxxrE27b9T2FSUQe8+3iv0R5ol7gIfQBSXvPeDhw4XOphj496Iz9Dpp0h1UY/R33xXqLvvzVpGlWq/KSEYZywqy5dv37dGiPMu21Xo3JaT4zrpv8gf+QJe0aQO3YIQ5/o1es1aVuM3xh3THzcd5qvk/EL6YHs5UD+GMtBGNuBJcbWceMn04utO8UaA0eMGEt4bxJKV65clfwfeqhsQpOQ59A3MKajL5v2suOGhSdsoUxbYOz86KP/WXmOHjORevcZaF3jBPVCH7MT+jT6oCdKaF9L7FiVkLYx/Qh2m+Y9BTYrV66NUTXMV4MGjxBc8a5iTEV5DZl0zJiE+Qht4XQeS8gY6G3dMHfuIqvN0HbovxjrQE7fafe6wJ4ObYt+hfEC58bGzuCgx5SDQLIxLzlz5qJs2bJT1qzZKHv2nJQnz12UjaUs2bJkp1w5slG6YKKQ62d5eyKEVcci+Ad3x5fo5Mn9/A0YF4XzN1527dlLoeF+8gsLi+BvwviRvz+riDGTghfvH6aFGReOj9/tpr1/7ZMsKld5zGNWr/bpQV98/gFlzJhR7h8/fpKOH2d30LzrDvUyTM6hrPpmCAsaLIYeeOB+CcIg8+abb1GmTBl5AOrAeJyibi/3kYkDEW4w03DgwEHqwwN4cHAwtW/XSp4DQ/H33wfk3P1f9eqP0z33lJDgenXrUA2+tlP3Hq9SkSJ3U/MXGgvjBVEuBh4QFpKdu/SkjRt/oKZNnqNHHnlIGCUMlGDI3AmqdBh8vvxqZYxb33yzQcpduvQDMkh16PAyrVnzDaE8deo8SStXraWuXXtZC1e0LxayCxe9K9ignkePHSM8ZxhIGKpj4Z4uXVp6+eWX+IOoBYVJmc4LPDste+9Dwf2ZZ56i2rVr0meffSWLScOAnT59lmAEbSdIDYEzJIKeaMLEqYQBuGzZ0tSV2wlYABMM8iDTTr17D5BrlL9UqXsFm88+/0rCzD+DTZkyD5qgGMcRvGBDv2lQvy7179eLGePrMpGhX4FMH8M51HCe5Xqa3zOsynX69GnRKzbqgr76GNJJKC2ItvXo2DFqYeUtnZM82YAZQLuir0N6icWxnZE8euw4fcH2ZbAhqcNt98QTVYQJmDbtnzbGou3119+g8+cv0EsvtePxJht16tTdW9ZyzxcOpg37vzaE8ubLw32vtSwIoKrTpWtPupffKZT7yJGj1JHzA7NtaN++v0Ul4kF+r9u1bUV//rlTFln2fuYrfyzS+/IEjMUb3uGGDerRl7yhM2duzEWZk/rjW1voz6E3Q6WIYGSxIMIEf//997DaXwO536//YGvhCyagG2904H3DpkylSo/RiJFjpT3QLnER3r+Zs+bTXfnyybtxmPHBu2wn5I/yGDLtjLo+/1x9uu++e2nuvMUiycbY07ZNSypfvix9/MnntIjHBBDeuYHc7hgjHn6oHDVp3Eg2Xl7u3ofgIADkpJ4Y67AgxDs/ZHB/qlnzCWE+JkyYKmm4YwdGFRtCh48ck/5WvFhRGXdQFjMmOsnX6fglheB/9nLcdVdeGTtxD2M73vd8+fLSA6Xul7nijz92mMd4DLsmmxr33lvSCnNyAoYFeINhALMJwniXGAJj8gNvxjVt+hyVKFFcxuIxY96ykpy/YIkwx8FBwZYqHJj3Zcs+lDhQfYQDHMwxIGxCYQ6FWrQJwyYYNncwH3iihPS1pBirEtI2ph916PiyjGsY3y5dukIDBg6zNgLR59p36CZq65hP8a5inYKx1TjoMOngueLFi1L79i+KVofTeSy+Y6CvdUOpUvdR1SqVpHlwRP/FJlh83ml7XVwuFzVv0V42N1/u9pKMF7BTBW7mnfTUFzTsDkaAGzVZqFzZBq5HKzR11aje3lX3qW6up5/q6qpXt5urwbPdXdWfaOl69KH6ruZNeru6dx7patuin6tT69dddaq3dN1X9FHX+MFTXZOHz3Llz36v657CFV33FKvsKlK4nKtosdKuEsWqucre19JV/v42/GvnqvBgN9djpXvyrzf/+tz2ujIj4apWvW6MfJgZcfFAH+PHi2+J07pNZ1eXrr3knAdZV+kyFV282LCeZymAq2Klmi5eqLh48SX3hw4bbd3nxbOrbr3nXW3bdZEw3m2QOKyWY8U5duy4hM2fv8QKcz9hKYHEYXsF69bCRUsl7IMPPrHCUDaU8ZNPPpcwnsDlev/+A1Yc3gWXsN9++90Ks5+wFEnuX758RYJ58HDVqt3A1efVgXI9dtwkuc+LJ+uxrdv+kLC3p82WsHXr1sv1u+9+YMXhAViw4gWdhK1du96FOrAkzorT7IW2rmfrN7WuURf87OXnXSsJW/7+xxJvyJBRUj7rIT5hplHiMKMhwQYrg9/ixctcLGmxHrl46ZLEf3PsJAkz7TRy1HgrDk5mzZov8VAXQ2hfZhjNZYwjsEP5WZphhZ85c9Y1d94il8HP3sesSNEn7733oTyPvgdy0seiH/V5mD5jrqTNEiOJi/6AdwPlc0I7du52zZm7yHWCsTY0ZcoMSZN34SQI7Yn6M6NmorjwziDMtAXwww/voKHJk6PSwdETOcHBtCHKZAh9BnmbfopwZigkDH0YhPcdcb74YoVc49/hw0ckzLwDTvJ376dIB1hhvED65v1yUv+ffv5Vntm+fQeScRl8Vq/5Rq7xD/0Z6W7dul3C8F7g2v7uoI0RhnbxRLzTKff79h3EAs9IiYL3s9WLHSUcmILMeCQX/M+0s2l3PGPqefFi1LvCzIW8p50795THWKopaQJ/Q6xHL2EYg0BO6vne8o/kGWZiTDIuYM+OF+TaHTuML8AcY7MhlnxLGps2/SJBTvJ1On4BK5B7OdD/0RbmPuKwxF/CJkx8G5dCq1ZFjXe8E2+CfB7RDhizx4+f4tobjSnaw8xrPhPwEAFlRZoooyG0O9IFIU/Ewfhu+g7yY0ZRwvEc6oA4P//8mzzz6adfWP3E9C3Tj+MahxLS15JirEpI25h+hKMhjHPmnUcY5hKMo1u2bDNRZI0BnNDHQCYd9Gs7OZ3H4jsGOlk3mP6Mo6H4vNP2umAuRH3RHwxhrAMumJuVUh4CySZ5OXXqBO8IH6GDB/bRvr93807+Pjpy+ADvlByki+dPUZD/LcqWKYjuL1GISt9fjNhTMhXIm5VaNnmeHi1XlrJmTM92L/cQf7eSsmVOR5kzpKP0LGlIGxQkZvn4MCXUgVwsbYnEL1oSc7v5yCtXrrA0KWuMbN555z2qUrV2jJ9dZGsily9fRnZPjOtk7PRB+vBco/rywc2/eLcWVJJ3pKBKhB8MJHPmzCm7nzygm6RY3eoJ6zx//ruoQIG7iBdPVlh8TrCbbahcuTJyanZWv/s+SoUM4mVTpoKFCkgcGNx5IkhSQN//sEmOPPnx7v8ZNuh+Sq6hQgaHBvadwLIsdbjvvnto544oUfcu3hUGNW7cQI74ly1bVvrxh7U0ftwICXvyyWqyqw0JCna0oeKCfA4fPmo9g5PqrOtvVJxwDTsM2CyhPgmlNm1aiIE6T5AiOTuw/5Akhfzt9PRTteyXImVCgMEV3pfQxpAKeSLYPEFiB/US7NRjNzwnG7936tg2Bn6env2DVYWg4tO9+0ssMSsvUeLTxzylGVcYdvb69R9CY0YPo1y5csYVLUY4bHVe6tSWcnF9UC/0i4uX/tkxN5FLly5Fd92Vz1xaevdoc14QCH4N6tcTaaWJ1KzZc+bU4zE+OFStWtlKo1i0qlwFlkAaKlK0sJxe5Z1qOxkHBgjDLjBs4v78M8p1s5P8jZS3UcNnrWTzsZ3IU9HvFwITWn+TYJXKFc0pGZUgSIlA27b/QVWqVIzx7uC9tb9L1sPRJ8abWLMXnrfs9fAh4RdYquuLKlR4yFLFxTOQKGCn34y3/v7+0ueNVGVXtFoMpL1mbMKcANq6NeZY6K2e+aP71tixk0RtDhI0jBEvtnohVpFxD+ML+lvGaOk6Ij3/XNQ4BWmWnbzl63T8sqfn6zxDhgxU9+naPF6ssnac4XEPGN3v0P6SlzmsKjhInnn11R4y/uD5R9nuJbF2e5CuooyGqnL/AqaQmlh9h99dY+uJ/JqxlAa0jzULMGdg7DZqs5vYLTnG2IqPVRAHIoiHeRB91Ns4FN++lhRjVWLaxj6eQSsD/Q/zBt5/zIsYR6HVcJQlUeiDkM6Dzl+4IEfzDxJcOzmdx+I7Bpr5LT7rBpQrPu+0vS558+aWakFyh7kSEifMG8Ala5Ys9irreQpBICC5yhkQECDMRajYpoSxilNaGUxvuQLJP/ImZWYRYfbMfM62LxnZFXIwu0cumD8nlb6vBIXzYHbr+lW6vzhUzZj/CkhDl64E0uVr7Fo5PJh/0bVi+5dbMllBXczFPw64zVT47rvpiy9XxDDGw4AMkT0IXsf+978vWb3NP1ZJENaw4TPEkg4aNKifMCRmokTkgwcOyTPjJ0yRo/s/3pmygtxfSKjKYNJJCGXJktl6DBODUHRahhHg3Sorjjmx65abMBwLFy7EKlL3iTE3xNi8My8TTmVWOwFhUQ3VEHfCBMkSAgnezxNVnjy5RTXOHs9MaghD/kOGjrRU6uzx7OeFC99tv5RzhBnVuFg3HQTwLp/YIrgzK1B3s5OFZ3Qg1POADe+IyQS0YWOUG+fHq0aJ0O3PmvPx40aKug708PEDLhD7v9DseRMl1hHuJ3v26i+Lzw7tW1v3nfQxpB8fwjsIlbnnuE0rVqzg+FFMvGNYRRKTjTfKkT17jNumv4KZx2QNys/Mu5181cEJDiY9qDMYMv4zgoICTZBHb4JgxN0XemD6oSoEHX8n+SNO1DsQZOWFE7N5gPOE1h/Pgux1+wfXqHEE777ZzIiKHfUfCwW7XZL9nhkvDENg7hUsELXhYa49HTOkjx57bDftOCM4jWkAPjeMIJykuJNh/Ey4t3pW5XcPXiNZuioqungGjGaPV7pQoYIxy32UVZJA7v0NC0q86/sPHJT75p+3fJ2OXyYtp0cwzVCjwiIWaqToc6/06OL0cfrl183CHCxaOEv6MMY0tGvz5k0cpxFXRMxTdsqSNWphibkLtqIg974DVTHQIVbvwybXE49XEfWgjlyuH3/8iUaOGEwskRT1yr59X6GffvpF2k8eiuNffPtaUoxVKEpC28Z9PDP9DwwMNrcWLHxH1CmxnvBG+Pi3nZzOY/Z+bF5B+7vpz0ymncw4EJ91A56Pzzttrws2OKZOGUdQg4MqOUhUurt2sDa7JFD/pRgEko15gSQEk3cgMzH+/gEiWQgMCOQjT/oR7CqZbQkuX7xAObKk549NniR/vzQiYdj662907cI13jE4S+mzBFHhAvkpa87s7HHsIu07eIzOXeCJVXgU7LCx57HIMD6yPYwfFhMxX6Db0UpYfIKgB252KjF44AfaFW0oXIDL7YmwSwTjcVbNEGNwSExK8WIWZAaomTMmiRTC/fmsPNDDPubfJJQvC+9cTJ82MVa2wcFsuBQH1Wf7DNjuQCqCibQuMzFmsMGu2GmWWLjTqVNnLD1lLNDwfRZIp8AIeyLo58PuY9TIIVSm7IOyw8LqPLSCjbftdPLUKfulnMOWyO45B5OTnVhtxX4Z4xw7v7ALQrsNZiYUbY/FCwxog1ky6IsMNtBFX7FirTC0xh7F07Poc1hIQO96M+vbw4YH2IKB9eTNC4v6QYNHSlKjRw2JsYh20sc8lcFb2Fy2/UFfiK+71nnzonbJsHDEBgB2Slntxpp8vOVp7uXOnUtO7Yw9AiAJ8kZOcEjMuwY7GHcCo4sFLtraSf752K4B7wAWj/bNENhoGUpo/c3z3o6QFJvxzMRDWbazhDMuewKzA3r27HlrQwfPQkKZ1ISFOauc0DfrvozRx5GPHS9f+WJDBDZarVu3YJumXfTNNxvFxmzX7j309Vcfx3j8n/r9s5GECGBIsXCEFNwpOR2/nKZn4sEdNvoZnIWcid7wMtJwE8fbEZtvYDLK8pgKWr8+aoMFjMPtpLzRG4DufQfXINidgSpVelS+ncZqQYL5IywFxbsFpyaQGmJB/2gSuwRPirEKZU9o22A8g8TdkBnvMGbCznL69LkivW/SuCFrYeRn+6gb9OyzTU10j8fEzmMeE40OTOi6ITHvNLwpQosEErxNzMDio7ysYkorvv44Xu+lt3rpvX8Pgdu/mo+jLv4B/sJkBLC0IQ0zG+DMwbEH8rV/YCY6dPIqnTx9kTIEBlORPHnJdTWE0lxzUZGcRSl7pmzMhgTS2dPX6cxpqASdo8PHztLpc+cohCcJfNIlAkxLmjDyD+JfYBh//PIG8ecq4yhN0gVj4QnCItkYfJvUYSiIhToW55kzZzLBMY5Y6OI+RPmrV6+ThauRJpQsWULiwlMSJg/zQ7r4areJFyNBhxdmxxIL5vgQ1ESwI5aGG9GUBwbyKM+JEyfjTOrJmtXk3lL+YB92YaDKYKhMmQeEebMvaDDhQBXggWhG7n422AVt2PCDeUwcHcDAGB6XQtnpARaXT9aszoP007JDign799+3WfHNCQya7TvFkPxgMrjn3ii8c+bKIZOg2cXGc2YHyKRhP+77a79cQpSPRTdcvmLhgjo4IYPNu8s+EKNlOzbuz8NoFjun6ANQGUJdZ82cLNHcVVTMszBoxoQ2efJYS+XG3LsdfQwL9XFj34jXghHlgZof+hQWjngvoP6AhXF8CN+YQRpwemCXeq2Pw0ucSft24GDSxhH9wd4X2T5FGDMjyXCS/z33lJQkwdAZQrpG7RRhCa2/Sc/bEcw93jF4MgxncTcW6GxLIXWL67kSJYrJLXsZEcC2NXE9kuBwSLdAGF/M2IQjxpHd7OzFKaEfbmAmMTAwQCRN2L1v1bKZvM94/+yEHV4wnu797TseY0Bw4uCE4jN+xZWemQ8u2bzzIS42e6CKzLYuPM+slx1oLCad0o4du6gMqyBh8xESEeMgwmzQOU0nvvFKRved9es3xngUWIOgTg16OFoFdt78xVI3zLUwQkfbw1EEKKkZraQYq1CuhLaNfTzDOAdMUF+8/2YewPd+IG0Ak+NEJTqx8xjqExc5WTek4Q1rkP0dS+g7jTkI2gxQl0M/hYMPON8A2Z2kSID+SxEIeN6y/heK7nJhtzANpQEPw0xLAHsKg+gxiHWZw9iDmH9gWv5WC3sZ44E2Q3Amuqt8eRaoZGKvYxk5XjB/tsWPzly6SOFc1ss3rtE5ltJc5e/AsB8yCgh0cby0/J0XZmIieIBl5TNOkQUxnNFtJgwMvXp1E3fBbdp2ppYtmsqOEAYQ2CRgUYxFozdqxKpjUP8B2XfEIB6HWNm4CMUEAg9icMNZo8YTcs9but7uwY0zaPKUGezZ42nH6j3wQPYZe+fq0rW31BUMAjxfQfL0/vJFcWYJnKpWrSSTCSZ7s4uHB6DuhN09uI9t3rwxT5AkuyRI+/loG5fHH68kg9DQYaPY49pJZhDyih43dqInThgtUhwMUuu+Wc8LjtIykMNN8IEDB2XX0V4wLPjgHQhtFRISImVCXoZpMJ7ekBfKBgYPXyOPi0qUKCq32JkAZUifQaRDM2fNiyt6rHCDDdxjYwJ6+OFyseKYAEirhrNrZ+jXY1GVN08eUVvEfWPHYuLiiHYBY40dqOs8kNtd3yKf29HHxo0d4fWbHfby2c/RJ7HQZINjKs+2Vtgt+4BdIseXoNcM2x54xHmqTi3x/gUMvNHtwME9v779BskHBCGVw0c7MTZgUQxykj9stWbyuwNPXZBOZcuWjb1GfS67zPa8ElJ/+/NxnUM18VeW9MGTIX4g9FdIHO32d/bnC7KaFcYqMDx+PIZjMwLM15rbwLxg4wCqpj1e6Us9WC0K6kYbN/4gHrLwEUy7ZNVeRvdz7NZj1x5jHSSZ585dkE0oLKQ8bUJBwgh366a/QYo7e84CkZY7VZvEe+10/HIvr7mGtBNtsZYZlHvYFqQySyTMt3NQD4zT2FAZOnSAecTx8RRLMrDhwwbdwsBiMcoOYaQ/e0qEDaXFFfyokYNjSNw8xY0rDHZtsP2D9zgsGuCpD+MZxgR80BR9D4RNHLQ7+hXeCxAYuZq8YQZvdZDMeJNkywPx/JdUYxWyTUjbwOMaFvmQeOJdwgYcPE+CYBsGmsYfDm7AHgmPsTYCJPO+KLHzmLf0nawbjM0r+ljkrUj2qFhVNgMT8k5f5bkO4y1sn2DHAyZxCa/HQHF58fRWfr2X/AgkG/MSEOjHi9JbPIFFMpPBH6uMiOQFZ2ZZWKZjtYncObNQkCuErl67RBl4x5U4np9fOJ04e5iusvFeuCuUgtL68SQZQREsAr124xLbvFygrNkzU+UnylCWjEVo7aqf6XpIOKvqpKPAYGZg/HgV/C8QXJ9CPQADBCYxQ5CoTHprTKxdH3fd99q1awjzAoMyu041BuDhw15n5i09YTLAZAGCnUz/fj1NNnEezU6cpwgwUMRiCPYFmzdvpTWrP5MBH3E9PsdlAWGAwRdwwVANHjJSwrCLBzUys0sigR7+PcMG+pB6YEC1Y4A0582dJovWoUNHy5NQURk29DUqWqSwXMO4ccb0t2gMu+mc+FYUo4fJC2patWpVlzgwDseHEvG9GBAmBUxy7mpjaC/27mSpIwH3fn17kVG5getoxMGCC5MlGJtePbuJi1BJmP8ZjHDE7iucBrzB305A/iAwtCv4Oy5OCbZAgg0bXnpTccECZc7sqWzzMs76tgZwGDLkNbFnMfkZfH/fslWCsIjDz04rV3wihu+J6WP29HAOt5xgUhNCWHRDqge1MxD6U5/e3YVxNHgj3M9NnxqLYgmP7qPQxYehPxYukGii/bCBADfV0VEkvv0f0k8QDtEJ2stnTxfnaAvsgKKfmkUE3pnhwwZamwZO8ocNCt4BMGb4gcAYvNytk7w7pgxO6u8XpWsraeCfJ1xMeuYIo3lI+f74cwdt3/YnZeVxGrYgA18fbrlgtRKMPsGzWMAO58UD1GNBWKTjXTW66AgzeeDckHs7p+GdL3/sftnIHgeMxexZU8RuCsb2IHl3+V009mBO6gkX8OdYNWnxkmXE3uQkHTgqGMrvGMgdO4zHN1gKBbe/6G8gjK2DeacXH3AFOcnX6fhlsHIvB/LpxO8QvuGC35gxwyz3yWBqgAU2buD6OT5U7YmqBKkwvuuDD81iMXn06DHq3z9qsewpLdjJ7GY1O6MO6SkOwkxdzH1TJ4Tjh3cE8x82zNB/MNaB4e/Tp7t5RI6Ps90LpPp2ZrFSxQoW8xIjsocLez/CbV99LanGKuSVkLbBumLI0FHSnsAELpNbtoxSCwMTD1f8YPogpcd9875FjZSe+2OC57Hozu3elqibISfrBry/2AiAtAwbNKtWfiqMb0LeaThUGDFikGyysLdHKQbWY0sWz2a1939sek359HjnI+DHYt9/Z0XvhkXx4g/JjnTu3Hmo/rMNqVLFymLTcvbsWbrCUpTDB/6mEwd2UuE82ShTOvYixhNlcNqMbMPix8xLiEhaTpw+SVduhtCJC+doz/59lClbFmrQ6Fkq/0gZypmtCO3ecYz+3H6Qjh4+y7rZuyhL5hz08+9RYmO34ty2S+ie4ge/+xgMkorQbFhww84FuwhJRVD/AGFhEl+CmhyeT8rBgN19SjHMpO+pTLB7gU1KXPhCJQcYYbL2RsgrIuJWDK9U9vgQx2O3EYO/YQbs993PTRtlzpyZJYHxwxPfLYBjho8+fEcWd+5pe7oG/mHhYUnmPcWUP6F9DDvOkCIlpC/Z64d2CWUbI3cnFPY4Ts4hDUD7Qf3MSfuZNBOLg0nH0xF9Fzum6FNxkZP8sQgFeevjCa1/XOWC6iG8/kGPHpiC4MWn5pPPirMJLBa8ETwN4dskiW1Xb3mYexiXgHN82948jyPwg3QM45vTPo2xJ2PGDF43IOx5eDp3On55ehZhKDds9LDRYRaUeKfq1mss37+ZMGFUXI96DEd/hEowpDjYWIFtREbeTPI2D+FDnVAZxKI5KQhlMGNxUqSXVGkkxVgVn7aBxBObatu3bZJ2NpiYdrbXK77zl3nWjD8JmcdMGt6OvtYNKDfGSfRfOyX0nU7s+2Qvg54nHwJJt+qNZx0KFoBLz6f5o4C1ZUcVa2X+WDIb5WaiWzfY8C6UjfCuZ6OMrCIWFn6Trlw7z1pffhTEXsmusWrPpWuXWU3sDGVjY/2seQvRXYWzUz5WSahWvQpPULmY0fGnGnXuoccq3k+//cLumPft5g9ferYziWfR4xUdBnP4JTVhcMLCMKnJ6aTsKd/06bGrGLWz6Ol+QsK8MS0mPUyacTEuiOOUmfKVFybq+GCekDaChyF4eIGaCVS7sCvtlIB/+iTEPyHlt5fVeNizhyXkHO3iq22cpAuGBTrg8aXE4uAtP/Rdb4wLnnWSvzemxeSf0Pqb592PWJRD4vrVVytZqlmLPyocIju7iBeXa297GmDog4Ky2INu2znGtYS0vb1AwC8+7z+edTr22PNxP09sGii3XU0KH3qF7SUYsXbRHzF2z9PbNfqj3fGAL+YTzBNso9q0buEt2XjdQxl8vTfxSjCJIid2rEpM2/h6v+M7fxlInIw/Jm5Cjr7WDSg3fu6U0Hc6se+Tezn0OnkQSDbmZenSRbJzA6HBzZu3WMzOBipM6dL7Uzhb3Kdx3eBvvXAAq5bBxuUWu08+fYH1bI9fZhUzcOK32LbFj/LdlYOy581NN3jHOQ+rXmTPmoHF+BFs4RJAfiylyZQxmHd88vEX1lvyN0KcG2lKYfSfIvAvI7BlyzbZSYPb6EGD+v7LuWt2ioBzBKD6tmDBDHHBCpU8LCZgh9eyVbNYqrHOU9WYtxsB2OthAQcpiNNvuySmTJAGQLUMqslK3hGIb9vk4bUPVKqVFIHUhkCyqY3BMBqT3S02xLrJImwX/wUFBYk6R9jl87Rx9Qo6w8aEQbzD4s9MSnhkKF24eoHOXzrPqgY3meEJo8wZM9EjbICVKXsWus46xtlyMyOTnUXZAbxTG5yNAvwzsMF0RpbchLJ9zU3a/sdWFpU/n9raWOurCCgCioAioAgoAoqAIqAI/CcQSDbJS3g4S0f8WVeMLW5CWfcZKgR+7BoP33m5xe6R0wTxLzBI7kNNLA1/iNI/MCMFp79FIaEX2AUyi64LFqKixYpTcIZ0zNRcFJUyfz82zGcxdRr4IYsMoYhw/ihgJD4MGEHFixX8TzSaVkIRUAQUAUVAEVAEFAFFQBFIjQgkG/OShpmMW6z6BWMwMDDixphdGcOrhx9/tNIPDAz/gvn8BjM310JuUjjr7t6iIL6OpIIFCtIDZcpQvgIFOMxFoeytLJLT8oM7ZBeYF1ZDc0WwO9grbAPDRv+ZsrIExrvBdmrsAFpnRUARUAQUAUVAEVAEFAFFIKUgkGwfqQy/xV8cDrnMti5X+eORLCXxi2D+BXYvfOQQGGil4V8Q+7vPmjWbqJjdYG9KgQFBwog88GAZKlS4GBsisoF/hB+HB/M3YYIoPDScGRhOjlNysQQmLXuoyMTfwMDHQk6z9yMlRUARUAQUAUVAEVAEFAFFQBFImQgkG/MSevMa3eCPS0ZEwB4FzAt/84VlKDgGsIoYvtKOr77DUwk+2AUvL/AWc5NdPhYodDcb6hekbNlzsZQmkJmUKOYFDAykOWBc4B8ex2xZslIo28McOniIjhw+kjJbSUutCCgCioAioAgoAoqAIqAIKALskiuZKCgojTAmLlcYBbFtiz+zUYEBUPm6xdKSQP5AYG46e+w4RYaGCRMDH9/Zc+RgGU0key65mwoWKiQfRbt69arUAG4CoYF25coV+aVNe5mN97PTZb4+fvw4Xbp0yfJxn0xV1mwVAUVAEVAEFAFFQBFQBBQBRSARCCQb8xLO326JjGRWJJKEcfHzC2B7F7ZZEekLfLhnZZWwYAq5yR9/YQkMPmgWmC6AihcvTgULF6KMmdiLGEthwvjjMJDORPKHjKBuBjIfaoLq2c6dOwkfJQpkhwDp0qZNBFT6qCKgCCgCioAioAgoAoqAIqAIJCcCyca8hIRcZ0kJMxssbPFjI5V0xF9Phc0LexwjZmQyZ87KX+3NRDcuX+V47EaZ3Spn4i/U33V3AQpiJgRfoQ1gcQ0YF/MRI7A+N5mZ2bN3r6iaHWPJzaXLlyh9uvT8rZh0zOiwepqSIqAIKAKKgCKgCCgCioAioAikSASSzeYla9a8wpTcuhVOEfxj/8bRkhNmaNjjWNrgtJSRv+PCF8KgZOaPahUokJ+/Vp+LwPjgOzER7G45lKUvInmB9IV/sHOBRGbfvr9py9atdIqN9M+eO8cftoykco9USbZG+vmX32jDhu+TLX9vGeNLy59/8TWdPXvOW7QkuXfixEk6c+asx7TwFWaU4xZL0VIjff31atqxY5fjqvvCy9d9xxklYcTw8P/mBsJPP/1K33+/KQmRSv6k7sT+4wQVb+8R+t+yZR/Snj1/OUkqXnH+i33ADkBSzhPJhdXtbH87VnfC+Zq139K3325MtqIk9ZrHSX0SO2Zdvx5CB9g++r86TyVbZ7gdGbNUQ+lfQKBnz/6uZi+0/Rdy8p7FxYsXXRs3/uDC0dD27TtcpctUdP30868mKEmPp0+fcQ0bPsZVq3YDyQd5VaxU0zVlygwXDxJWXgsXLZX7LFWzwuI6YUbVVa16XVfHTt09Rrl5M1Ty6Nt3kMf7d2IgcJk8eYbjovnCy9d9xxklMuK1a9ddgwePlPZCHRs3edG1atXaOFM9evS49INevQd4jDNr1ny5z5sUHu97CvTU7z3FcxK2ddsfLvzs1KVrL1frNp3tQQk695R2ghJKgofulP4T36p4e4927dojfadvv8HxTTZGfE/tlFR9IEZGd9BFUs4TyYVVUrX/HdQsHovCG4DSzzHPOqWkHCORZ1KueTzV5+DBw67vvvvRhXuGEjpm8YaqjN8YO8zvzTffckVERJik9XiHIZBsamO3gxHTNH0jsGfvPurxSj+aM2cqPfboI74fSGSMK1euEjNthF27Z555ip54ogo7VLhK69d/RwsXvUu7d/9Fs2dPiXcufmwHVa9uHVr67vt07tx58UZnT+TXXzcTdlGefLKaPVjPkwGB1wYMFalEt64dKW++PPTuux9Q/9eGikONRx4pH6tEPEZKGHYNV61aR0899WSMOPieU3wpKfs9M5iS/ZLFs+NbDJ/xb2faPjNPBRHuvbckzZj+Ft1zT4lE1VbbKVHwJdvDSdX+yVYBhxnDgdF77y1ke2LnyjVJOUY6LKbjaJ7qs2LlGl7HLKRffv6W7aMTbs8MjZ227bqIrfS4sSMof/589MmnX9Dy9z/mbwRmpc6d2zsup0b89xBw3rP/vTL9Z3IyizBfFXISz1ccX/d9lcF+30laTuIgzcVLlgnj8tJL7Wj0qKFUu1YNavx8A1lAVK1aiVjaQ7wbZs/e47mn/OrUqSlxN2z8IdYza9eul7DHH68c456ndGJEiOPC03OewuyP+7qPuE7ixCeePX/3c195+brvnp6na/c0YJsGdaq2bVrKJNCgfj2a9Nab8ija3heB8Tl//oKvaNZ99/ytGw5OEvOse/K+0vJ13z29uK6dpPNvxomrnE7CnZQT6WCx4U5On8WmR5UqFVn9OKd7EnLtNB2PD7sF+krL13235BxdOk3TVzxf91EYJ3EcFdotkpN0PfUBt2Q8Xnprfyf5uifq65nbfR/liSuPUvffS2DW3Cmu+O7xPF37etbXfU9pOg2Lqz7enndSnkOHDtOxYyeoX9+eslH24IOlaMjg/pQnT27axOrASncmAsq83IZ2+eOPnfRq39epbLnKVL9BM1q5cm2sXPBSLV/+EbVr31XidejYnT766H+x4v3448/Uq9drEqdN2y70/gefxIhz6tRp6tdvMFWuUosqVX5SzhHmiebOXUQDBw6XWzg2eq5lDDuXSxcvW2nVe6YxLVy4NFYyyB/lQN1e6dmfUD5vtG7denZtXZA6dWwbK1r//r3k3q+//R7rngn44YefrPo3adqapr49i27yd3tADzxwP9tB3UWrV68z0eUYyu61132zXiQ96dKlkzBfOMZIgC/eeWc5vdC8HUFvF0fUFzhDavTZ518T8EFY1269idXirMedtuvXK1ZbbQ88d3pg4K5fv05Tp86UPoT2ZdU7OnToiJWX05Ndu/YS+hfK26JlB2JRe4xHYSNg6oj+Coxhd4QFAuJPnPh2jPih7BQDbTF79gIJ91ZOeAkcPKgfPd+4gZUGJgXQ5UuXrTBPJ2B0QGPenOjpdowwb/3EW7/3VvYYGfAFpId4Z7Zt+0N+OJ8VjYGJCywRDqxf7v4qHTly1NwSj4kzZs6z+g6w/eqrVXLfSdpWQnzCKhM0/I035b1HX5wyZSbbAd6wR6G42tUeCe+zGYNQHk9jkK/+Y9JDf0E/WrT4XRNEGIuAB+xMDB05ekzC0GYg6JijLjVqPkPVa9SjkSPHEeIY2vz7Von/LUtr0Y/Lla9CW7Zsl9tO3iOTDo4YG1Cezz77SoJN2njPMZ6h3VAGex3szztpJ299AGk5aTuTJ+KivJBA2gm2cQg3dla+MMSzkESb8QT17NKlF6H+hvCuxtU/TRwc8d7a+x7SxJhgqNNLPWK9F2hrlPdkHHMTpOeDBo8Q7E3Zdu7cbZK0xmOMXUgHfWD//oNyDrztBHsmxPFkY+re/ngOfcm8A7XrNKS3Jk2z5hh7uubcV1kR7+OPP5MxEnXBWImdfEPACmMq8sJ95I0xxU5O2tP0I/Pe9Os/JAa+rw96g0aNnmAlCzzR5sgTfRwbQ/DMCkrsGOlkzWMVhE9g24o2unr1mhU8bfocCcOGlyG0BcZRkL0+CHuXtS5ATZu1kXlYLqL/OR2zEP0KlwHS/UcffdhKAk6gwPjBdlrpzkRAmZckbpeT7CCgS9eeBIPEF1u9QBUqPEwDBg4j9wX6/AVLaOy4yRQcFExQpwFhoLFP8tu2/0ndXu5Dx9nIvUuXDuzAIAOxHqYVB4uF5i3aywT0creXZHf7x00/8wT/ssfdyVKl7qOqVSpJXjg+y2pc8MJmaMTIseIAoXnzJhKEReyXX640t2UCQf6Z2E01yoO6onwYuDwRFlOHDx+lxx+vQkHsqtqdChUsQF98/oGU2/0ern/7bYsMXIePHCNIbooXKyoM1cDX34hyzsC7qM8+8zT9+uvvojpm0viNmSFM1E8/VUuCfOFonrMfsUjZvXsvDR06mipWrEBYSMNgENiOHz+Z6tR5kpq/0Jg2bfqFB9UR1qNO2hULjte5DpAooF7Zs2ejTp26W2ngBG2LekK17uGHylGTxo2E6Xi5ex/2oOd90R8jIb7o3uNVKlLkbikvdpmgNoiJD4Q6YVLAR2FffvklKlSooGA8nScSiOpLliwuqnmY9A0BbxhGgnn0Vc4s7GijSZNGhLYGgbmbNXu+nD/yyENyjOtf+fJlqGPHNrRu3QYpZ1zxfPWTuPq9r7K75wfVBLwzaC/8cP4gY2AIE93Et96matWqiIQRC7aOnXpYDigmTJwqi4SyZUtTV35/kD8WbIjnK22TB45YcHTu0pPYdo2aNnmOgCMW20gLaYK8tatE4H/YnMD7HBAQIO9zIHt0xBiEPmcnb/3HHg/9BR8SNlJP3EPbHDhwkFat/mcDZ+vW7RJWrHhR2Tzp0OFlWrPmG1EDxXu1ctVa6tq1l7WwusHjCNLo3XuAZNe+XSvKmSuHLNx9vUf28uEcHi6R1kX+7hfIpN2nz0D2UBlMSBsEZvDvvw/Iuf2fr3by1QectJ09P2z8gMH+8qt/xmHc/+abDVKP0qUfcIQhNiOwWEXb4r1FPY8eO0bA3jCC3vqnvUxvjBjLnyDYTa14fiuGMZnTHMP9yBBwO+vmlIXt3qS8ngyh0Wfbd+gmjDxUgVu3bk57/9onGydgFEBmPMZcWpz7Tfv2L8rGF7D57PMoRtTkb7ApU+ZBE2Qd3dsf4yCYB7ZtkN32mjWfkHluwoSp1jP2EydlxebWyFHjqUSJYpJmvnx5aQRjZjYxRzBzDnXnBvXrUv9+vQjYYAPr+PETkhUc5/h6J4ALxgC8N3Wfrk01a1bjjcSfqAWvB7DBBjp+/KSVJphGbE6gzTF3QyMBDDE230CJGSOdrnkko+h/RQoXlv4AJtzQp8zg4d3ctu1PEyR9Im/0Zpe9PtWrP26pfqLP1OBrOzkds/BMWe4nUBe76658VhJgoP78cyd56kNWJD1JXgRcSkmKAA9aYvDFg7uVLozKYARmDPZ5cJJrGI3yYCjxYHTGuwkSfu3aNQlr2KiFCz9eiMs14uIZpMXSBxcvruWcX3orLxhVzpm7yMWTsxVmP4FRPp63G+cbQ0y7ESt/G0fiDRgwTB7nhbZcDx022kqOPxDqqlvveRfri1ph9hOTLk8u9mAXnuMB1voZA313Y7tn6zeV9BHfEC/SpBzMNEjQ/v0H5PrjTz43UVwoY0U2VDQG3b5wtB60ncBwHjih7Qz1eXVgjLwRjrwQD44HnLYrMMMPGBgy+eEI4l1mSZeZRxPFxTrJEsYSDwlzx8uKGH1i7n/wwSfWLWacJI1PovHihaYL8QxWiIh+CuxBzKhIfDxnCM4XgC/q7KSc5jm0M4zwgRfSsBtamjg4HjlyTOL8739fcj8PlXcA+fECRqLx7rDcN2V20k889fv4lN1ePhjmuxvnwwAZ9WKmzooKhxQIO3DgkIQtXrzMxZIW6z7eUdx/c+wkK8xT2tbN6BNeWMlz6PuGPvzwUwljxl2CfLUrL34kPtrDPga17/CytC0MVZ30H5O/OfKiTNI1Y9bA14dbjhowpoDQ9qZ/jR03SeJjLDMEY3jg8va02RJkxk+MrXZy8h7Z4+McfRBpo24gk/bo0RPkGv/Yxb7EmT9/iRXmfuKpnZz0ASdt554X3neU2eCH9oLzE4xHICcYsgRc0mB7Myt5vE94r8y476t/mvEcbcfePq10zJy3l8cnEBypvPHGm9Z9nPDCXfI/fOSohNsN9lEOzFlbtmyznjHjFPoxyIyPSMdOxnmHGRtwD/2CN2js0axz9/Z/b/lHUi5mYqw4yOOdpcuta/uJk7LinQKuhvAuLVnynouZKnnX0JZ4LwzBWHzuvEUynyPMSXuaOLzANslYYzXGAhD6KHAG7eD1CDA+cfKUXOOfGZ8wb4ESOkaa9ve25pEMbP+ACTCayc5XQMAfuKDvoFwgZuYkbPWab+TaXh8EmHnArB8QlpAxC8+5E4z1UR57n3SPo9fJi4BKXpKYd4T9xsMPl6f7Wd/UEGw7jKoMwvbt2y+3mjV7jr9x4yfn2LVs1vQ5Od/HO1f8QsouxN2FCojqCUThPDnIDjoi7WeRed68Ueo32O2H6By7MaVLl6KXOrWlrFmySFrx+VezxhNW9MyZM0laPNlI2F+8qwwqWaK4uBlFeaAnmjNnTtm54wlV7tv/hdwIkctMmTJZwYhXuUptqlL1n9+rfQdZ980JJCeQ2kDikTFjRhNMzz8XpX4EqQioaNEiIh1g71VyDdWHtSxNqP9sXcJOshMc5cE4/j322D9ODVB3ECQChrALCIKUyUm7MmMquKFekGAZQl+whvRT2gAAQABJREFU065olQnsvAJr/Hjmkyhbt8ZUMbA/5+kcThIMlSsXVfaj/A0kEBwatGvbSsqPPgUpFdTggD0IdYWUwbjcxA4ldvuea1RfduzjU06ewCWdgQNfpeHDBopkRzLx8i84OIhGjRoikjT77q55xGk/MfHtx/iU3f5cXOdQYcRuq6EKLHUFmR3VNm1aUL16dcRVOCRXB/Yfkvt2tUMJ8PHvu++j1P7Q103fKMjjBAhGtyBf7Yr8QS1bNIkxBi2YP51+/GGtfDtLIvA/b/3HxDHHCtHStF27dosUCKo7r/ToIrd/37JNjpCMPl61spzv4J1XjJd23XzshN533z20c8c/akOIbCSpOHf6HiGuE6rBO+6G8ue/S9RRmYkyQY6PvvqAk7ZzzwzSKND3P2ySI+YB9Jl69Z6SaycY7ooeLxvb1DdhjIy2Hj8uSnLstH9C4mzUcVEAa96KntekUPH4h3JgzoIU6ejR4yLxhjQCdP5CTHs37LjbyWBjcMUYjHkJzmGcUP7o3faxYyeJCjTGE6gQQWvCEzkpK6TMSAdpYveel3giTarB8yvme0izMV9DNRlqwDlz5hC1avMOOGlPZiRlbIYUzRCcn2zb+iM1btzQBFlH2IsA41ycF/JEHhej1XaZIbPiuZ84GSOdrHnc04VaVuVKj7HWxGa5hTEBa6RWLZvRho1R45vR6HiEx4f4UnzGLPe0P/jwUzHWB15mvnSPo9fJj0BA8hfhv1UCiNOff65+rEoVK1bEUoOA6g7IDJwmMrxcgA6xKDttMH+0k2k9T/74uRPvTguDNHXKOIK4H6o/IFFJ6dohQZ7EsmbLEiObbNmyWd9kOXjgkNwbP2FKjDjmgndvYjBoCDdi2NM2PWcM3mNGDzOP0egxE2IslMyNo9E67/l5QWgnLPgzZEhP+1m8bKj+s0+zus40UcMCU4OJwxjzm0W4LxxNWu5HMEDuZA8L4EHYkJN2DQ4Kkuju9bIzt4jw559R4vRWL3YyyVtHqFTEh6C6ZQjYCfGECsJENmToyDhV/zDJNGz4DLH0hgax7QpUTICv8QAWn3KCMQIz9kKz5yVvp/8w8cLjCzzLPO3meSw+/cQ9v/iU3f1ZT9dg5O1kxx3hvMsvalnuzApUeuJDpk/Di587GZsoX+1q9VVeqLuT2VAx4fZ6uPcfE8ccwcyD2cXCH5sO6CvYvMFi4peff6MHWHUVi0uzKYAFiqfxEv0E6ol2svLmQCxyQb7eI4nk4J/7Zg/qgEVnfMlXH3DSdu55Fi5cSNR6oD4JFRkwhMACiz+QEwz384YYxhioxtnJ3tZO+2eBAvntSVjjvNnoinHTwQU2tBYsfIcWsfoZ+os3wmaGnaAOC5UnqCpiQ2jDxqi58nHuc04IfbNH986s+rZUVKDxDJzK9Hili6Xqak/HSVmhCnzu/HlZAMNjFdoKmz3du78k6qHjx40kqGjDngM/tAvU4My46KQ941pn2NvTXm4w+9j8AdMUH3IyRsZVFvuax1OeUMeGCiJsgGAYD5W9xziMJa6iCslSD9nEAMMYX4rPmGVPm6XxNGbMRFHF6xqtzm+/r+d3DgLKvCRxW2DSPe2m74sssPuaPn3UwjEv68CCzp49T9CHNYRrENzJ5s6dS847dGgtuxFyYftnpBHVqlWVhQF2nDb99Athd7tz55604uuP2eVf7IWJLYl4nZrF9cwZk2RAcX84a9aYjA/u58ubR6Kt+2YjGTsaDK7YfQZhxweTVdEihXEZg4xUCUyRnWCsj2fsdXuSJxswL/A69scfO2TxZHRVneJozyOh5/FpV/d6ue9+YeBnMT59s+7LWBIKMBRJRf36D5a+OWrkECpT9kGR2GHyWMEOBQxhxxv2EbBVwOCO3WUsGEDxKWdTliwmZEGIfDp2aCMLlMFDRsbYgY9PP0E6dopP2e3PJeQcdkqwNQJucGCA3Vcw4jA2NQyt03SBfxaWrE6fNjHWI2Zx6qtdrY0FHqvsY1CsBOMZAAky7Ol+37xN7PkgQcHOcpXKj9GSd94TKQuSNDuakJx6Gi9PnToj9ldxZW/ea1/vUVzPJ1e4k7bzVLb6bB8B+yRIeOEiti4zMWYh7wRDSOawgQPJKWyc3Ck+/dO9vc7zQh1k5gic37hxEweLbtoM+q3A6BPYfE2fPlekJU1YagDmKIQ1D559tql7VI/XBpurV6/xuLVWNlucus7FfAS7utatW7Adzy62Jdoo9ii7du+hr7/6OFZ+TsoKZgWeNV/r35u284bNp//7UtIEBnj3wXAtWjhLjOs3s03Ysvc+lLYFA41NISftifHjxIlTscoXV8C8eVHaGWDUYO8Cb3tR9ppRm55xPedkjHSy5vGU/iPRUlowa5DsYzy7j43kgd/mzVvFWc5T0Xarnp5P6jA4TYBdHbwRvvHGoFjzblLnp+klDgFVG0scfrGehps9LPLsX5GHiobZccMDJaNVS9av3xjjeRgagqCehJ0//Hbt3ENgDMw1Fu5wBoCdFHgywo4TROwYzOCOFi7+QFAB8kRp/KKa3Bj1eYrjKaxkyRISDK9Ypiw4wisQyuNpxwcSCpRp8+YtltqRPW0wWiAsmt0pa9asMhkCE/vO9Hffb5Ko99q+0wAmCepNX3yxQlTGGjV61hp4TFm94eied0KvnbQrDJpRJvd64bs3dsKiD4R+Y+qAIwbY3Xv22qMm+Dw0NEwM75+sWZ0XCk/LTiMmjt9/j1LvMQmjb2FCxc7v6tXrZHFg2js+5XyofFmCFCUhBIcPb44ZJowr2zdZSTjtJ576fXzKbmUYfXLuXEym2v2++/W+v/5RFcXiIS/3WbzLkEK4k6+0oWYFyUmaNH5W34DDBbyHJ9i5h5N2LRn9/sBo107wNtW9R1/L8N9+z+k5dlTBeK/f8J0slPAcJC2o6yeffi4MDPoZqEyZB2KNl4iHfg4pTVzk9D2K6/mkCPfVTp7y8NV2np5B2JM1q8mtpUuXy5gAI21DTjC8/76o927Dhh/MY9JP4EERXp7i0z/X8ZxjVxPGhgaoRPFicgQzDO9tdkJ7xkVGBRjSVWgOgNmFOqRTMti8u+wDUbW2Y+MrDUiDIckKDAwQhrpv31dksxB90NMc6aSswAPpQvW6Kkt2Jk96U8ZPMDJIE840MG9i3sK4O2vmZCmmSdtJe5bmdQbeMaOSigSwHoCnN6wJ3AnlwfwBRg3jOaQZKI+dEjpGOlnz2PMx5wUL5pc5HlIvUHmeH7D5AdXAL75cIf28QoWHTPRYxzTMeILAtCaWDrAmB5wPof+9NXG0RwdDic1Dn09aBGJvwSRt+qkuNYh+4f4UrvxatWpG4eER4mHIDgR2PaGTK159+AWExyKo40DXEp6ZMMiAuvMuCbyUvDZgGNWpXZOuh1ynGTPmcZrhtHLFJ7Jz07ffIKr4WAWCvjJ21Ja8s1yeNZIHubD9M3q1ixcvo8hbkTxQVLXdjfsUKm2QmMyYMVfEvGVYPxleZeCRDLq8RprinkK7di1lIOrN3nzAyEAvF4MNBvg1bDtRqdKjVM1mk2F/Hl7Y4B64/2tD6Kk6tcS72ew5C0TygwWSneB1DCJokNGDNvd94WjiJfbotF2hSwtPc6ZemHQg7bATFrjY0erxSl/qwTYDUDHcuPEHwsJ9wIA+CVILtKePc+zcYiKDW+ly5UpLv4NLTwzkZnFpnmnEqmNQcQDZ8XVaTjCgDRq+INI29F2z82/Sd3JE30WfYCPPGNGd9BNP/d5p2WNkxhcPPVSWFix4h+bNXyxSBpO2ezz7dYkSReUSH+jMkD6D7IDPnDXPHkXOnaQNmwO4+u3StTfbrDSVtmJDeRlD3l++yFG7YuEEJh/u2jFuIN9tbEuF7zIhfSwiEkrmw6MY04y9C7zYQeqA3d6ePbtZSWO8ZMcM4qa4efPGLJkjkR6j/9nda1sP2E6cvEe26El66qSdPGXoq+08PYMwLOixEEbfh4SjrG3DxwmGjz9eSd71ocNG8Th6kpnnvKxCtEqkMRMnjGZbLWf9E2XBonkQe1isyQwVxgowvGDKSpWKYpDKs13dUlafhqdG2F7B7gNtHBeZD4ZOe3s2NWhQj46xlgKkTE7JYAPX7Zg7H364nNNHpWxwW4x2gdTj3LkLItnCxgaYD3dyUla8mxirYduHzZodO3YJTvDwhjF3OM9p0JwAo5Q3Tx6ZH5GPeW+ctCc0GeCVr3uPftS2bQsp5uLF70k+kKK7ExgMMJBoK7QPtDSw3rCTGcfsawMnY6STNY89H/s5vIRBtQ5MiplzILmFZzxQ6QcfsEePcY46gSZPmSFeR93XBDEie7mA9BYu2LGZVJklxJ/zJqidnuF1T4YMGexBen4HIKDMSxI3Al6oCRNG0axZC2TwRvJwi4qdpFOnz0hu2LWGwTLUyDDQQSUHgy6M1fr06W6VCLrgMDj/kAcZLPRBmCQgeoZYHAPjiBGDxK0nexWR+9ghx5e/7TqfciP6HwZkswDEALFq5T8DmB9F7WSY+NjZMIuYqDK/LmWGS0P2xCPRYA/Rv19P80isI3bG//fpMnEdiYURfoYwmHfq1M6S2pjdfHNE2jdYTQwLLOz6g6qzmtxgli7ZDUYRXqPG48K8YMF/Dy/I7eQLR3tcc85Vj0WmXDFuREfEPfyctCsmHhhL4psaqBcG7cmTx4rI2uSLdpo9a4roKcPwE4R4vXp1s3SjTXnMMUa5+MKEm2OM+9EZwf4I3yTCdxtAmMDBQNvVxhBeu3YNYV7gEMK4PUa4k3IiHsoANSmox9lthnDPnazyGjBsEaAbvo6lccbgHLec9BNP/R47xL4wtmVtncIZBBbhUHU5yaobQ4cOsN4TKxKfWPXgc7wHMIwGgw28QWjLFSvWyLn55yltc88csciYM2eqbCRAjQ4ExkDULqIldk7aVcYRtoHAIhY7+iAYX/fuHTUGmfKbo0Qw/zy0jbmFxSSYYrSRWWDgXrUnqhJ2x+3fU0Bd5s2dJosqLHZBkKIOG/qaR3VSiRD9z8l7ZI9vP/dYJ3sEPvcWx1M7mbHSnox7Gk7azv68/fwZNtBnL1yywLfn5QRDLL5mTH9L9PmhYgvCnIM+UKtWdbl20j8RcciQ1+jzz7+y+jHsmTDuGXVW2AocZMkgvuWBH+YkzIH2byLZy48FMuYCbOZBKoFyof/CjtMMw166m5QdtkCCTf16VjnkRhz/TLvA1fg5VtfGvIRFNAhqQ0O5jp7ISVmN9oOdAUNfhYtiqHXOmT2VbV7GyXfDkAfqC0yRL8hJe8K27O23J9C0aXOsdQbmPsz9dvU9gzMYfUhr585dJHmAOevD7/mkydOtfp7QMdLJmkcy9fAPElngbrdRMkwc+pX7JxZMfZAUGB6sB2DHAzWzNas/s+pi2jdGlnF0Iki8jNo2NmfdqSq3izIv7qgk/7Uf66DzXpfS7UDgEn9LID3vsrq/gPa8AD98/2MA80bQSYYRf1y6vJcvX5EdVLN74S0t3MNOOPSfjY68r/j2+ygzvlECdTZP+tP2uPZzeEfCABrERutYbMXnWdQvY8YMjiYme57u575wdI+f0Gsn7QrVC7Q9RPj2Qdk9T0jaoG7gK577c/G5jm//8ZS2r3KizyFOXH3YU5rxDfPVT+Lq977K7qkcMDRFHzaLNk9x3MPMu5M5c2av44LTtGEDgbLHtVnhpF1RJkzet7N/uePg6RobNSD3jQlPce1hTt8j+zNJde60nTzl56vtPD3jK8wJhhj3oXYMhtqdnPZPPIcxCXNbXO8z7BPx85SPe764xrtp5kJv46GnZ/F9NDiT+ejDd4Rx9hTHWxj6EN4BvEe+NleQjpOyAudLvEmFud1TfdD+YeFhXj2DOmlPxEH5nSywETc0zHueiRkjnax5vLVDQu5h/AM5abeEpK/P3JkIKPNyZ7aLlkoRUAQUAUVAEVAEvCAAr3rwkgZ1YmglvD11vJfYeksRUAT+Kwio2th/pSW1HoqAIqAIKAKKQCpCAO50+cPF4jZ60KC+qajmWlVFIHUjoJKX1N3+WntFQBFQBBQBRUARUAQUAUUgxSCQcJcyKaaKWlBFQBFQBBQBRUARUAQUAUVAEfgvIKDMy3+hFbUOioAioAgoAoqAIqAIKAKKQCpAQJmXVNDIWkVFQBFQBBQBRUARUAQUAUXgv4CAMi//hVbUOigCioAioAgoAoqAIqAIKAKpAAFlXlJBI2sVFQFFQBFQBBQBRUARUAQUgf8CAsq8/BdaUeugCCgCioAioAgoAoqAIqAIpAIElHlJBY2sVVQEFAFFQBFQBBQBRUARUAT+Cwgo85KCWvHzL76m3bv33rYS//zLb7Rhw/de0790+TKhHKdOnZZ4O3fupuXLP6Jbt255fU5v3hkIfP31atqxY5fPwkRERNDBg4fp+vXrPuP+9dff0ie89YHw8HBatuxD2rPnL5/paQRFQBFQBBQBRUARUATiQkCZl7iQuQPDhw4dTet9MBeJKfb7yz+m2XMWek3i1MnThHLs27df4s2bt5jGjptMhw4d8fpcSrl56dIl+u67HwnH/yK9PugNWrduQ5xVA5MxbPgYeujhx6lho+ZUqXIt6tCxO128GDceP276WfoEno2L/v77AI2fMIUWLFwaVxQNVwQUAUVAEVAEFAFFwCcCyrz4hEgjeENgwIA+NHPGJCpWrIi3aCnm3p69+6jHK/0Ix9RIb775Fn322VfUo3tnem/ZAurXrydt3ryF+rw6MFFw3HtvSZox/S3qz+kpKQKKgCKgCCgCioAikFAEAhL6oD7nGwGXy0V+fn4+I3qK5ynMPSFfcXzdR3pO4niLlzdvHsLPEzlJ20kcT2n7CvOVrq/73tJ38mxkZCSlSRNzb8DJc/Z8ncb3Fc/XfZMn4q1avY7q1atDHTu2keBSpe6jv/ZGqYWFhNyg9OnTmehxHj3lh/egSpWKHp/xFN89oq84ib3vnp9eKwKKgCKgCCgCisCdiUDM1dWdWcYUVyrYCgx/402qXKUW1XumMU2ZMpOw8DP0zjvL6YXm7Qg2JjiWLVeZd7gH05UrV+mzz7+WZxDWtVtvOn36jHlMji5eFC9k1ZvqNepJ+lDxOXr0eIw4vvJH5D/+2Emv9n1d8q7foBmtXLk2Rhq4gA3DHFYjw32UZ+DA4XT27LkY8d7/4BNq9FxLCbt+PUTOUYexYydRjZrPsNrRk4IF7hmCetHMWfOtdF8bMJR++22LPLv5960mmnUEI9CiZQeaOPFtKwwnoaGh1KRpa5o9e4GEwz5j6tSZki6wBzbu6mwGG5QNGPbrP4RORtvvzJ27SOqIxFBX1MvUF2mjHYEF0gZ2aD9Dpu4ff/I5QTWrXPkqNG/+Yrn98cefSTmBIcr7yadfmMc8HmFH1KVLL8EcZQQ+drUt9BWo6n344acWhp1e6kFHjh6Lkd7XK1ZTu/ZdJZ02bbvQzl17Ytx3v0D/q1q1EtV9unaMWyVKFpPrM2fOxgh3v9i//6BVbrQX6m0oNDQsqm+wVMeQr3qifdHmtes0lDqgLtu2/WEel+OPP/5MvXq9ZtUR/dFOsM0CXmgz9EWcG3stezw9VwQUAUVAEVAEFIGUgYBKXpK4nbDI7NylJ2GB3rTJcwQD90WL36XDR47SWxNHy278hQsXxfAetiPY5S5ZorgYPB86fISOHz9BL7zQmEJ4sb/8/Y95ITyCFsyfbpVy2XsfUnBwMD3zzFN09eo1+t//vhRGZNm782VX3En+J0+eoi5do9R3Xmz1At3kReKAgcMoQ4b0VKhQQSuv6dPn0MJF71LFxyrIgva77zfJQtqKwCeoy4EDByUIzA7Ox4+fLGpkTZs+Rxs3/iBlLHX/vdSkSSOJN37CVFl4Yye+Xt06tOmnX6lnr/5sHB5CN2xMnskHEoySJYvT0nffpx49unD9g+TWr7/+TjAW7/lKVwKDM/D1NyS/55+rT5kyZaIvvlwhKk/LWP0pa5YsdO7ceWmba9euUaOGz1JoWBit4AU+1KI+/+x9gpShapVK0hY4Fi5cSDBFvfq/NpR++OEnwf2ufHlp9ZpvqHPnnrT0nXlUunQpYfRQ95Ejx9Hddxck4PpAqfuFGR05ary0czPGAxiOGDGW0qdLR08/XctU0TqCkcLCv0CBu5gR6CALbahxHT58lN5fvkjiHT12nGBnkjFjRmpQvy7tZQyA87Rpc2jC+JES53vO53XGA2V56aV2BJuTTp26W/l4OsmSJTONGzsi1q3fN0cxlHfdlS/WPXsAGKhy5cpIuVEe1Dtt2rSCmcsVKX3jYrQtkZN6jmAsv/pqFb3UqS1lzZqVsfyKwISt+Ppjyp//Ltq2/U/q9nIf6RvAaseOXQS1t1sRt6hly6bSJ5q3aC9FfLnbS+J8YPGSZbRr9x768osPY0nG7HXRc0VAEVAEFAFFQBG4QxFgdQulJERgwoSprtJlKrr27z9gpco75BL222+/S9jkyTPkmg3DrThsUyBhmzb9YoUNHTZawpgRkjCk6542S0wkjBkdieMkf15UyjO8823lhbIg7WYvtJUw3p2W6759B7GwJ1LCwsLCXK1e7CjhpuwzZs6Ta0S4fPmKnDdu8qLr5s1QeQb/atVu4OKFvlwzEydxhgwZZd1nz1ZyH/mbdK2b0SfMqMhzvCi3brFkxVWxUk0X8Pl2/Xdy/8svV1r32W5FwlgyI2Fjx02S6z//3GnFMemijUA//fyrxMHR0Lp16yXsgw8+MUGuixcvuqpVr+vixbGE2et+48YNK16v3gOkjCYAdV2y5D3XN99sMEExjju4TebMXeQ6cfKUFT5lSlR/YSmQhKGNgBUzulYcYIEwk3fdes+78GNpihXH9DscndKaNd9KuvPnL4nzkYWLlkoce5vevHnThX6A9kH/QblQPsQF+aonnkH8ga8Pt/JlyY9r7rxFLva4J2ENG7Vw4cdMr1zjmb79BstzyB/xkMann35hpbF9+w7Bl5koK0xPFAFFQBFQBBQBRSDlIKBqY0nMVH73/Y+SYlhYuLiFhWvYgoUKSJi7Efhjjz1i5Q7pC6h8+TJWWPHiReXcrnJWvVpVKlr0H+P4p556UiQmxgWtk/x3sfrQww+Xp/tZGmII6kJ58uQ2l5Y3sWYvPG/Z7QQGBopUyIoUx0k1LqORjiDK449XJmYGJDbsJ0CNGzeUI/75+/tT02bPWdeeToBL9uzZ6NtvN8ptuPJdw9KP5xrVp4CAANrFqlYgSBqABX5QsQNt3RqlasQLV8H3gQful3D8e+SR8rRt648xymPdjD4x2DZkaY0hSAIaNqhHUH2ClM1QrVo1RNpgrgsVLCASJajRMdMkNkatWzenGjWeMFFiHCGhgqQhV84covIGacLFS5clDqRchiDtsUtCHns0qi9BdQuSpWPHTrBUph5LoDKaR6iZD4ytiNEnqFvffoOkr7z4YnP327GuW7RoYoVBOtiE2xjSNEj63MlXPWEjA2kbXDtDzRLqfzkZk04d2xKM/5kZEknO3fxuHWGpJtpoLztZKFLkbskKOOTNG9Wf5y9YIulA8gbcRJLDkjglRUARUAQUAUVAEUh5CKjaWBK3GdR7QLw7Lkf7P3f7CzAD7mQPC+BFvTsVLhy1OLOHIwy2HCAn+WNRCtUqd4LHMGNbYdLJ76YqVLBAFCPm/qz9Onu2rPZLypb1n4Xi2XNRNjNgROyUM0cO+2WsczA4DRs+Qyz9oEGD+tGWLdtlYQzmDfTnn1HfLmn1YqdYz+79a5+ExVVvX04V4BYajF1QUMz2yl8gv6R7/PhJYaxwkSljBgkz/6Cyde78eVEBhBogVPPAcHXv/lIMJsfEB+MxhlWfsGj3RjmyZ49xGypfIJY+WDZQ+Vn1zE525tQe7ukc9jNQAwMzOHnSm7Hq7ukZOzOF+1DtAiEt9/Z2Us/x40bSiJFj6a1J0+SH8rdv/yK90Ox5q5/Ddbgn9+FHjhwT5nzqlHE0YeJUsUNCWcqWLU1du3Ygw+whTEkRUAQUAUVAEVAEUg4CyrwkcVvBViEL7+pOnzYxVsrYjU4snTwVexcbO9tmMeYkfyxIT3swvoa9Tfr06aWIZtf67NnzlI9tPAz5Mto28eI6Fi8WJU1itTqx6zDx9u71/fHCp5+qJc4Ktm7dTqwmJs/DTgUExgvSnW/WfRnLlgGMDwg7+SdOxMZPbnr5V4CZFCyQYfti0kJ0Y8yfJ08ulr5EeEwBzMroUUPptf69aTvbaHzKNkqw3YGd0WBmwtxp3rwoKQFcFUNilStXTmJVQmvx7R7f03Xu3Lkk2JTPxLFLbkyYp+P58xd4gd9LbGrmznmbMmfO5ClarLBzzJja455lSQfIlMf+gJN6QoqyaOEscaiwmR06wN4LNi2wX6pQ4SFJrkOH1tSqZTN70nIOeyAQpIBPPFFFJImbfvqFWGVPbJWM3YxE0n+KgCKgCCgCioAikGIQULWxJG4qqGMdOnSYF9B+stuMHed06dLST2yUfuLEyUTnBkNsIx1BYvAahkXpPfeWkLSd5P/gg6VYlWo72RkRGL4baQsSKlGimKRn1LTkgv/BUD0xdM89JUT6gA8WglkCQeVn8pQZPpMF8wGVOXxkcfXqdSKJMVKT++67R55HHYC5+cE71e49e+Veaa43GByTLwKhcgQJw9q16yVOGr+oVwKetwyZtNGGhqAWCGxQnnRsfB8XgcmCYTkW9VDNgxQDz4CR8USIi7LDVTHqm42lWHHF9fQ8wnLkyC5psF2NMFwm3nouiy+CmtfL3V8V73jz2VFEXG6wPaWz7psolT7cY81ZxvRbiXa3zQmEec5XPYH/Gn4eUpt87Ir72WefplkzJ8vjbMtite+unXvYmD+LdY3yo50g2UHbol2vXbsuWLZt05KGDO4vaUCtzBCcaigpAoqAIqAIKAKKQMpAQCUvSdxOzdlTGLxDdenam1q2aCoLdey0Q83JeItKTJZmcYm0Q0JCxOUwdveNe1sn+UPtBl6csEht1aqZSA3gJthOBdlWA3YZ8JTmx4zYAyzhgAQAdiaJISzi35o4hvHpRXXrNRZ8UCfY8nhS/3HPqxGrjkGNCFSnTpTKGM4hpYBEqccrfcUjGdTdNm78geC6GB/ShGSqefMmtHLVWureox+1bdsCj9Hixe+J7cSokUPkGvYUUeHLKPJWJFWvXlXSBsPR/7UhBK9VuXLnFPzA8HnyziUJRP9DX0A5Bg58lWDnsWPHLsmvfbtW9mjWORhLMFzsCIHKs+cuSAs+YJfI8SXYdcCdMsr8VJ1aspB/e9psr8lAsgQbFzAHtWvXFCbAzrA9WuFh8cAWVyIzZswl2CLBfosdL4h3ts6d24u0ym4XhOd91RM2U8PZ1TUkKH37vkJ58+QR73F4FnZKoO4snYLnttcGDKM6XN7rIddpxox5YoO0csUnIrFBfeAtr02bFmIbteSd5fJsmTIPynEae9RjZwTyodXKlR+TMP2nCCgCioAioAgoAncuAsq8JHHbYPE7Z85UXkTNpcFDRkrqUOWCGpnZwWdb5FhkJAgxbkRHtN9r17YVQa0H3xIBwQC5X99elmqOk/yxcJwwYRTNmrWA4K4Z1JVdzUICcir6uzLIc9TIwTQ8IEBUtRAHkoAxo4dZeSPMXjbr3L2CbtcVK1agVav+R7/8spkucF3KlSvNNhVBjpiX2rVrCPOCesMY3hCYotmzpoi9CIzjQWDqevXqJjYSuIYDhLffniAuhU29wfAsWTzbclaAdLp17ShMIb6vsmrlp6I2N2vmJEkbEiMQmJmhQweQsbmJq+5mpx/qTobARMG1rycC0wHJnWEm0Wf69O5OkyZPj4m12wcwwWCCTDmQBwz9P/rofyKpAhaTJ4+l3r0HcBxPOZPYEIFBBYFJdWdU0fZwH+1OJs+3p46Xb/pAEoj8oM7VhZkXO5m4vuoJFcs5s6eyzcs4+TYL0oBEasiQ16yPXcJuC4b77CnOKiskj1DHg4tmMIsjRgyS7/OAWQah3dDexkYoQ4YoG6XgtIlX6ZQM9J8ioAgoAoqAIqAI3FYE/OAY7bbmkIoTh5cw7DibhVJSQoFFWwR/z8LuTco9fSf5X+LvbqRPn8GrQTZUpEJuhIitgXse8b1GuZe++wEVK1qYatasZj0+8a1ptHTpcvrqy4+oYMEoQ3jrZjxPgDnUjqBy5f6Ve5MUygHjdrN4NeHmCCkEpAjudkoIA65gcuJDeO4SMxNYgMdVJnt6KB++QwP7jsQQ6gg1Q29YJCZ992cxnIB5cZqfk3oC77Bw71hA9SstMzxgWjwRu7IWyQuYKndyt2Vyv6/XioAioAgoAoqAInDnIKDMy53TFqmmJPh6PGxP4MoXko8tbH+DD0DCCHve3CiVsFQDhlZUEVAEFAFFQBFQBBQBRcAxAsq8OIZKIyYVAthJnzdvETMwv4ktRgm2kXj00YepY4c2XiVASZW/pqMIKAKKgCKgCCgCioAikDIRUOYlZbablloRUAQUAUVAEVAEFAFFQBFIdQioq+RU1+RaYUVAEVAEFAFFQBFQBBQBRSBlIqDMS8psNy21IqAIKAKKgCKgCCgCioAikOoQUOYl1TW5VlgRUAQUAUVAEVAEFAFFQBFImQgo85Iy201LrQgoAoqAIqAIKAKKgCKgCKQ6BJR5SXVNrhVWBBQBRUARUAQUAUVAEVAEUiYCyrykzHbTUisCioAioAgoAoqAIqAIKAKpDgFlXlJdk2uFFQFFQBFQBBQBRUARUAQUgZSJgDIvKbPdtNSKgCKgCCgCioAioAgoAopAqkNAmZdU1+RaYUVAEVAEFAFFQBFQBBQBRSBlIqDMS8psNy21IqAIKAKKgCKgCCgCioAikOoQUOYl1TW5VlgRUAQUAUVAEVAEFAFFQBFImQgo85Iy201LrQgoAoqAIqAIKAKKgCKgCKQ6BJR5SXVNrhVWBBQBRUARUAQUAUVAEVAEUiYCyrykzHbTUisCioAioAgoAoqAIqAIKAKpDgFlXlJdk2uFFQFFQBFQBBQBRUARUAQUgZSJgDIvKbPdtNSKgCKgCCgCioAioAgoAopAqkNAmZdU1+RaYUVAEVAEFAFFQBFQBBQBRSBlIqDMS8psNy21IqAIKAKKgCKgCCgCioAikOoQUOYl1TW5VlgRUAQUAUVAEVAEFAFFQBFImQgo85Iy201LrQgoAoqAIqAIKAKKgCKgCKQ6BJR5SXVNrhVWBBQBRUARUAQUAUVAEVAEUiYCyrykzHbTUisCioAioAgoAoqAIqAIKAKpDgFlXlJdk2uFFQFFQBFQBBQBRUARUAQUgZSJgDIvKbPdtNSKgCKgCCgCioAioAgoAopAqkNAmZdU1+RaYUVAEVAEFAFFQBFQBBQBRSBlIqDMS8psNy21IqAIKAKKgCKgCCgCioAikOoQCDhx4kSqq7RWWBFQBBQBRUARUAQUAUVAEVAEUh4CfiEhN1wpr9haYkVAEVAEFAFFQBFQBBQBRUARSG0IqNpYamtxra8ioAgoAoqAIqAIKAKKgCKQQhFQ5iWFNpwWWxFQBBQBRUARUAQUAUVAEUhtCCjzktpaXOurCCgCioAioAgoAoqAIqAIpFAElHlJoQ2nxVYEFAFFQBFQBBQBRUARUARSGwLKvKS2Ftf6KgKKgCKgCCgCioAioAgoAikUAWVeUmjDabEVAUVAEVAEFAFFQBFQBBSB1IaAMi+prcW1voqAIqAIKAKKgCKgCCgCikAKRUCZlxTacFpsRUARUAQUAUVAEVAEFAFFILUhoMxLamtxra8ioAgoAoqAIqAIKAKKgCKQQhFQ5iWFNpwWWxFQBBQBRUARUAQUAUVAEUhtCCjzktpaXOurCCgCioAioAgoAoqAIqAI/J+984Dfqfrj+KG9jAqhraWhvYsklErRRlmVmWzKKJtsIVKKJIV2/UslRFNpT+2ikFEozf/3fX6/7+P8rvs89z7Pbxnn+3r9fs997j3rfs453/Nd5zxbKAJeedlCO8432yPgEfAIeAQ8Ah4Bj4BHwCOwrSHglZdtrcf9+3oEPAIeAY+AR8Aj4BHwCHgEtlAEvPKyhXacb7ZHwCPgEfAIeAQ8Ah4Bj4BHYFtDwCsv21qP+/f1CHgEPAIeAY+AR8Aj4BHwCGyhCHjlZQvtON9sj4BHwCPgEfAIeAQ8Ah4Bj8C2hoBXXra1Hvfv6xHwCHgEPAIeAY+AR8Aj4BHYQhHwyssW2nG+2R4Bj4BHwCPgEfAIeAQ8Ah6BbQ0Br7xsaz3u39cj4BHwCHgEPAIeAY+AR8AjsIUi4JWXLbTjfLM9Ah4Bj4BHwCPgEfAIeAQ8AtsaAl552dZ63L+vR8Aj4BHwCHgEPAIeAY+AR2ALRcArL1tox/lmewQ8Ah4Bj4BHwCPgEfAIeAS2NQS88rKt9bh/X4+AR8Aj4BHwCHgEPAIeAY/AForA9oXV7scXv2OGvz3LrPpjXYE0oeTOu5l2J9Ywlx5yQoHU5yvxCHgEPAIeAY+AR8Aj4BHwCHgE8haBQvO8FKTiAmQoSdTpySPgEfAIeAQ8Ah4Bj4BHwCPgEdgyESg05aWgPC5utxRGnW79/toj4BHwCHgEPAIeAY+AR8Aj4BHIHIFCU14yb7LP6RHwCHgEPAIeAY+AR8Aj4BHwCGyLCBTanpd0wD61XAXD3ynlDjZvLvnKZh210IeApYOhT+sR8Ah4BDwCHgGPgEfAI7B1IrB8+SpTqlTJfHs5yo9L+dkO2rDZKy9tTqphbjqpusXrjSVfWgUGRYZ7DZ4cZ7jnySPgEfAIeAQ8Ah4Bj4BHwCOwLSLw8cdfm0/kD6pc5fg8V2Lc8uPgW6p0SVO58vFxkmaUZrNWXlRxuXPhC8b1tKjyMqV288RLo8TglXHTJR76C4+AR8Aj4BHwCHgEPAIeAY/AVogAikvFIw8yK1asNp988k2eKi94XLT8I6WOMCLNvLmLzGWXn2v0ms/88sBs1nte8K4kU1xQYFBYeM4fRHoUni2BFn/1jXn2+dnmn3/+ydfm/rFhg/nmux/Mhg1/htbz5sJ3zauvLwx9trXf/Pqb72wf/PX337FflT777Ivk3r6o57Er2kwTPv/iXPPxp1/kW+v+/vsf862M13Xr1+dbHb7gLQeBguKTBYHIil9WmqmPPG5+WRk/9CJOu7Z2npOXY2BzxSq/xkac8ZMXadb8+ptdS5ctW5FWcVFr8CeffWFmPPZMnspJq1avsW0F862F8IpAKBYVKx5oli/LWx6zfPnqRPn2IuJffiksbrWbpfKCAqJeFfWkoKxwT+8TMsYfz/njGiWmMBWYlatWmzOrXZryr1O3vhb/N95aZPrdMcqkIzi7HRd1DZO+qUN3U63WVaZ+49bm3FpXmibNO2wieE+b8YR54KGZUcXZ50//70X7bu++/1Fo+oemP2Gfs9hsCfT2og9sH/zx+x+xm0ufvbLgzaTpo54nzZiHD778+tvEGJw9d0GOkhGeGKN//hmuzPYdNMo+X7L05xz59EvvAcPNnHmv6tc8+2QeDBgy2lSpeZmpJ+O1xsX17PhdLQtNkG69baBZ4Cjc333/o23zpAenB5Pa7x9/8rl9/ugT/wt9vjXfBBuME//+++8W+Zr5zSfTBaXPwBF2LP3+RzjPgL9Xv/iaUGGLuThm/P3mlVeT849U7aEP6Uv61KXNgee47cnr67wcA5srVrkdG3mNebrl/bxsuV1L0137o9bgSQ/OMMNHT9hkzMdt35o1v9q1gk+lJUt+sm39+tvv9dYW/4m3Ba9LfhJhYJsTbXZhYygnKCouqeKCp8Xd58J9/lTB0U8UGL12y8nv61133cV0aNMsUc2bb78rgu4b5sYm9c0eu+9u75cpvXfieX5dPDzjSTPqrolmv33LmWZNG5gKBx9oFr37gXnuhTlWgRk9rK85/tij067+jNNOsnnmvPKaOa7SUZvkf+GleaZc2X3MIVKfp8JB4N9//zMDBo9OVP7ff/8lrrkot08Z+33pT8vMAfvvm+MZC8//Zs02l9e5UPoxK12OBPn4Zdiouw3KMeP15BOPNe9/+KkZNfZec+vtg8zYEf1tzSPG3GMqHV3RLFv+i7jGV5pe/YeZa6681Bx2yMHmwAP2k7a/bBrWv2KTVs6d/7q9d9YZp2zybGu/MUvm5H0PPGxeevZhs/NOO23tr5vv73fO2WdYPvqmGJ+qnH16jvqwPqNc1Kl9gdluu+1yPOPLxRdUt/PvJBnfmdCff/1lUI4aX3uVub7RNZkU4fNspgjkdmxspq+V62a1b32DufTimuagA/fPqKzPv/zadJY5M2JwL3PyCZnNu4wqLsBMeF3wtOBxcWnevEWJr3vvXcJ6ZRI3toKLzUp5UcUFBQWlhNPFlNzwMZ6hoEB6rc9RcG4y1e19rguSEA7qXnJBokqsySgvF55fzey9156J+2EXCJlFihQJe2TvRT3XjLhEUVxQpMYM62f22itLWz5TFI9zq5xpbmjd2UwTD0kc5SVY554lS5jTTjnBvDj7FXNT88Y5FugfxZpBONUNjetpUxKfwXISD1JchOUJu+cWEfWctHHSpJPOrT/sOqq+3D4P1jl77nyDq73xtVeK0PpI8LHZt3xZe4/+CiovEyY+aJ81bnBljnxRbcyR2Pny6WeL7fgrtfdezt1NLyn/xZdfMTXPq2Kuq3e5TVDx8EPNYll48CD+Lp6xXXbZ2ZSWcnr0Hmyf846HH1rB7LB9FgtjjmHV/kasaSgySihzs16aa0447mhTulTqdmieqPeNep6qnDh5w9KE3dN6+Ix67qZ1r+PkA8OiRXPypjj53Hry6jqq3qjn2o5M3+mUk46zvHX23Fc3UV40/Pa8qmdpNTk+GcPJFOi47c5RYJIvUWVFPU9SbMrbccosyDQpGxvyME7byBY3XUgViVthZaQaG4mMSS7CykuSNHE7Tp68SpOoNPsiTrmap7QYe/kLUjplBPMGv8cpK06aYLn5/Z39JEp4XdxQLd37os/Zr4J3JtMN9ORFAdqcaLNRXggVQxFBCUHp4DqMwjbx6z3SuwpPWP7N7d5nn39p7rl/qnnn3Q8NAlvj664yKBpKxP8/JKE+L0nIQYnixU3VyqdbyxvMLozee/9je7vjzc0TioumO7LiYeaaKy4x8197y6xdt97svtuu+ijxySSd+fizBjf2ex98bIW+auecJdaP820aBMzX33zHfPjxZ+bYY45M5JsnShqEgqQ084lnraLz/oefmLNOP9nUEcXutJNP0Mc5Ptev/90qVrTvw48+te9L+9q0bGqOPvJwM/zOCQYLOp6dqy672HoHtAD29EwTjHgvqPJZp5p6V9ZJCOrcI74VYR5BdqcddzQX16pu9tgjyxvGc6XX33rHPP7U81bpxMp/3rlnm8suqaWPY32yj+muCZPNM8+9ZDZIeBaYtLvphoTl+5dfVpmxEyYZwiFQNk8+8TjxONS3/a8VPP708+YxCXPCG4In67JLa5naF6bez8X+JgR4+uW8qmeHKi/qUfn+x6Valf38QDAHv5Y3NjQlShS398AKLBgHYHGz9EU6dFPHHubaay5LKCTJ8v62dp0549STTI1qVXIkUQ/e8hW/mP33K2+qV6ts5sgY+EjGHgQmqoBVrXyGfXfGiKu8fPr5YuupadowuaUahWjPPUuYY446woy/90GzZOlPts8Yi8wZJRQmnr8lHtWSgtGJx1cy7Vpfn8BLy9lrz5LmkZlPmYMPOsCMGtLbRPU34ZZ4LVvceJ256+7J1gjAmOncroVhXt0/Zbpt06knH2+6dmidQwlLNcc63NJbPFif2OY3urGd9aYNG3ib/Z5qnOtcvLLuxdL3Hxn2OeE9xqvFWBh/7xT7iTIIb7heDBZxvDqEM/bsM0S80zcKXznGtoMQzHH3PiDv1criz014z72Tppk7h/axafiXWz6pGDcVj8XYuydZJXferJnWAJMKw0QDsi922mlHO7eefGaW6dqxldll5418mHYzLpgrYcS47S+hkb26dTCHVDjQ7kMcP3GKeVny4U1k3ja//trQ/PBcPI/QwzOfNC9L6GYrmavqDY/iOeRL1ec8d4m5T8jOgF5d7dzTZ489+ZyZ8fgzZtTg3nZ9oV3wKox0zNfTTz3RNBLDiTseqPfJp2cl+Df8+cbG9Q1YQlHzQ+tmf4TOP9bKi2qdZy69qKZ9DH7tutyeAxMe4HV8R6IO7hzaV4vJ8ZnJnL7ogmoWm363dzEHOt7rp559wUyTqIfhg27PMUe1wlRzJzg2Bso4+SCbz2l+PvcpU8oMHdDT3kpXNiATc5nIDAyNRGacI95DDI54CnXe1xNv9mdffGVmz5lv169qwotYhzGIQoy1yVNn2LK+/2GJ8O3Kpvq5le2zVP/irsFuGcxNwn0fnHinvc2emjvH3WfHMjeQJzCkhik4rPczZaxCvfoNM8WLFzMjxQOjRCgZPJvxiWxV+8Lqdr3S53ymwxvcfPl9PXPG7BxVuCFjKDGuIkNC3UCfI1MaX/DspKO8uIpVGtWklXSz2/OSLNwLpeSL5llW1+DeFvJwjzTJlJ60UCnAxB1v7SOLw74iiF1ovv3+B+vihClBxPu37XybFSrriPJwoliPH3z4MUPcNZbDMFr81df2Nh6SMGotE33apLGhigvpYUrEmO4oAr6GJgweMc488uhTtrgzRQmB5kromEsIX1jCETIhhAVCgXbffTfT5LqrzU8/LzcduvZOCJ5uXq5hiFjNR0qo0E/CoFA+tt9+B9O91x2y96GHQTBHgNpxxx1s+xa9l7XvBobYul03q+zUEMWqmlg9XxDPULsuvSx+lI0HDCb1+FPPmcpnnmo9Yc+98LJd2HiuhABPG5fKfg/aDLPmHfTdNV3UJ4s7izrhIyzohEMNHTneZiNuvVX7bjb0hPYiIONhuL5lp8RGXpSewcPvknC/A0wnEWBZsAYNG2vfK1XdU2VssIijuCbz4vFOCFg//LgkR1EoW9xHIYCwIvfqP9ywjwsvDs9QRvKDiokS2at7B+vVc8tflL23quw+pe3tbjIWihfbw7blbOlHhDlVWEmD0EiYlEs6TiufdZp7O8c1Xig8PGCMZf2qy2vbBe1mmXvEckN80kekZWwwD/AWtZfxosQzNpeyh4yQonPPOdPuNYnq71WCMcJEf9lPRf21ap5rBfjW7bvbd2RMwx9QdvsMHK7VRc6xymeeZg6tcJBNj9GBsQ9FjXOdi3cMH2sPZwAPhEX4Usu2t5q/Za4yLnlH5jnhfXFofxGWmONvvf1eIvm8Ba/be8wXpdfeeFsEqfUGT69SbvmkYnx7v6GiVO5vhRTmSLp8ivaoZ4XDTpR+/W2tnTN4AIsWDV9W18s+Gd5/g/AyCHwRJGvVrGZubtXUrBODUoubbzFLfvpZi018wgPoQ4g+Pb/6OcIXsuYF91LxHJ5H9TlpXDpaFHnaOj+wPwcBHYUNjz5KAQoyAiw8AlwZ+72Fb+geK/ZHwlO/EsWjkXh0D61woPX833LbAFtdHH6o7WrTsacI2UXt/CMfPPK5F+bYx39JSB3tXbtunSa3nyvEUPT1N9/nuKdfMp3Tis287HBULe8p4fPbixIQ5uGNmjvBsUFoIX2sfyipvB/lQ5nIBijX7FnceeedrMKC8kJ/3Z3tcdd5D1/F6MP6tV/5cob3QplVIv099z9kx1/ThldL/y81t8m8SkVx1+BgGatWrbHvzX36vEmLDmbRex/a9iMjoHi0Ej4ZJg9VPOIQq0yTF6UaLF2jL/yevZ+XC2+Fxt3zgA09tl/kXya8QfPm56cqBhyHzMleUKlSG3llWN264T7sWdx7cetAseLUsaA3KG49cdNtNp4XGhwV5uXudyE9ygpeF/Kp0qNeGJSYqPIoo7Cp5Q0NhUlkeTXOkAmm1lIsypOFsSCMYnVQa/IRhx9iUCawiIaFfn0ioToImgh5SjD24GljCLHBRZZTcGBMCF29u3e0AnDD+leaLj36mZFj7rVC/2677motjwiJKEKUgdCG8NVO4lMhvAmjxTpy0QXnmVs6trb3EIAaN2tvxojVU/cw2AeBf8S2Dh3Qw1qCzj7zFNPwhrb2fYb072HrwsJzRYNm4vn5VN7/KDNl2qO2vvvGD7N7HygOr0PzNl3FQvmU3UOBAIsFur1YfNWLQnhfg6ZtctQ+cOgYi/O4UQMtk8ML1bPvEPvul1xYM2EpzJEp5Aseo7Ej+xuwgrlzUAL7hLp1bmN+lbh4mCiWZ7XQniSxuPT7B7LP4xzxrC0QDwj90/OWdrb0iwXHRx592ipuIdXZWz+IJwVrdYOr61ohQhXgsPSHiPDz7XcbN/0iOGIVvO3WdgmL6fDR91gv1z1jBlsFlHKwWKM8FwRhWcaa21z2wOywww62ysH9uttxzZjA4n9rp5tECd8t0Zzzq1e1AiGeOCyi9B+LLooOClIqwupI+WrJRlCk3yZPnWk6tW1uWESxUF5Qo6opU7qULaqEWPIYf8wbvC1K948fbsqX28d+RciI6m/N16lti0T963//XQ5GeM1acVFoIIReFGFOZPtt7drIOXbJRTUMXiv6lr1Bag2PGufaHhTv8aMHJfKpFbO7jGM1UuAVxXIeh+hHPLB64Af9g6ICv+JTQ04XvvOe9FlOZTOv+GSX9i0tf6C9mfIp9vvRZg6uqJKtFGvIGIpmHOLdEbwZZ/reeNswXKwVT2SQ4P/0IUIjvAOPpkupeA7povpcvSBaJnvj8AS9+PJ8U++qOvY2ShV8Hj4K3SHKA57w8XcOShjDUKzg8Qvfed8q4tSLMD9h9B0JTzfeEN7jq6+/EwW1eOz5gZcAHgrB526UEOiho8YnlDr7II1/mc5pqoB3vyTYaJgr6zTeEzwUYcSYhuLOHdYwJcZKN9n7x5jrLOMXykQ2KFqkqPWsXymRCxpuC4/DW93ihuu0Orsva7R4PTFgsn7VubqprF+v2+gL3hOex1jt3SNLRrhWQn1biQFRPeKJgpyLuGuwk2WTS6IQmLPIFMgW0Cmi5L0l2MIPXZmHZ3hl8ChhmMJQGNzzgoG3T49OJBVj6aXm/EsbmDcXLrI8PlPeYAsroH9B70pUtbnZcE9eFBK3DDwxKDRuO7IUlixFyr0f1bZMnoebiDIpKZd5UoWKUTS/4eIqI6qsoMCwVwalBVIvjO6JsTc343/qyaCJKsyiDEC6ILJR8/PFX9m/8tl7Fj5fnOVhsQmdf4Tg4B51CQtCzUvq5/hjP0KQvvzqW3urbu1aCcs9se54fSAWGwg3MZOb0DEIIRNC8Ib0xBE8B9puQnH2FmsdgpRa5WziwD9C5nSz6wHZXhyEe1W0NOzpN7F0Qhzby34GNm0rEf6DFwhFDlr85Tf2EyVACQHUXSA4PQjLFtao78UrQbu/EI/IAeIVg3gWl8447WSruGh6rD4Ixxz/S0gWFsijJBxJlT61FuLlgOhj0g+TUDlOypK1y3poVFDSct1PPFYsbpQdRQieX0kID4TFCq8LeJ1XNcv1T0gh/YUHAM+ZUt2I8Dlw5jQz/eMdCDHS74xDFuIoIpQDjxv9erV4ppR0cSJc43RZeFBI3L0YVSQcBVKLqIaMMV6jCAFLFRfSggf1E64EYTQA27323NOefMO40xNsmAtK5FHFhXtx+lvznpytpPAdxQFyQzMPzt60+rsoNpnOsXTGedUqZyQUF9qyT/ZhD4xLLJ70L3MIw0RcOlUECgwJeFKxiIPdTS2aWKEYRY+wEASkoKCRV3xSvU+0N1MM4U8opBhweA/oJQmxgXe4fMg+SPIPrw99TBgP84ITxFCACc2LW4ZbdCqek06fu2Uy/1FW8JpDr7620H6iRND3eFwsj3DCjzW0lXyahntuiC4HDsx/8TFrZElnflxR9yJbP/9Qtghlpg5tX+JhzItM5zTF896MH4xGEAYn6JJHPv4AAEAASURBVFyZM2GUm7lDCCoKRp+enRNGkkxkA9bn+qKIsoeQEDy8ccuWr7D96LYZoyGKixJji1BZSNcN1gL17qMIXZ7tsdc8wc84a3AwT/B7mVJZe18IZ2TeYDQ5Sown8GVdG4J5Un1311PGJ2XhRYIy5Q2p6ivMZ7nds8JeGTc0jXfRH8Tk2v0BS5SW/FZcqHOz8rzQIJQQFBD+uCZUDKUF5SWMCBdrsGRcIqSMfKQvrE37YW1Mda9YsY0WYaztkAp4LA4QHosgBY/L1Of771venhhFGcpcEMrUWsypY7iBVUHQfHxqmRqmo89UYcCaj2LAaVC0FW+ChuoQ/6+HEnz77Q82K96aMMKVH+ZaJy3eigRlH2Cwww7JhynWHl0wE/nkAkHi7UXv21tY4qnPZcg80M3rXCvWKGKqjHFfCYXm8MMq6NeUnygRLhXL9oIht6MsPPDQDGu9YuENIzbMrxRrPpZu/sCaPTqEzan13M2H58SGeUnolesWd9O41wfsX94KjdT/2ptvW0bN/gJVBH5cksXAy5cr42YTDDfdOOkm+PjTz+2+E/ce12PG35+4xX4lHZeJm84FwgDhIfRf/9u7JrwuTpIc/ebeRxBirLOwYRHFcwG5Somb3r0OO81mXwmZYG8DhEI3TKy8lJ2KdnM8QaSL099anlpD9Tuf7th352ymcyzOONf57nq1aAueYU6DI9SEUCAICyz33LlkHyT5d+LxWXtdUAoJl6Sf8aINGTnOECaovO+4SkfmKCGv+KTLAzLFkIbhYUHpIHQMTwzzDxzSISzXhK7gpeYPHtVAPCrqHU6nrFQ8J06fh/E2Qi05vnzB62/ZNqGgMZdQsjDuQEEegbEDfoWx54cEH8nyQrrvozwgnflR1gmTo6yyZbPC5qhHT1F064i6znROUy4hk3iVCKvDwIKnmL2LyQ4nyXTuoGBwAA97oYg0UNI+TUc2YH3vK6GpqTwklM/+D5fwMCt990OWxz4oI5QXD1wqirMGp8rPM4yyg/rcKqHlE234G/eQP5qIdyho7OBZFAWNvCWl/OVyiiWUG94QVe+W+jz445TBfTd4ZYJp8vNdk0uF+VlrSNkoHLqXhceqwHCNd4U/lwgL4+9Ok/UDle4z9dBsKaFjbtvda1zyWBQG9+/u3rbXbDoPIwRTCA+HHmeMhU8tuZ9JLCukAor9kv1PFZxfZB8JMdZKKBtQmex7CABsrp4lglxdiYvFyqbufNKVkkUYGjqwp7Vg2y/Ov+LFNjJD53ZGl4RTYD0KEvcQjCDeBYWEmF5XAHTz6aKDCxwBO0hhhxsE08T5jrJAaB6W20tksylMH8voVde1SGRn8e/Rta1p2+p6ax0jVIjYeEL/CGEKksYjE4qhJ4z9+edfNhkHHUwWS9WkCSMS2dQzwB6rcfdMsaE8uoGaRIoFxxG7tGp1lmfIvedeo2BdJMfBKtW8pJ7du+QeX6wKkqZxP/E8sVcJrNkQ7Fpr3XSprgnDua3vUCs8gcsFNc4NVfiCZYT9ro07hvgNGRQXBFQEuL1FgHtDBFdiyFNRnP5OlT/Zs0znmPZtqnH+xx9Z3oRg3QicKIXs08KrifGCcfmpKCLTp4wLJg/9TjgsgjbeF/7whGy//XY2xAPrLqFlCCTp9H0mfJLGZYoheY847BAbMsVmezVCoMilQ2BBCC17LziwZbqEhrLHDp7veoXTKTMsbZw+D8uHZxNrPeFRWKnpL/amQWoFD/IIPFHgUVa8dLon52fxpiWjdOYH4ZnuuNBwRX0/6giGR/+R5Pd4SJvpnCavYkNYXU3h5RjK4NnJKJO5gyfylp4DLL+pf1XdHEVnMubZ90noX/cuN1sjJONsnHjGdf3IUUGSL9rvQRlBhf4k2WKtwcnyuvc5rQ8vLId/cFw5Xv22nW4z0x8cn5EC65btXueGN7jlbC7X6W64T7fdeGGCnpl0y0g3fdF0M+RnelU69Icm1QvDXhc8L3hhuEeYGGk0fX62qTDLJgQFAbOoCA0s+Pyx2Q5r39Kfl4U2rZYIaxDhOriHXcKqTagDAr+7CGiaChUOsJd6cpjenzs/y4KtChD32bRKyAeb+6Gznd/Q0E3ChKZpu/mkftqe7VCx+XL77xhx9bKoEtuvhCDKvYoS6gNpe9jwrMQCq+FF3NN20maYun4nHW3GSpcX9LkoehChEwhpbHxVK6aWD/5Y3OgjBOX+cuIPfcYpbGHE3if2NzBejj2mov077NCDbNKDDtzPHBv4TZ59y5W1z9jDQniYG+/MAzZK8/6c7IXCpxTmkdJnfLJAo5zoH/fYYKvfUyku4Nzxlj4yZn+3JwOFnR5DeVHEqWUQJ9IQfnTeuWdFZbHPsWRqqAA3GE+MIcL7ILAHE4R35gFeHvZdRVGc/o4qI+y5jumoOaaY6z4KHdeZjHPGJJbm7SVMhLHbRsK9UPQZQxrGGdbW4D1Om2KPC94KDZUj/nze/Dey90ocH8yS8nsmfJIC42IYVjljvVbNqpafPvPci/ZAg7jeJ8oDLzZQwxMxGrGXapgYeyBOegqjIqaIvb3m11/DHie9l5s+r3neOdYQph5IDd/Dao2nKMgjNJzp0EMOsgI+aV6WY6XZd6nE/gd+QNmG58bgh5oPZVkJDx34QftJmC3vCDFnleBd/F5UMsp0Tmt5YEOIK6dzQsmOweZZunOH0OrecjAPhLKh89jekH/pjnk2psPfCPljrDFWMZLp/jMtN+rzYAkFhwhjc+klOaI/FelcS7UGp8rPM8YLHi4OtoAHsxeLg0OgZIcyIDtB6fAn0mt7o/graQuLdON+VP2EdEFRG+6jygk+x9PyySff2JAxnhWk14X6NhvPC43BUwIFTw5zvTAoLTznHkpMGKHgQKTZkomTn7C6Y40m3hdmg6UTr8rEcUNDXw1hmONuEUzZtE4+PCafy4LIkcsoHAN63xKaF7c8HgE25LE4VzziUFsXRxUSX6wLBJmJxec7IUtY5VxlCJcyFvAJ9021ljBOZyFWltM8SMuzvKK6ghFhcF2697fHJ7OoYY0Bq9rZx2iyYbu0HEfNiSjNmjQQwbOYhAO9YIVbtx2EZRHGQbpqVc4ybJqecN+DsvD+bWZMvdtNmvG1MkWUS04m+lEEP6ytLj0j78MpWmyMrSgWXvZXEIbBJtUwwuPBn0ukJ2yKfiMsxyW1iGLt5eACFKMgEUeMYsqBBViBfxDhHitdfhBCRvfed1gPHodFoCzyp3TSCZUSG8T1XrJP+p09LijpXJ90/LHJkm5yv5Oc/NeowVU2VItTw1CoNISHI5MRjDjWvNLRR0r7FtkjPDcpJHAjTn8HssT6GneO6VHP8AMONGDzf9Q4/yvbaxdsCPuvCGHh5DOMFytXrrY4sz+I+Y/Vu+OtvUWwqmRPnwrm1++E1zwhR+dClY6qaD/pY3gTf1ynQ5nwScqPi2GytuBpwdvJPNJN7MnSBu/jvSYkCy8je36waD8rP7IKnXhcVmhdMA/7PDj1DWWAccWG5LhKflSfB+vS76fJ8dzMIw4DYZ+HezQ0x4/zDsoj2HsycfI0623XQyaaX3+d9U6yhw0vKF6meyY9ZEPPypctmxASU/FDbQvrCYdVILgSysbagxEIbzpthI+xORtl8EhZu/jRWhRrd93SsvjMdE5rGaeelKVkcwABPCeVdz5q7miZ+vmgrMEI+vBhFCSlnXbcyYaPpTvmGW/ghgKoazcKKesE2MUlDF+s4Rzcwj5UDIRvCC+cPSdLkUxWTtw1OFl+7q9bu97uhYR/sMEejy2/WQcRzh5Gun9s6sOP2722Z5+RtS8yLK17L7e8wS0rr6/tnpLsDfRaNpvpU1F+nPzFj2JSr/2BTPmdmYKmzUp5wZPCXhU+UTxQQlBWXC9L8MSxIGAoQKrgBJ8V9PdspV/sZVnav1u/3gl9lp2Riccvw8K0+w4aabPjLuZUJASGZMSmPCYfQjGLixLMHSu+O9FRUpS47ioneeyyyy5WaSK2HcaPdbVVs0aazH7CuFjMYGLB3+egHE4EoRyO1uT4ZYgTQtq0bGKvg/+0HU5zEkk2tjBxK7FvAoz4LQ2EiH4SzwvBnDlVSM/gx8U/RM7GHyHCuHqKYMDXN6pnhVGtm70zv0vIzGNP/i/BjLFwcfSwu9dE029sTc6r4HN9Jz7xpKCEoCDq70JwqhjhR5pPrUmuUsOv3nNEb2zKrlTLdPPB9Ampw9vA4hhG1LdazsHneGmUIBY4lF7CGMLKDCuDcXHQAfuHPcpxDyVBLXIsgsGFEHz0dKscGZN84UQ6lBfGJ+8ah1hcWdw5vhZirvTp2SnxOy+NZCM1MeMalsf8Y06wn8fFQy19Wmec/nbzaz7xY228zL7aOI6Ea8iXOHOMvWi8GyFvHDH62LR77R6xVOP8b1HWIa0vu3p7KuIKCd3hSG49eQyPSZf2rWySpRKSgiBftXLq8KkTxFMIgY2ecoXACeYIUwjoSopCbvlkGMZxMdS2BD8J+2IcEDZ7zlmnBx9v8t19B9575B29rLGEcB4IXtu5XctNjgx3CyIEc9CwMVlGFjkdUHlv8P207/QzLm9z6+JaQ4ThA5zY5BL8nBPwpouir/vLGGuEtqqSg6GK+c1v03TrNchmR/js1vkm602INT+yK72jbze7nqHgwo9Yl5rI76IpcZBH1x79E0fgw+Mxxilv0XSKVaZzWsuhD/F4o4hH/c4JJ4qmmjvu2KD8t+S0Nuj+KY/YT/2HJ4s5nIls0FPGC6eWqUyAUQrjloaNKS46ZrRO9ztpunVpY7YTvop8AME3dQ3TPMHPuGtwMJ+2ifscsEB4OoYYftMHgmfcNXJA0tMkMarwkw/IB4QTz5yaFSlC3iDmRUSm0YOBqDcOf6WcwiA20Mf1vNC+/NhAT5kc1Uw78qP8KFyLCGP5LypRfjyvNKlHaLGEhqlnRROgxKDQaJgYCop6XQ4dl3XUnf4GDHlIh5ITRu837BN2e7O/RwgYZ6XDBNIhfgeF2GD2fQQ3qKUqBw8Gwmsyq1WqvO4zymEvA/tc4gqSbv50rtk7AunCGZaXhRSKsjat+fU3K1i5SktYeZnew9ug+CrDDJaFlZEQkZIlSmwSNhBMm1/f2VC7es0au4kzGLqQX3UWdLkcF4oFe6AoZ8yx9RKWkGyuMMbYT0RoYToUp7/TKc9NG2eO8V5Q8FCATMY5Y4L9TxxE4ZZHSFkXER4fun9MWsqm+y65vc6UT8bBMLdtS5afNnOiZNwxBf5//vWn/bFdV7hLVn7wfiZ9Hiwj+J3fudlNFAp3T2EwDfXuKj+urEefu8/jzg/6CeWFTeTJ+CYhQkUlXDXH4S9uZYHrTOc0xXQVYw7hZ489fG+OuRCoIvE12dxJJMjgIt0xT1/xezFRa2BUUwgFXC9jN+641fLirsGaPuwz3XdgfLGeqrEkrMxk9wqTNyRrk7+/mYWN0SG6ad9VVjT8S70qfPKctC7pPT63NuIUqfjO3Y1vzwlgegrYxrvRVyyKuVVcqIVy3N/AiK458xSplBYtNS7DTpcha/lxP1nko3BB2YtKE7e+TNOhsLg/FphpOVtKPoTxZIoL78AYizPOgu8bp7+DeeJ+jzPHXCXDLTeTcc6YCBuX34knr7RYhtPxkrltyYvrTPlkHAzzon1hZdg2C3+PS+CfG6NKJn0e1bY4RrVU9cadH/RTFD9yQ5ij2s3zTOY0IaTs+2AfIL/tkmx+BetPNneC6dL5nu6Yj9NXcepHCS2e/RtccdJrmrhrsKYP+0z3HRhf/GVChckbMmnvtpJnswobA3QUFf3tFlc54Z4qLcHQMd3jkszbsq10pn9Pj4BHIH0EONRgT+dHJtMvwecAAU52Yl+NJ4/A1o4AeybZe8qPhUb9xsnWjoV/P49AYSCw2YWNKQgoJKqw6D08Kpw6pp4Y7uu+mGComeYJfm6pYWPB9/DfPQIeAY+AR8Aj4BHwCHgEPALbGgKbrfIS7AhVUvQ+igyeGCiu4kJar7yAgiePgEfAI+AR8Ah4BDwCHgGPwJaHwBajvCi0GiKGVwYvDEpMOntcvPKiSPpPj4BHwCPgEfAIeAQ8Ah4Bj8CWhcBmt+clCj43ZCwqrX/uEfAIeAQ8Ah4Bj4BHwCPgEfAIbD0IFN16XsW/iUfAI+AR8Ah4BDwCHgGPgEfAI7A1I1BoykvJnXcrcFwLo84Cf0lfoUfAI+AR8Ah4BDwCHgGPgEdgK0Wg0JSXdifWMAWpTFAXdXryCHgEPAIeAY+AR8Aj4BHwCHgEtkwECm3D/pYJl2+1R8Aj4BHwCHgEPAIeAY+AR8AjUFgIFJrnpbBe2NfrEfAIeAQ8Ah4Bj4BHwCPgEfAIbJkIeOVly+w332qPgEfAI+AR8Ah4BDwCHgGPwDaHgFdetrku9y/sEfAIeAQ8Ah4Bj4BHwCPgEdgyEfDKy5bZb77VHgGPgEfAI+AR8Ah4BDwCHoFtDgGvvGxBXf7s87PNZ198mW8tfuud98z8V99MWf6aX38ztGPZshU23SeffWFmPPaM+eeff1Lmy6+HX3/znW3PX3//bauYPXeBmTv/9fyqLk/LLSzsVq1eYzFb8ctK+z6F1Y4wMN9c+K559fWFYY8S93Lbx7nNn9/zMPGi/sIEx+qWAkkUL83tGEyGw+KvvrFzu7D4cbJ25eX9vJp/hYlVfvV/XuKcF2UV9nsG5YPcvlOctbIwx1Vu329Lyu+Vly2ot/rdMcq8siC1cpGb15n5+LNm4uSHUxbx87LlhnYwQaFJD84ww0dPMN99/6P9XtD/3l70gW3PH7//Yf7991/To/dg03fQyIJuRkb1FRZ2S5b8ZDH7+tvvbbuD7aAvUSDAMy9o5arV5sxql6b869Str61q2ownzAMPzUxabW77OLf5aVh+z8OkL78NPgiO1S0FglS8NC/GIDiEzdM33lpkx6cac7YUvNJpZ17Nv8LCKq/6Px3MCiNtJu9JHtaevJInXPkgLzCIs1YW1rjKi/fbksrYfktqrG/r5odA+9Y3mEsvrmkOOnD/Qm9c0aJFzb1jh5ii220ZOvnmgl2wHbNemmfue+Bh89KzD5udd9op1/266667mA5tmiXKefPtd0UJf8Pc2KS+2WP33e39MqX3TjxPdZHbPs5t/lRt8888AnEQyKsxmNfzNE7bfZrcI5BX/Z/7luRvCZm8559//WUwZDW+9ipzfaNr8reBGZSe32tlBk3aZrN45SUfu/6///4zRYoUiawhLF3YvWBBUWminlNenDSp0pUWoZO/MIpTdpw0wbJT5Tni8EOCyRPfw/KF3UtkkIuo55o2Kl3Y89xiR91h5Wqb4jwnTap2uGVleo0CVPeSCxLZsQqjvFx4fjWz9157Ju6HXYS9X7I+DksbVmZu8wfLjFNvVJqo59QZJ02wbcHvccqIkybdcuOUmVdpgm1L93ucdvz773+maNGcvD1OPm1LsjHI83TK0fKSfUaVFfU8WblR9+OUG5Um6rm2IW46TR/nM06ZYWMgTtmkSdb/ceoN1hGVJ7+fa3vC6kn2nuQJS69lpfqMyhf1PFXZUc8yWSvzsz1R7d2an3vlJR9699vvfjAPPfK4eUn2X5QoXtxUrXy6tSTsssvOtraHpj9hXhDrdosbrzN33T3Z7mM5t8qZpnO7FmaeCHX3T5luliz9yZx68vGma4fWpnSpvRKtZCIQVvPwjCfNhj//NOS7rt7lpny5fRJpouon4Ucff2amTn/czJn3mtlv33KmacNNrRzETU+eOsM8/+Jc8/0PS0yNapVN9XMrJ+rhYuYTz5pHn/ifeXDinWb9+t/NDa07m3pXXirv9JWZPWe+bWM1aWOblk0NFngI4XWSvOOLL79iyz2v6tnmkotqmKGj7jYdb25ujj/2KJsu+I89Gvc98IiZ9dJcs9OOO5qLa1U3e+yRZbnXtL0HDDe77LKL6dS2uVn03kdmyMhx5qbmjc00westsfhXPPxQ07VjK7Phjw0S7naPIYb18EMrmNbNG5kTjjtGizFRGBKetueeJcyB++9nHp75pH2PE4+vZPtw3/JlbTkbNvxpxk+cYl6WcbBs+S/m2GOONM2vv9ZUOrqife5ixw36lnAT4oTf++Bjac/Rpto5Z4ln63ybnn9x6v1LrFeTHpwu/TbPjiPe+fI6F5rzq5+TKMe9cNvR4Zbe5v0PP7GPG93YzpQrW8bcLH136+2D7DireV6VRNbPF39levUfblrIO511ximJ+3lxwZhj7H0joW2nnXKCadv6erNf+XK2aLePucH+qzvH3Wdef+sd+/y0k0+wfZ5MqQ7mB+vx906xmDPXwPz6xvVSep3izMN169ebyRJWyR6sX1ausnO1/lV1zP77lbft5J+Os/mvvWXvHS993rpZI1OmdCn7/ZdfVpmxEyYZQhHY/3HyiceZZk3r23FMggn3TbVjeNjA22x6/lFXm449JV0DU/nMU+39qHeM09ZEBdkXcfLQj/Aq9urBZ845+3Rzg2C73XbbJYpj/L308nyLP2P1oguq5RjzJFyz5lc79uljeGrtC6uba6+5LFGGezFk5HizUjDo36tr4jZ47CXz9bZb2yfutbj5FnPKScdZ3sy7wJPgv+DHfebdyScca9Mrb7uy7sXSzo8sT8Rz2LD+FbF4aaLS7At3DCqfYozPePRpw1goWaK4uUb4KOMljMLmqTsGPvv8S3PP/VPNO+9+aMdK4+uuMmeedlKiKB13ydaoREK5IC3zv/G1Vxp4tdLHn35hQ9Ra3djQnCFlR2FIPnCENzEnWFMYz2Do8vw4YyZq/sWdF/oufEbxTe0n5tX0R5+y2Pa8pZ3lU6zB6fBGt/+pO2p+ksalKL5A2sefft48JmszId6HHHyguezSWjJvaiSKiXr+jfT7NJFjlDdVPutUWdvrGF3fKCiqP4Pvmardr7/5jhkx5h7bPtbUl+e9atyxFcVL48gHiZeXiy+//tb07DNEogJuTKz9hOWPu/cBkbtamWOOOsImZz2+d9I0c+fQPrZNKu/kdg66bfHX6SOwZcTXpP9ehZZjtQgYbTvfZid8HVn8ThRh5MGHHzN9Bo6QPQT/2Xatkj0ALOb9Ze8Ii2StmudagbV1++528larepYwmgutwNJn4PAc7/KIME2EAQRRlIKn//ei6dy9n/ld9nxAcer/6eflpm2X2w2bo6+6vLZB6L6931Dz9qL3c9R198QHZQF8yOxTprQoN1fLYrPU3CbpXFq1ao0VMLmHsoOwCQP69PPFpk7tC6zA+ZS0EYVDaeSYe21YEgoXruFly1eYLj3627y///67JsvxicKD4P74U89ZgQyr/XMvvGzLcRMu/WmZWfrTz/YWZdGeHn0Gm33EO3StLDAoK51u7WPf/9BDDjJNrpP3+nGJualDD8uIyRgHwx9l3wgbRydPnW6F3bNOP9nih7KidMfwsbavatWsZm5u1dSsW7feIDAtyW6fix15ENbZP7SjKGbqMh88Ypyhz5Xi1Dty7ESr5FU6+gjbb8QRM/5YHMLIbUflM08zh1Y4yCZjMUb43W/f8oLNevPMcy/lyD73ldctvkcfeXiO+7n9wmJ7510TzdmiEKGc0+420j+6CdntY96tSYsOoqh+aIViFlcE3FYyl3S+Bdvj5kcwa9n2VvO3jN1OYjyoIsI1xoVRY+8NZsvxPWoe0q7eothNmfaoCGZHW0F4gQilHW7pYzj0AmIhh1cgQGIYoG7etWmLjua339baPUet2neTcT7H1JC+uOaKS8ziL78217fsZAVsymDusCnVpX/+zpqHa9eus7ej3jFOW93yuY6Th0Uf4WXnnXeyfYPyguEFvqLE92FitNh+++3tXNxhh+0NYx7cXBo0bKz5U4w1lwtfhMbd84D536yX3SSJ63L7lLbCMcI0xJyBtxFmpfd++HGpVdL3FYWYcYUQA58+quJhBgXly6++NW073WYVE8pQ3sacRmiHb6JoxeWllOGSOwaVT91620Cz4047mgZX17VJx949yXz1dc6+1TLC5qk+47Oj8Lj999vXriPffv+D6SyhOIwDKA5/swmz/+n8D+I995XXsua/CHlxMWT9oG+PPOJQ+570TWsZ4wjvUJwxQ7qo+RdnXlCOS1F8U/vplp4DbDb6iffIhDe6/R81P902cs3ci+IL8OrBw+8yFQ4+wPK1fcqUMsyhF2a/YouLeo4i0LpdtyzeJLwHmYS87br0suOHQujzqP503zOq3bRRFUDWIGQcZI84vCaufGBfPvvf/sKPkA/eevu9xO15C7LWNHetfO2Nt20f71myhIlaKxMFyUWqOeim89eZIeA9L5nhljTXZFmMsbLjiTjwgP1sOlynLMhY7BBklDq1bWEtVnxfL4I2XpDhg263Cg33NmzYYJWTv0UY2X77LEsllo4Jo+9IlH3Sicea2/oONc/Omm0uu6SWiVM/AgPlTLxrqDn8sApUZa1yumma77wDiwzCY+8eHW34G8J/K2FoeG1SUbl9ypjRYqVACEfpqXN1UzNHBF0smQgNjz35P6uwdevcxhaD1QqhDs9IMmKhxCPQXqwkvCdEKFKDplllJMtn04kS1eKG62ySUnvvaYUl6sSCBqFEIdxjicHaEgdD8oHh5AkjTVkRlqCBQ0YbFDXeC88QQifMGEszBJYsGipU2pvZ/7D2ItSde47g3T0L74b1rxSlrp9B2UNZ223XXW3qVPUSooW3BIugLgQowrXqXGtee/Nt68Vw6w1e4wFbvuIXK0xg+dU9L3i5sD4h+JQQqzCEMIjSpt+DZWX6nfcbN2qgqXDQAbaIchPK2LHI2Dlg/31zFIuig0filo6txWJ/nn12iswJTnv6be1aU7zYHjnSB78slHRQd+kz9YigjKFYpCLamGoeLnhtoTVg9OjaNuHxqlmtiml4Y1vxVD5rrf0PTMviFRPGDLZCEPVVk/5HkX5JvJZ4KVjA8Qiqt+4k8QRg8fvgw0/NOeLRjUNR7xinrcF64uQpWqSoaSlW+Ssvu9jsIMoJ1KR5B6tYMB85yAElpMpZp5l+t3exPIZY95s79bDWeZQ1JbxvfXp0sl/x7J5/aQMxviwyF9SoqkkSnxhjoE8+XWxOOqGSVWzx+tJn773/seW5H33yuU2DxZ8TFhFW8PrWqZ3l5byy7kWmfpObrHf2nrGDbVr+YcEeP3pQYl7A1yk3FS9NZI64oK91b9glso/wivrNzILX3jQHH7TpfsJk81SraHlDw8S7nHHqiXbMwD+ZP3H5m5ZFeBwWewxZKNV4u/F8YJBiDBaT7/DnKAzBmc3YGHJQECH6+Iprm5sZjz9jPdNRY0bbFDX/NF06n3H5JusYnn2l3PLGqPmp9ejnr2L8iOILGEoY86wD0MXCGx8Rr96OO+5gv0c9Z+2Hr943fpg57JCDbR68bs3bdJVIg6fs2hmnP23G7H9x2s2awziD56lnFW8I3p9UvDQT+WCHHXaw69e7739kW8iYRlHB68mnrtv0z9li1AtSbuZgsCz/PX0EiqafxedIhYAe88rGM8Jq+CufHUb0+eKvc2Q9WbwuSiyKEKFFSgdnb4J3vRFniyVclSLSwVBgUl9ImBYUp35CCghJUsWFfLj93fC0r0SQh+qKoqD7dhBALhfXcxSdfeYpVnHRdGecdnJCMVn85Tf29qUX1dTHNoTE3ROReOBcaD6YsBKhNW4Yg94PfvJuSgdlK5Qq4HD/wGyBmIUZioMh6Y4SIVcVF76jSEJYwsGMPiUEAks+p6fstWdJGyKhi4FNnP0PSy9Ut/ZGvBEa8N5BrgU2Vb2kRbhDcUEJQbjHugQtF4U0UyKUCnpVmDqEokdoY00RuPKaypXdJ6G4ULb2FVa8IJUplbXfilNgwBqlA3waNbgyUnGhrH1E0YaG3TnBemwQihhTWNZTUdQ8xPMIYd1TPvDvf//ae+99kBWW9+FHn9n5jvVWiUV7/ouPSRhlTasU8h54A7BQ461duy7Lm4LgH5ei3jFOW4N1xcmDYEvYE15h5sQHH31qPUWEC0E6p68QRUF5DGP+zqF9zawnp+YILUPBUUJ4po/xBIcRHlV44gcfZeH8hig51c8924YoLcz2LiPIw0fZc6V8mXA1peLFi1mDAZ5arLpKVauckVBcuBeHl2reqM/KzjtiAGIevC+YZUJnilFBSRVfxhAUl79pfj51/mMAgb4QDyAGrprnnWO/x8HwU1l3oEsu3Mj7MXzQ1xhsoKgxYxPJv6j5p+nS+YzLNxlLLik2mfLGqPnp1sU1mEXxBWQOeBl87WNR1EUut4qizqOo53gXkRHctQrDHiHWn3yWxdvi9Kfb9jjtdtPrdRxeo7wkXfngVAkxhhf8IYbir7/53ipsN7VoYnkthjpCkhnnGj6qbYrzmWoOxsnv06RGwHteUuOT9lNdmBs32xhbrYUgwLqk1sgc9yRsQsmNC9d7CENBOkDCA77NLjtO/SzIbuyrlseJYatX/2q/fvdDVltd4ZwH5WVBjSJi0l0qIYKA0i8rV9rLkuKCdWmvwHf3GdfE36Jc4c1xyY2/de+717rXiHsqJKkFinvB08niYEg+3MguFdtjD/v1v+zwQDxWuOpHy34M/mh/A4nTV8+Rm1fHRhBvrIEQoQUagxtV7wKxbg4ZcZdlum4duPkzJSy2hMkQh0yYo/4ekKsYZlp2MN/ee5XMcSuV9wQhc1CfWw0hH4QoQQhrTcTjF2fBwSqNBw5vZIeuvW1+PGTcSzW2ouahWvbZAxYkQr+gZPNQxyhhbw88NMN6nRBEMqWod4zT1mDdcfIwpvtKaGwyT+3GMZ81xt06FAO9Rz+7VFK+L1+RxUvc+1xzyhEeQfYoXFfvH+sRwLNGiNdjEnbaRoQTQmbPFUUEQhFnbmKJdQnlAVq69GdrjeV699124yNByfrQ5aWJxBEXwXFesmRxGzITkS30cbFiG/cCoshBWJahuPzNJs7+h1eS+U90QA3xIDL/Kfc02ZcJxcGQo9nBeScJjXPJ7euoMaP5ouafpkvnMy7fVDy17Nzyxqj5qfXoZxy+0FiMHuz7mikeLf5oMx4i9mnhTY96zpwNkxEI/dTw8jj9qW3mM0673fR6HYfXZCofnHj8MbYajBDwZd4PZZS9sovEI6Nz5rhKG43K2q6oz1RzMCqvfx6NwEZJOTqtTxEDARY8FqHB/btvkppQotzSz2IJCNJPPy8Tq2KW1T9O/UxQYoKDtEQW6V1lszukFu1fJPaVWFSlZAKDPo/61COVscSqYE4eLHmpiDZwQhUCuKvUhb1HqnLiPIuDYZxyWNTGjuhv+G0cNs5OF7c98f2Mj6DHaOMG7Zx4r8gOXyrj9EGqutf8+puNb0fQ6ChhiYeK92e33Xc1jW5sv4nil6qcsGcX1Kxq20/YGyFjhGlpWFlY+oK6x2EBWLkQoN6Uje1TZZMp+xWmPzjeYMFORQhOhBASvoJFcY6Ev7CnDKvi9CnjkmaNmocHH7if9TY+Of0+K0y7Ben4xTMX5k3StFi5CSUkRARPDIaD3//4w1x1XQtNYj/Xyl4qlzb89af71Srsqd4xTltzFChf4uRhjxr7u7p3udkq3oz7cXIwgu5/U0UdD6HLY4J1ZfL9lJOOt7/39KEIYSh+eLSWST2jZC8Vlmi8huophQ+F8Rb9EddSInD//ddG74vbnji81E2/OVxnyt90/uNJY/6jxKgxKQ6G+0p4Lji7YdBBPKLGjKaPmn+ki5oXWhafueWbik0mvDFdHhSHL6CsEGbVttX11uPJ3lh7yI8cIkPIW9RzvJJhayv3GPNQnP60CbP/xWm3m16v4/CaTOUD1mjCxPC+8MceT0L0OfSFMHYMGhjD8PZ62rwQ8GFjedwfuFrZIFlUhCImBX9sWMXSt1SUjNzSq28sTGyYoywsJMSm6ibrOPUThsJERWhQIrxILXLcO1g2+kHBX6t/ae58ez/Tf7QTxjlC9nHoxnXCasbI5tRUpO/HqUtKCCXz5NSavKY4GEbVSQgam0/Zp4FiQmz+sIE9bTZOYgtShQpZeHPakUtz579mv2pYofss7PpL6UeIMDxOF+LELXBCWItLegRscG8OezAgYp4JRXNPnmMjNEJJQROHLeAN4jAEMKonYUpsvIcIA4giQpmwIrNhnEUKq/xVskcDvDSMMKyMqHl4mIRXQMwp5QO6SBL+BR115GF2gdR5wD3eh5OxeKfPs9OxD4S27SUeKeaKS3tJ2BP9qyFBPPv4ky/cJFZ4SfWOcdqao0D5EpWHzfXwFMYMYx8vFvNe48sp75AKB/JhTx20F9n/OCWL/XfJDlxw0ya7Zg5DnGylwgdhuPTBPZMess/Uk0koDORu3OXkKXgLQtwuO+9sn4f9i8NLw/Llxb1k8zSq7Ez5m85/fkiWcc0hE0pxMDz8sENscvXa8oVxgsLCaX9xxozWFzX/4swLLYvP3PJNxSaMN7r1hF2ny4Pi8AXWEcpF6MY7zsl7jOUPs8MQo54fI2GZQRkB4yb3Kmb/HEFUfwbfNU67i5giNtuaX7MiQPgSxWtIkxv5gFPU2ONCOKWG8rPHbt78N8zCd96XPchZ3kXqCVKmczBYjv+ePgLe85I+ZilzcBwhVg5O5SCWmwUbiwenqUwcNzRl3jgPEVQ63trXls1eGDa3UUf17IUkTv2ELT33whzTUTbJE9v/l1gV75/ycI7q9y1X1m6k5QQewjBgWMSOz56zIEe6dL/ATPvd1kXwud1uSKXtvBMxzFjlkhHPS4tQw+kmzZo0kLjfYubJZ17YJDQqWf507sfBMKo8LJIDZAP/7rvtaoihxZP1bPbpSCeKFThIZeVUFSzsbJTEEldR9kEwZjiWkQ2iCF1xSDe5M+bwov39z992jMTJq2mOFOUW4rSj86tXTRwgwZ4dFsKJk6fZ9ujxpsQGX3hZQxtW4m5u1vLy83Pd2vWme6877H4GYtaxmk2TPUaQCqep6scKjzWeQw3OkxN1Vq5cba3KCGOprG1R8xDFEQslQnhzCUEjrp3N1088Pcu0v+kGG9J2+aUX2RN8Osl81iNxmW8ohngrNKwUwY4DG34UhQrPnUu6X4ZfHWfc/iZesTHj73eTWE9DqneM09YcBcqXOHlQJvFksY+P8fvkM7PsuzHnIZR6YtRnPPaMVR6PO+Yo2ePxiZkqGNAfKhjYxGn+o2zwx9hBCCDEvOJEN04s5Bh69RryLgh2nErIJl32wTwv/BHlq1f3DilrjsNLUxaQi4fJ5mlUkZnyN53/rDmEfx1zVMVEVXEwPOO0E62Bod/gURLCt8zgTWafGny/722drRcnasxohVHzL8680LL4zC3fVGyCvNGtI9l1ujxIBfVUfOEZkUHY5M4BNxVFaWQPC3xFT7KLel5XeAmHz3Tp3t8es0/4FB5t5m7t7P2qUf0ZfN847Sak0IYnz33VKiR4QOLwmtzIBxzXDV+GKmWPaQ76wCjMH9fJKNM5mKw8fz8+Al55iY9VrJRscBsxuJf9/YW+g0baPLjpB/frbje7cYNFdFPa9J4mc9Mj5KyU44k1vp+NqzeLcFxq771skXHqZ8L16dnJnh6F0ANxKhibLpdlh6VRZ7cubcx2IgyyHwBiYeH0Eq2be27b9FrbzXMo+J3joR99aIK1arDxGOGGI1JTKS+caDNkQE8zQo4S5jhhiM2H1zeqJ8L51NB22ESb/NsU52CSOBiSB++aS0Vks7EluQ8THnlHL7vnBcsihADXuV3LxIlfihfPuO4qJ2bxGzUov2BOerwArZo1IkmCUtXL3gD22gwcOsZ06zXI5uHEp1kiJARJrVxuO0jDBnkWAwQLjiB+bNq9iayEimChYt+Lhj/xSVvdGN9EhpALhU3rd5ME22Kf5YQ561Z2IZzkx+luKFooxBCC6F0jB9hTkOyNkH9aD6dLrZDYcARmYsMhrG5d2rcKybXxVtQ8RPEZPuh22TB7t900S04WfvqCQzAgTpG6o293CQ2bYn8vg3sI3LQd4ZC9PwgbKLR48cBY55+2nzAH2oLSg7Jr65CTpojZVop6xzht1bL0M06enre2M93k90FQ4iFCJVHENWyMe4Q27igx+CgLqnTiNWzdrCGPExQcK0XEoIJRJRURSkiZGlJLWniPVV4ca+ruu+9mhsvv5AwdNd6e7Ec6xlCX9i0T4Z2Kt45d0kBxeGlWyk3/a5mbPtl4J9U7hs1TnSpBvChR64vL3za2YuMVB4Ew/1GmXeUyDoacljhkQA/7e178LhPEmCaMqWrlM+z3OGOGhFHzL868cLFKh2/ahob8C+ONIckSt7Q/ouZnIkP2BQakKL6g3mfX2MFvffHTAFDUc8bIqCG9reFLZQTWaeaEHnATpz+pS98zTrtJz+/+DBo2xq6dtwkPAdcoXpqOfEAdLp1wbJaXlvbpfiyMH/AAFD6UKSV9F/2e6RzU/P4zcwSKiAXjv8yz+5ypECA2mJNqmFh5TcS+83sOLBrJKE79/PgbAk9ws6pbJiEU6+VdghtK3TRxr2k3XgFO/cIKqsRihqDxyAPjcvzgpj53P7G6QbQ7vykOhlFtoAxOn4uLH1au1dIvLOyZEmWgGDL2UvVtqvL1lCX1AJCW31fg6OZJE0ZYZVbzsxcJQSvI3PV5QXz+KqF624silcm4IERp1WrBS/ZluO8b1e448xAcCUHjIAtX4HPLphx+z0CPw3afga2Oh2TCbJw0cd4xTlvdtnEdlSdOvzBesXKmwihYb358J/QRjzbKWboUh5emW2ac9GHzNE4+0uQFfwvWFQdD0qyTk/OCBzFoWXHGjG1/xDoYZ15onXzmhm8m441u+amu48xPN3+cdwNnQrBKligRynuinlMfvAlKFT4Z1Z+2gOx/cdoNFn/+9af9yQF3TYniNVRRkPKBvldu5qCW4T/TQ8ArL+nh5VPnAQJtO99uY/2x3nNqzLtiMeY3ArBiYO3xtPkhwClAnMZDWASWqkF9u21+jfQt8gh4BDwCBYyA540FDLivziMgCHjlxQ+DAkcAa9/9Ux6xG2TZoEw4GopLw/qXZ+wlKPCX2MYqfOrZF+ymWn5ktePNzZJaTLcxWPzregQ8Ats4Ap43buMDwL9+oSDglZdCgd1X6hHwCHgEPAIeAY+AR8Aj4BHwCKSLQOodj+mW5tN7BDwCHgGPgEfAI+AR8Ah4BDwCHoF8QsArL/kErC/WI+AR8Ah4BDwCHgGPgEfAI+ARyFsEvPKSt3j60jwCHgGPgEfAI+AR8Ah4BDwCHoF8QsArL/kErC/WI+AR8Ah4BDwCHgGPgEfAI+ARyFsEvPKSt3j60jwCHgGPgEfAI+AR8Ah4BDwCHoF8QsArL/kErC/WI+AR8Ah4BDwCHgGPgEfAI+ARyFsEvPKSt3j60jwCHgGPgEfAI+AR8Ah4BDwCHoF8QsArL/kErC/WI+AR8Ah4BDwCHgGPgEfAI+ARyFsEvPKSt3j60jwCHgGPgEfAI+AR8Ah4BDwCHoF8QsArL/kErC/WI+AR8Ah4BDwCHgGPgEfAI+ARyFsEvPKSt3j60jwCHgGPgEfAI+AR8Ah4BDwCHoF8QsArL/kELMWuXLXa/PDjUvPvv//lYy2pi1781Tfm2ednm3/++Sd1wgyfrvn1N1v+smUrUpbw1jvvmfmvvmnT/PX33+aRR58yny/+KmUe/zB9BP7YsMH2x4pfViYyL1n6s/nfrJfNzMefKZCxuGr1mk3akGjMFn7hjuOCfpWvv/nO4sr88eQRyCsEPvnsCzPjsWfybY0Ia+fatevsWF6z5tewxwV2L505lc56zpr72RdfpnyPwsA9ZYMiHrKO8F7//vtvRMqCefzxp1+Yx59+3syd/3qBVJjfslSBvMRWVIlXXvKhM9//8BNT5+qm5uLLG5mrrmthal5Sz076fKgqssg33lpk+t0xyuSXwPPzsuW2fCZ2Kpr5+LNm4uSHbZKvvv7WjBxzr3ngoZmpsmxRz777/kfz6usLC52xT334MTN56gxTvHgxix/Kc8Mb25q+g0aaOa+8Zv77L28XHoSPBfLerhCyZMlPdkx8/e33W1QfxmmsO47jpM/LNG8v+sDi+sfvf+RlsRmVFdbvGRUUyJRf5Qaq2eK/ZspvwvJNenCGGT56guFZQdFuu+0qBpXZ5q4JkwuqytB64sypTNZz1txXFmQZ60IrlpuFgXuytkTd/++//+wa8sFHn5qiRQtfbJw9d4G5oVUnM2b8/eYDkbfymsLmSX7LUnn9Dlt7eYU/CrcyhL//cYlpcfMtptgee5gRg3uZ0cP6moMO3N8KHYve+3Are9vMXuewQw42Qwf0NDe3bJpZAZthrlkvzTOduvU1f/71V6G1bslPP5t7J00zDa6ua3bYfnvbjnff/8isX/+7ufvOQebOoX3Ndtttl6ft+/zLr01neW8+PW07CORXv+dXuVtbz2TKb8LytW99gxk6sKddpwoKpyJFipj6V9U1T/3vRYMFfXOl/FzPCwP3THF+ac58894HH5trrrgk0yLyNJ9GcTwzc5Jp3bxxnpZNYWHzJM8r8QXmCgGvvOQKvk0zv7MoS0Hp07OTOfmEY83xxx5tenZtaxNi5YlDWDmiKCxN2L1gOZtDGhau0045wey9157B5tnvUW2Meh5aaIybccqNkyasqrj5giGGcfNR52viAYFOOel4+8k/Qh2gQyocZD+D/+KWHzddsHy+x8kbJ01Y2enci1NHEP+47Q9rR5z6otJEPQ+rN26b45YdN53blkzyuPnTuc5Nn8VpZyblxyk3r9KEYRWnbM1XuvTe5rSTT9CvOT7jlhOVLuz5ccceZeuaKx7huBRWTjBvVJqo5255ebGeU15YnbnBPaw8t93J6nTTxClD08+es8CUK7uP2X+/8nor8Rm3nDjp4qSh4hW/rDKVjq5odtxxx0Q73Is45YTNa7eMqOuoOqKeR5Xvn6dGIMs8mzqNf5oGAkWLFjG1ap6bY5LvW76sLWHJ0p9SlvT6W++Yx596XtzNb9iJed65Z5vLLqll82A9v6F1Z2v5+FBcty+J23R3cb23Ee/F0UcebobfOcHGfsJgrrrsYnN5nQtz1EVs7/h7HzRvvf2uqXj4oeaiWueZSy+qmSPNzCeeNS/OfsXgJj/r9JNNnUsuyLGosW+GkKTnX5xrvv9hialRrbKpfm7lHGXw5aOPPzNTpz9u5sx7zey3bznTtOE1OdL8+eefpnHzDvZdLrrgPPPQ9CfMC+K5uKlFE3P3xCm2/gMP2E++N85RPy7raTOesOXyns2a1jfcW7lytUFZDNKsl+Za1/yAXl1z9MdjTz5nZsj+j1GDe5u99ippUuGuZYLNSy9nWZ8sfhdUM5defL593OGW3rbNfGl0Yzth8mXMsIG32Wevvyl9KnG59OkhBx9oTj/1RNPo2ivNzjvtZJ/ruzdtdI0Ze/ck842EWs2bNdP8Isz5znH32baREOHiJrEwseAlozcXvmvxLl1qL5vkpg7dzaefZ8VdEzpWrNge1gPDw6h29eg92Oy5Zwmz154lzSMznzIHH3SAGTWkd46q73vgEbuPhpu9+g2zoWojxduoRAgQ5YBvieLFTe0Lq5trr7lMH9vPqDHnJh4ycrz09SrTX/pTqU3HntLGEua2W9vrLev5POWk40zja68y69avN5OmTDfzBP9fJC/36TcMC9Ci9z4yQ0aOk7HUwEyXfVjvvPuhGTuivzn2mCMjx3GiQueCfhs7YZIhxIC9PyefeJwdp4wZSPs7aqyzZwl8GcM7yQJ9ca3qZo89dndqCr8E6yefnpXgBZXPOtXc2Li+2WmnrEWeBZXQN8IusKSecNzRpto5ZyXGMqVq3x+4/37m4ZlP2rl+4vGVTOd2LQy8LFm/Y4z49rsfzEOPPG75E31etfLpth922WVn84DwjueEd/TocrM54vBD7Au8veh9M0x4V6MGV9r9gezLgtzxFDRypOqzqLms73bMUUdYfghPPrfKmZYXHVnxMFt3bspn71/UvE015pXP17vyUtkz8ZWZLRbvDcIvq0kb4fW77rqLScVv4M0Pz3jS7reA955z9unmhsb1rMc1WT7a8+gT/zMPTrzTvn9ejBEK2rDhTzNe+PnLMtaWLf/Fzqnm119r1zaewwOZH/CiFjdcx61Q+ku82ZMenC7rzjxDfzGXWN/Or36OTa/91bb19WbGo0+b+a+9ZUqWKG6uEQzrX1UnUWYmcyo36zk4EhpNf9CHjLPr6l1uypfbx7YpiHvUe5KJOTv+3in2Ez7P3L1e+lfXE/jdZAkDZB8I/I46wcBVOqLKSACWfcG6T3mXXZpTpvhG5vo0mevgDcFr6l1Zx/IIvsftlzhtpjyIMPX2XXvbdZLv9ZvcZE4XQyjelyher3PryroXC34fWTnmxib1TcP6V1BUgpLNE03wmayp99w/1a4VjMXG111lzjztJH2ckgcmEvmLXCOwXbdu3W/PdSm+gAQChx9awVQ+89TEdy7YmP6ECLA1zzsnwbhzJJAvCOFtOvQwO+6wgxUkVovgN10Y8R577GaOqni4+eOPDWa0xHe+8+4HsoDtapWGL7/+zpbLngOEgwvPr2ZgKM+98LIIJceYsvuUtuW+9fZ75kURvPleo1oVG9v85DOzLBM9pMKBtikIVexDqSACNgrJR598bqbJvdNOPt6ULpUlMMM07xdBkHe8oMY5Itx9bgXzv/762yoyLJY//bzcNGvTxfwo+x7qiuJF3nH3PCCWkpWmuAjPl4jCxP6bUWPvtVhgPUGwf3neq+a1N962wuWh0iaEP1zDMF5ibIlBbdWum1mxYqWpI8LnPmVK2wXtCwlXwpNDuUHaRRb6CRMfNPuULmWOkXqUBg+/y+J89RW1I3EnDwvQnXfdZ5nyBTWqWgaKAoRASPvpGwRVGOuVdS8yRxxWwQpn9FXbzrfb9tepfb7ZfvvtDPm+/fYHU7XKGbbd+u4LXn9L2niEKI2nWIHymkatBMtlpokwxiMOO8T8T/p09txXzeWygPC+YXS7KBBniHJU5azT7OPf//jDrFv3u1kq4WQotIdLuxhLcdo15aFHbb+wqZQF8qQTKtl2uPVu+HODoe/pAxZJBFzwWL36VxsOgjLFAnumKMJfifJMH6PYHVohywsUZ8y59aHYTZeNxfQb84Qxxjj6UvZQ6T32+BAHXfvCmubA/fc1t94+yB5WAC6nigKI9xNlTMc1Sj3zDMWU+cG7HlfpKLNe9pVEjWO3bVyzkbVpy44WX8ZjJRGQwYD6Lr24ptl1l11ijXXmB6F4CAzanudfnGPLAm/CAlUZcdtAiODNnW6z7ahb+wIZd0XMM8+9JArsYst7SIvxAXwQZmrVrCpjY5lVZpTPkIa+R6mg7+FZGEmYj3jx6Odk/b5+3XqrOH4j47u2KFt7lSwhRoJn7WJeVfIRPsuerHff/9hgtEAo6nhrX9uXbVo1Fb7wV+h4oq9dStZn3wqPSMVD3XdbIAJXZZknx1Y60ipyz70wR961irzrbibT8un/qxu2TDlvo8a88vm3hXeAz3lVz5b9ZL+ZV4U37lOmlOUryfgNCunt/YZaPoWhAIGZ/mfMnHzisUn5FHv15sjcbNrwagtzXowRChow5E67Pl0hwmKVs0+z6wW89AIZd3vsnqWIo+zCF+BPyazow0ffY5X+M08/yZbz7Xc/mkef/J/wssPsu2p/YaA44IB9RZA82Xyx+Gs716pWPsOULFncrjmZzKlM1/OJk6fZdf/TzxZbJWtfUVielhA5DvyoVeNcs8MO29s9ki7uUe8JVk1adDB7772nVfZLyL7Gh4W3YCSCxzL+eoqx6Gnpc5TWSmKAwWPCusHYRsGJKsMOgMC/r0TOePyp5+y6S8g3xHp+oxhTv5C9rhhrMTaiOM995XVTQ4yuO++8c2IepeqXOG12m/OfHH5mXuXDAAAp9klEQVT0t8wL5AH2TWHUYV3DqBLF63Vusdb++edfIsNUNcdXOjqhTGo9yeYXMhqyFOP1hOMqmaPEaLxw0Xt2P/N5Vc8SA10xWfvWpOSBydZurdt/xkfAe17iY5VRSk5/GjhkjLWYsaAno4FDx1gGMG7UQKuIYLXp2XeIVSguEUFMCQFg6IAe1pJ29pmnmIY3tLVWpiH9e1ghGcXjigbNzIcffyoha1luefLCzLp1bmOLQfiB8QwdNd4yNRSl0WLlR6C4pWNrm+aqy2ubxs3amzHiDcASjeVsyrRHrfDSu0dHK0BfK1YkFAo8LUosTlg4Jt411DIV7mOVYD9IFLVvc6Mtn3THHnOU6T1guFWiEIi13Amj77A4kabaOWea1u27cxlK5fYpY619KG71si1w7AvhFBjqgqJwx5qD8oVC0O/2Lva9sejf3KmHVZ6IAb7kohpm+YpfrDUMa59awe4QJQkP0XjZb4IACCG4g+nCd963ipq9Kf+6tG9pBRW+o+yiDNEX9Al0iggfLHy/rV1rlUB70/kH5hCLiBJeu3UiUCKI1nf2waTTrvvHD9+EuWv5eIPYQ8MJNDVkcVRvRuK5WMT69MjyiGFJPv/SBiKAL7KLBu8XNea0HP1EOYI++XSxVabYQ4Ylmnd/TwTiM2ScoXRDjH2UX6y6HW9ublAeIZRLrHUICveMHWzv8Q9vTKe2zRPfB48Yl/Y4/lVO3sMajOGAMQudJB4eLHkffPipOUe8EEqpxjphNHg/SaOe17qXXGAaNM2av1pG8JOxjLLIHFEvzX0PPCxWwocMAkjx4uJ5E2X+XJk3vbtnzeGG9a80XXr0s3wG48duYhiBwHTyhJFWoeP7wCGjrUIKD0nW76MmTbR8Agu+jkM8LGCJpZMQ2q4dWkl9/a3RA2UHD+6ku0fYPVrJyqX+MAr2GeVSbzIeqgof7za4X3c7XigXwa6JeIInT52ZYwykW/633/+Qct4iqMUd8/Cu0UP7WIEepYIDYOaIYEibkvGbokWKmpY3NjRXiiKge954L5RgPBvJ8rnYYq3PizGCt1AVQjw/EIovyhQnjSnpOEEx3n333fR2jk8MHj1vaWf7iQd4AGrVuda89ubbNvxYEzP3OrRpZr9eIsaCK+o3Mwtee1O8xvuLUJ3ZnNKy9TPuek56xpm7Xp0kPPy2vkPNs3JQgc5rLZfPqPdcKPwf6i5zUD0pRF3g7YUWvLbQekF6SJi6eqVqirESr/uj4l1j3YoqwxYU+Ldi5Up7R+vkC7IAPPy+8cOMKjQo2s3bdLUKFZ5spVT9EqfNWg6f8DW89ygRf4uRRz359G9cXk8ExPjRgxLrtFs+11HzpOUNDRPrCUYx9dQcIMayySL/ICul4oHB+vz3zBAomlk2nysOAsRUcuoIwjJhTSpQBPNiIceqjOeCDYIIr1izD9hvX5uUZ0ooArrp+oDs+FMEJD0BBAYI/fbbWs1iP68QoU2JRZxFEOaKp0RPCqtw8AG2burHPb+3hFThYmbR5YQwCG+KWg9YIC+/NCusTcvGpUooCtYQJYRKDWXSe2Gfp59yYuL28WL9hj7OFkaxerBPRhc7niEMud+5FySsQuDPe0KvCoOHUObi4L74y29sevDT98aizeb3WU9OTfSFTeT8A1sEM+pXxYXHtS+sYVMFj9F0vXVlsj1dnEaDNYvFCSsPoTV4r8JojQjOULLnmieddtGPGuKg+dP5VA8QeRj7vMP3Pyy1RcQZc8G6Dj3kIKusfPBR1ukyb4giVF2sfISeLBQFDULoZ0wQavS5WF+hiyTET4lT2BDS8Sq4J/BRjkuZjOMSEqpCH2ERxitEH69dlyWo6d4jrSPVWNcxd3G24kqeMuI9RDhIRtqvjC+XzyCwzH/xMSvAfflV9hyuvXEOM5bxZEIoOEr0FZ4oJQQvCCt3MsKCD3FoBTyEv/LZIbPaF2edcYoVrIaNutuME0/u9RIueUiFA22+dP+5fRZnLmv58CJ4khLWdcY6fe5SuuVHzdt0xjyGKdcTcYZ4Ewj5TUUox3iqfxevIf0Ez1y2fIXlQ6nyuc/yaozAKxES4V94m7CUE4JKiI4Ku9S7R7bCovzLbYteY/hAwcRABIa6Hi4XIdElPGlKKH8Yjt4XDKBM5pSWpZ9x13NNf7ZEYLjrE/MXY8sXEg4YRlHvuY+8E0SYJeGRzHnKxNAI4WGF9hc5Quffv9mnS773QRbPjCrDFhD4h+cPcvkKhywwZ9y+JBSTufSJeJtcStUvcdrslpXsWvlLHF5P1IMaGJOVl+o+Xi4lNVLB76E4PFDz+s/cIeA9L7nDL2XuMXffb922nSRWHKtiMkLIhQgh4i9IKDSqlKhl1KbJDh/CBR1FZSXMyqWyZbO+/7BkqQ1j4hlhY2HE5rjvfsg6RtMVaEhbXhYIlxAKVUB37+MxIpwoFRH6prRHsd3t5b/ZhxeAEfsQglRG9oCkKhfGOUCsxriKsXZxagqCCwspDB5KhbuWXTZ74XDrV2XGvafX4AqVL5e14Oh9rIssYLoA631XUEHAHtTnVjNy7ETrfSINTLKJWGCD3g3Nv0E8fNBO2Xtp9H7wM5127SYhNLkhPa5Zyygp77Vcwv4gQuegVGMuqPCioLMXi1jq6+r9Yy1tWCFRTB+TsIY2smeKMK1zZXGCCCejjB0CYUcINdBS+d0CJfrEpUzGMcLNAw/NsFZJBItUlGqsE/pJu90xQVm6dy6s3I39mnM+klbHKQIkFJzDylsIKUEAgfaUkC+XOD0RImwjGSkfw2MbJK2b+1gun3thjk2CpzJTcvtM6041l9WgAi8K0r7lyxlCaV3KpPxU8zbOmN9l551sE9gv5BIhKVEExn3FWOZ6wqPyBJ9rP+XFGMFDP2jYWOttwuPEmG4gVnPX67Bz9vvi0UhGhEUPGXGXtWi7aQircylouCFcDMMblMmccsvmOu56rvlQIoKEQZLwxjCKek+s/Hg0iELoIPs+ILxZ3IM3qNeZvbFBWpx9GmRUGcF8fCeMCsKbpsQYC1vnMcDi6XcpVb/EabNbVrLrOLyefVAQoaG5oWLZsgllKI8gUgZSPhTFA21i/y9XCERLvbkqftvNzH4R/q5vVG+TjfFBVErtvZe9RRgWsb9BwnKvDCT4LO53wgFcy4m6mqlbBS2Oy8RyEqTixYoZtSr+IrGuxF4rqTCq32FeWPuCxA9cEfOfKaG4ED/sEosX1sX9RPBIRsXE4o9Fkj0NeAKwzPfq3sEmj4M7wjCE1c99b3szxT/Fiz06LrFIg3eYMuSmw0KNhQem/KbsN5gqGyPbyn6G6Q+ON1gVg6Qx5GrpDz7X77ltl5aT289SIshAqcZcWB2cpMZv1nwoiyc4EqK1TPpm1F0TrZcOj6F6CRDKEWYZJ+qtpEzitSHawB6ZMMpkHBPGQsgNYRLseUGxxyPAbz2lQ4yzsHaHzSstlz1g0M+yYTwZ4b2BgnMY4wRUxpnX9kaa/1AKEVQG9+++SU5X8Hny2Y1KAgoDG2hzS3HmstYBLwoS2NLnyShu+anmbZwxvy7bU5esHanucxgBYbHd5UAElFD6Au8Whz7EpbwcI4TREHLMXkAOwmBvGR432qVexLUSOgjBp8Noza+/2f1fbIzu2LaFOVS8ObvtvqscjNJ+E+U+LL/ey2ROaV4+01nPNV/YXGQfI/uPghTnPTFCsOGfUGW8G/xuF4cBcCjL9CnjzMEH7me9c09Ovy8RiaH1KP+LKkPTu58qrBNCrYRHKYwfRc0jza+fcdqsaVN9xuH1f8ver/ymuDwwv9uxLZRfdFt4yYJ+xxdffsWeOAOTaSwnS0URFgH+EM5h7Pod4QzhWRl8VDmpnsPolLASsLkT2k8sNrqBmvq1bj4R7KgfB8/BElIGET/t0ktz57tfbcgMCgLCvhKufrVI6L10P2H4lPOgbPgl3AclAIFVFa9U5bHpmPA3tayq21ffNRXuGtJCn7rEaSPs49HjFgm/gTSeG68DlsY5gpdrIVS3MiFQyQhPG5sC2a9C6AX7dfDeQV9/831otmKynwFalX00cmgiuZmbdoWVWTTb+xcMUwxL696LM+bc9HpNqALE6UN4o1DIDxZLOn15z6SH7DP1HqgiTny0Eif6zJM+YfHdRTaVJiNCv9Idx59LmBhEqBZt4yQ79e4lqyfsvmLDJnklxjntTkYIf4y3l2VzLu+oRCw4p84xpipUyJrDbKB1ae78LN7AWItLYf1O37Dvg2c6t7Csw0OWitAGgQd7cDh1irA4PG+uAhlWbpw2aX2p5rKWAy/SEC7uwavoa/o8GcUpP2rear+m4rPJ6g/eD/IbTnDknQiHZSMylniswhzi4FIwn/uM67waI/AD1hj6FoWINg0T4xjEKWpKGk6ZzLP0pbwTxJ4vQqY5bZG5gJEiHVLs05lTWn6667nme/WNhXYDt37HW8E+EW2L3uczzntiqGMf3/YSrg1/wdOMsRMswPuwbMMj41vHK5+MbQ1TjirDbZNeqxeQtisdI2GlQf6IUYB7FWWfW1yK0+Y4ZeWG14eVHzVPwvJwLw4PTJbX308PAe95SQ+vyNSc5MSmPKisWH45glKJxUQ30uk9/eTIPlzst8lpMdWqnCWnHclmv/setCfFzJh6t/lLTsfIDU24b6pscPvHCsOEULG5DSELiwwhAsQUk4bjLY8Wqx17XHSjOs/2LVfWei5QHgjfgUGx54DTTFwiJICQkI639LGxuJx0c/+Uh90kGV0TbgC2HCfMHwRjxiKnoQHJCuZkKbDnBxzZg+IKrVG4UwdC1gw55YpF4zg5SOB92XPBqUlsHFUmp8es0rbzq1e1m/E5IpqQNQ5ewNJIeBOn0MBoObI3Ga1bu95073WH3ctBHDSnlGH5g1QwD+Zl/xFWH1cwCKbR75m2S/O7nxrzPPXhx20/nH3Gqe7jpNdxxlxYZgQhLOQIIbopFGtiFRHaOBHnVOlrjWdG2EFJ6dFnsD0uln0wz8vYRMhT71tYHdzLZByrUMKpfOyr+VGECizN6RKx8qVFOYYXNGvSwJQoUUwU7xc2CZsJltv8+utsmCFj5wI50QiLNwodIZLly5a1Rgj4D5ttwaziEYdapR4exR44xnpcCuv3y2T/GycqtevSy7BHjDmHZRjDwcRxQ61S1W/QKNt/V4thhw37HPnOvsAxw/tZvhJWrm60j2pb1Fx283e6tY/sT7rKnvrE3EYgdsOZ3LR6HVX+zzK/U81b9ndE8VmtK+ozjN+gfGKkwktNX2KsITyVflAKy6fP+CS8OC/GCCGP8D6iBjgWHI/vs7NetlWdKN5SJU4Fg/aUMRpGFeSIdohxhOf+73/+tspvWNpU9zKdU5mu57SFMcVpesyF32U9R2mnL6rLTwwEKc57sv8Tgx3rDqdb8RMB/Jgi6wlGHPgdvBGjWnMJJWN/CwcWPPH0LNP+phtsyHFUGcF28b189j5a9g1p2HJdmev8wGiX7v3tsdUYRIkO4P1qh5z8GVYu9+K0OVle935ueL1bjl5HzRNNF/yM4oHB9P575gh45SVz7EJzviZKgVJQcMEymkx5IX70d4ktfUyOgFSFAC2ek5IQxtTlmW3o1irsZ5bNP8etRJy7Prujbze7mGA9gcFgseEYXghBhpOtdpHF4alnX7DHqXKfk67atGzCpU3TrUsbs50I0sTcQiyWnALDqWBKTHoOJ0BRQCiBOC2HDXXLluUMadG2UX+Q9J5+Ipzz2ykfyvHMH4rygAeBeN9eUreGwAXL0O8spBwRjXDLqVguReFOWsIVdpQ+QPBVJQJLYOtmDRNFcRIWCyQbVDkF67Fp91r82IvC8b785g1EGk61UgVK3y9RkFxwQhOnOqEItetyu32EEH7XyAFJwytIxDn7CCxumNSmyGb1a1S7KE+t4FwnIxZNNl2zMKO0z5w6IZG0iMlZexFRevVgCd47aswlCgpc4DmjH9zwC5RBq7xIWJkS+4uGy5jhVD3dWwOO7slumjb4mc441rzspeIkP5QDrM4IkDo/tJ/1U/Pwqff0Ey/KkAE9zYjRE+RUtCw8CXkkBBWPn6Zzy+AawRiBid9m6dZrkH3MYQbdOt+UULK7Zs9zlAzmMW2EF7Rq1sim13/Bvi+S7VmUym2SsH5H8Rghv/ODEYTQPgiFmpO9ELDwlqE4oqgwn5nDbVtdb/oPvtOOWxSosHLjhmvGmcu0iTkI77pj+Fi+WgUXnqUCi70Z8i+q/DjzNmrMa98GWWLwexi/6XlrO9NNjgZHaYAwmICpGzYWlk/rJA/XeTFGUDhH3tHLGuQIZ4MYa53btcxxQhieIfg44yGMGCPsneEkPR3TnKg2S/hsHFJ+k+mcynQ9p20cnrBy1ZrE+sghGDeLIqchiC7ucd6TExNXSPg3hjP9PSQOsenSvpWFgrkzfNDtsqH/brupn5us9eDFQTtQVBk2UeAf3i7mCyeYyllc9ilznd/9gu/rOo/SDG/liPoo0n6J0+awssi/3XYbA4fi8HrFOziXwsoPnSfZCYPrGre17CgeGFaXv5cZAkVksfsvs6w+V34hQPwrzF8tyHlVD9YRlBdc9Mo8gmWTBlc++1yw+IcRYSn8DgYhbqmI8+dhnsEN06nyJHuGp4iTSfhhTU51gtjHU/uKxtabosdAJ8sf534U7hvxK54QBoPl6glWwcX4V3Hr7yZYaOxxMF+y7+TbXrxj4BhFCAIcXc2iAvONQ5m2K1g2ChOevbhWcjd/nDHnps/kmrZh/WSxTJfSHcdgwfHjCGvJ5lncNqCMQHH63y2TsbyrHICRbO6BubbRzZfudbJ+58Qr5gJCYyaUrNy4ZSWbyxwdjDA2sPcttn14fxAc06Vk5Ws5UfM2r8Z8GL+Jqps2huXTtutnXo0RxgIn0AXXCw6IqNe4tbm9Wwd7aqDWG/apeDGeko3psHxh9zKdU2FlxbnHvrd/hP8kOwraLSPOexKqvGr1avujw8F1RsuifwklI+RLowP0GZ9xynDT3z/lEWuUmPXU1MRx6vqc94PUIKf30/2ManPc8nLD64N1xJknwTz6Pbc8UMvxn+EIeOUlHBd/dzNDgFjaFjffYt3iWBQJq9Nfbk5HWN/MXivPm9O+ay+7uGBJ9uQR8AjkRMBVXnI+8d8KGoE75QQyjFKTJ4xI26hT0G3d1utjL2eda663JwXqb2Zt65j49y9cBDb63Qq3Hb52j0BKBNigOHpYP/u7I4QHobgcfeQR9gfp4noZUlawlTxs07Kp/dV0dxP0VvJq/jU8ArlG4CA5kSnVqWK5rsAXEAsBvENsHu8sB5Gk642OVYFPlKcI4DUiJOyVV7NOb8zTwn1hHoEMEPCelwxA81k8Ah4Bj4BHwCPgEfAIeAQ8Ah6BgkfAe14KHnNfo0fAI+AR8Ah4BDwCHgGPgEfAI5ABAl55yQA0n8Uj4BHwCHgEPAIeAY+AR8Aj4BEoeAS88lLwmPsaPQIeAY+AR8Aj4BHwCHgEPAIegQwQ8MpLBqD5LB4Bj4BHwCPgEfAIeAQ8Ah4Bj0DBI+CVl4LH3NfoEfAIeAQ8Ah4Bj4BHwCPgEfAIZICAV14yAM1n8Qh4BDwCHgGPgEfAI+AR8Ah4BAoeAa+8FDzmvkaPgEfAI+AR8Ah4BDwCHgGPgEcgAwS88pIBaD6LR8Aj4BHwCHgEPAIeAY+AR8AjUPAIeOWl4DH3NXoEPAIeAY+AR8Aj4BHwCHgEPAIZIOCVlwxA81k8Ah4Bj4BHwCPgEfAIeAQ8Ah6BgkfAKy8Fj7mv0SPgEfAIeAQ8Ah4Bj4BHwCPgEcgAAa+8ZADa5pxlza+/mWefn22WLVtRKM18/sW55uNPvyiUuuNU+ttva83suQvMI48+ZVb8sjJOllynoT8+++LLXJezLRSwdu06O37XrPl1W3hd/44eAY+AR8Aj4BHwCKSJgFde0gRsc0/+87Llpt8do8zir74plKb2HjDczJn3aqHUHVXpP//8Y5rffIvp0XuwmfXiPLM6jwXkf//917z6+kLz3fc/5mgK/fHKgjf/396ZgNlUv3H8Hfs69p3I2PdEZN+yZysKyVZEiKhokEgISZbIyL4USlG2ZC1ZskvJkiyjJLRYZpT/7/vOnOvMdefei/F/Op3v+zxz77m/c37b5z3zPL/3/N73PXHKnPZj34HvBH8JLd7tpk6dSlas/kLemTY7obtieyRAAiRAAiRAAv8BAjRe/gNK5BSCI3Dq9Bn58fgJ6d6lvURMHi0F8ucLrmKQV0VFR8sL4a/J6rUbg6zhnMsmvztL8JfQ4t1uSEiItH2shSxb8fm/egcvoTmwPRIgARIgARIggeAI0HgJjtP/5arr168H1c8//9x8XbB17R0EWyfQdYHO2/u0HwdbL9B1gc5bfVo7LYULhllFcb6DbccX/zgNBfgRqJ9A5301H0ydhLrmdvv3Vc9XWZnSxbV4w6Ytvk6zjARIgARIgARIwMUEkrh47gk+9SPHjsvgYWOkb68uUrZMSW0f7kJTps+R/n2flZLFi2gZYi6mz1ooE8YOk4wZ0svX23bK0uWrjGvRVt0NeLDC/dKhXStJkTy5Xr9g0ceyxjzN79yhtT79xu7BxtVL9Nzs+YsFcSYnTp6WurWryUO1qmm5v4+D3/8gU6fPk+3f7JYM6dPJ/feVkj49npL05hgCt6qMGdNLvnvyyPtLPtG2cc2LfbpJ7lw5PE2vXrtBli5bJXv2fSulShSV57p39pyL7wAL6CVLP9O4E9QrW6aE1K5RRZo9XN9TJdj+v95uuJn+wQ3916lVVR5p2tDTjv1gyvS5smrNOi0a/sZ4SZUqlYwa9rLO53b5J06c2NMF2nhrUoT+BrN1xnXuWbPDU6liOS2DyxpcoT5duVauRkVJreqVpU/Ppz06xkVLPv5MPv9ik+zdf1CqPFhemjdtIBXLl9X68X2gztp1m1UHRQsXlMYNasdh+delSzJr7iLZaBid++28PFCujJ4vX7a0NrlrzwEZM36K9Db6X/zhctm8ZbveE61bNTM7IM3l/IWL0uP5gbpjhQptO/XUsXdu/7jW96eD/oNHyG/nL8i4Ua9IasMbMu/9jzSmZYD5fxgxdpLPdnHfl7+/jP5fdHv6Sa3HDxIgARIgARIgARIAgcTh4QOHEEXCEEibJrUuYLNkziTlypbSRucuXGKMhD2SOVNGYyTEGDTzP1gqx386KR3bPSY7d++T3i8OkUSJEknzJvUlSZLE8tEnK+X48ZNSs3olgRsNFudYDH/59XYpWaKIWdg+oO2/+948mWkWpthJaFC3hhz49pAaQdHR19SQyZM7500TQ0wMFqCQli0aS6aMGWTlmvXyza590rRxPS2fu+BD83uvwMipV6eGpDFxCFu379KFKBbdEMR2hL/6hiRLltQYDA3kypWrEjFrgaBvGBJYfPoSGFuTps6Ue/Lkkob1akrkmV/UmEmbNrUUL1pYqwTTP2IlevUdJMmSJtXFOHZVFpnFt70de/8wGP6+9rccOnzUcK2sxmXJYoXVNel2+UM3lly7dk1gzOzcvV+KFSkkNatV0u8MGdLJe7MXyg9HjsnFi39I/YdqKqtNX22TX3/9TapVrqBNwEAdP2m6hOXPpwbogYOHZKEpq1j+PsmaJbPVTZzvOQuWyIR3ZqgB1qBuTYFuce8kT55MdQCD6eUho0wMyTqpZAziCsYQgp4/WLLM0+6xH39SbjBu8ubNLZUrlpcfDh/Tew5zgHELd7gjR49LyhQpDOt6UqRQAe0zkA4w7hlz3tf6Fcw8EAvUf9DrUrtmVXN/Vo+3XUwS/x+45x975GFzjyWLM2/+IAESIAESIAEScC8B7rwkoO6TmoU0npjv3ntAW8Uuw5at3+gCEN9Pd2yj5Tt27pGqlSvq8Rvj3pGcObLL1Amj1EhAYcGwe2WSiS/YsXOvPinXC83HS893lzpm4Qf55ew5mbvwQ30KPnRQPzVy2rV5VJ7tE26MmO/1Gl8f589f1HFgsZstaxa9JH26UG0LT+ZhzEAuXboss6eNlxzZs+rvkWMmahxC+Iu9dLdg3MQIHXfEpNGSxhhtEMQv4Ml6fIL2YXDVqlFZhg6MGXP7tq3kpUHDdeHeqH5tzxP6QP2PNE/t8+XNI1PeHikpU6YQsB782hhtp2mjerqAt4+jstkBgXGJWIr6D9WQ+0qX0NO3y9/eNo4xFuxWRMxcoIZRu9aPxLkEBuDk8a/r/LBr0emZvrLeuEWBJ3Y3Jk6ZYXZN6siAfj203mOPNpGOXZ/X+2DyW6/HaQs/sKMxJWKOVK9SUYYPeUn1D2P4uRcGyax5i6R1y6ay2RhI2BHq99wzahijXitjsMJ4hf4Q92MJmPTt1VV/NjUGSsu2XeXLLdsE9xTmAmMVYp9XIB3AiH3cjANGWL061c3O0xxjiGWSbk+1U53F1y76AU8I5mndX1rADxIgARIgARIgAVcTYMxLAqsfT7fh9nPl6lU59uMJXZj27NZJU+VeMItUpDCG4QG3HSzQ4e7VsF4tj+GC4TRpVFdH5Z1e13pKj5NHjYsapIVxk7J2AJImSSKPNvPtNqUXm48ihQtIhydaGSMloz4JR1pjKy0tFtGWFDe7EpbhgrJy98e4GeFJ/Z9/XZLTkWdixh1ruOAajMWf4Ok9pEWTG2NOlChEmse6jB099pOnur/+L1+5ou5G2Fk6ceq07qZgZyNvntxaH251wcid8A+mffs1lcyOhuU6hXK4BqJ/uHVZmeHC8ufVuWB3CHwzZ8qg7mDIYuYth4/8qEXYPbP0D5YTxpqEAZ/M112gQ2YHBQJXMkvSGUMVRiJ21aLNbpEl1YwRZEnO7NnUMN3rJ7tYsDqAwQ7jHK5ncFMc1L+3Gi5WX/F9w9CEIPU3hQRIgARIgARIgAQsAtx5sUgk0LflGvb9oSNy2CyoscBGTAfiCnaZHRkraLpMqWJy8nSk9porZ7Y4veNJc6pUKT3xANZJu/vMTydj0vHaDQxcl8ssFP0JDI83356qcTL+rkMsjl1C06bVn9dNsoBT8Yw7Pvcmqx0rhbD3mHPmiJk/XIWsuCB//cPgg8CdDn/eAoOmcKEw7+Kbft8J/5saC1AA9yu7hIbG8jS5F+AiCIHbmC/59dx53bGwn7vBMu69g2ssYwYxWNjpwI6gXWBMQCIjf/YUp4sdj1UAdzdfRpN1PlgdIH6le5cnZaBxMYQroRULZrUT33eKFMn1FB4CUEiABEiABEiABEjAIkDjxSKRQN9578mtbmLYfcEfdksQx4LAazx5xkIS7jRp06bxLA4R+2AXLNjwVD6HeQIen2SLjYM4Z160mD1bjPsXrj3r1ZZ3fbgUIcC/a+cnNJg8s3ET27pjt+D9LMEKYnog3uM+f+GC3yYsNzXvMWNxDslmm4e/hqz+4dKEmAhvgYtWMGIx9J5HMPyDaT/Ya7IYAwMyduRgjV/yrpcuNNS7yLMrdvbXc3H0b78QRiGMO8S+2JMLWC/nRL8nT8UY0PZ6wRwHqwNkZvvQJBWA4P7Hjg8SCwQSGNmQUPN/QiEBEiABEiABEiABiwDdxiwSCfhdrUoFjXVBnEB5k90JUvGBsrJx89bYOJb7tAwuPHgyvn7z17rA1ELzYcUXFCxwr1V003d+42IE2WDq2mXths32nzcd7zeuQNgFeNIs/PGeE2QY2//tdzdd568AuyJow3vcvnZB7O2EhcWMGcHhdtmweYv+DPa9K+gbf999f1iwY2D9hsG3zRhi1sLX3oev4zvh76u9EIkJ4L/4+629HR4xThDMx5oLvmFYYD62vACebguE5dPjz9dt8pThIGLmfH3XDIwGKyU0EkZYEm2C7zeaewYxJQjAvxWxjEzUscYZSAdLl63UJAbjRw/VXcjXRr0tUSZ5gl3s7VrliHWBIB7Lkmsm4QLc7CgkQAIkQAIkQALuJcCdl7uge7jHfLx8tbZcqnhR/Ub2McSU4M/KRIYTndu3lhEmGB7B5gjGP/PzWc1OhYUn0trGJ7lz5tBgbQTII1NZURPLsnXHLvli/ZfxVdHyYkUL6Y4QFrmlShQzi+Nd5sn4Cr91fJ1E3My4idM84z5pXLmQjtif5MiWVYPlkWgArk1FixTUmA70j1TJWBAHK106tZVRb06WV4aPldrVq8ily5dl2ox5mu1s8fx3g23mtvn76gBZvrCrsG7DV5p0AbttWbP6zhRmrw83OgS0T5sxX65ejZISJqU2YpqsgHyc8xbsYj1sAvwXf/Sp2dlLImVKFpe9Bw7KfHM/PNKskbknQkzmsHJqpAwaNlqTNCDj3SqTWQ4xNq8O7OvdpN/fpUsVlzkmUxx27hCvU6hAfgmkA7wUdKxxUWzauK7e80i13dNkiEPGuac6tNH+fLWLE8h4BskYm0ACx8/06q87N58umeVJ641yCgmQAAmQAAmQgHsI0Hi5C7ouG5vJCu/4wIIWgsUmnnYjmNzuNoMMU1eNm9giswhdvzFmB6KqcTV7ofcznifjVgyDfagoC3+plyQ2LmlImQvBzsXgAX38uoB1aNtSA/VnzPlA68BIerZrB01fbO8nkdfj/hCzGFaJLX+0eSNBemI8Wce4EaMzYugAGWDe7WFvJ6aSVTVE+ptsWilTppTlJusXxg2DBa5fGINdAvWPpAaXTXrmjz5Z4THY8M4YZNay3o9jby/ucexcTOHt8o/b3o1f7Q3fUW9OijGsXu6jKYFx1puJhRffOIcsY+Cy7LM1urhHHYytV/dOOPQp/Xp3k2QmpgQGCTJ6QVqYtNU9urbXY8ROjRv5ihoQVjwN7kF71jq9MJ4PGMWWNDTZ6baZdNnIFgcDG20E0gGMS9wXXTu302YQ74KsZrj3apg0zLhffbWLi5GxD2m5kYTCktDQNNqe3QXOOsdvEiABEiABEiABdxAIMa42190x1X//LH//40+TkSplnPiEYEYNV6BLl6+oC1Uw1+MaZIuKioq+pTq+2oZ70oWLF417Tzp92u/rGl9lSFwA4+dWdlt8tYMyZKSCkRjYaImvhZjy2+Xv3SqYREVHSXLzfhJvo8X7Wu/f4AKXKcS5IFYqGEEd7Oj50wFcri6b3SnEWt2JYGcI4/I2IO5UB/Z2kbihTcceMiS8r3nnTVXPcDFPJBHw7ttzAQ9IgARIgARIgAT+8wRovPznVcwJkoCzCEww77zB+2lmT3uLhoqzVMfRkgAJkAAJkMBdJ3DDL+Sud8UOSIAESMA/Aex+7TNJJRAfwx0W/6x4lgRIgARIgATcSIA7L27UOudMAiRAAiRAAiRAAiRAAg4kwJ0XByqNQyYBEiABEiABEiABEiABNxKg8eJGrXPOJEACJEACJEACJEACJOBAAjReHKg0DpkESIAESIAESIAESIAE3EiAxosbtc45kwAJkAAJkAAJkAAJkIADCdB4caDSOGQSIAESIAESIAESIAEScCMBGi9u1DrnTAIkQAIkQAIkQAIkQAIOJEDjxYFK45BJgARIgARIgARIgARIwI0EaLy4UeucMwmQAAmQAAmQAAmQAAk4kACNFwcqjUMmARIgARIgARIgARIgATcSoPHiRq1zziRAAiRAAiRAAiRAAiTgQAI0XhyoNA6ZBEiABEiABEiABEiABNxIgMaLG7XOOZMACZAACZAACZAACZCAAwnQeHGg0jhkEiABEiABEiABEiABEnAjARovbtQ650wCJEACJEACJEACJEACDiRA48WBSuOQSYAESIAESIAESIAESMCNBGi8uFHrnDMJkAAJkAAJkAAJkAAJOJAAjRcHKo1DJgESIAESIAESIAESIAE3EqDx4katc84kQAIkQAIkQAIkQAIk4EACNF4cqDQOmQRIgARIgARIgARIgATcSIDGixu1zjmTAAmQAAmQAAmQAAmQgAMJ0HhxoNI4ZBIgARIgARIgARIgARJwIwEaL27UOudMAiRAAiRAAiRAAiRAAg4kQOPFgUrjkEmABEiABEiABEiABEjAjQRovLhR65wzCZAACZAACZAACZAACTiQAI0XByqNQyYBEiABEiABEiABEiABNxKg8eJGrXPOJEACJEACJEACJEACJOBAAjReHKg0DpkESIAESIAESIAESIAE3EiAxosbtc45kwAJkAAJkAAJkAAJkIADCSSJjIx04LA5ZBIgARIgARIgARIgARIgAbcRCLluxG2T5nxJgARIgARIgARIgARIgAScR4BuY87TGUdMAiRAAiRAAiRAAiRAAq4kQOPFlWrnpEmABEiABEiABEiABEjAeQRovDhPZxwxCZAACZAACZAACZAACbiSAI0XV6qdkyYBEiABEiABEiABEiAB5xGg8eI8nXHEJEACJEACJEACJEACJOBKAv8D/CFRLpcnvqsAAAAASUVORK5CYII=)\n",
        "**Answer:**\n",
        "The GloVe model has $4 \\times V \\times d + 2 \\times V$ parameters, where V is the vocabulary size and d is the embedding dimensionality. This is because each word in the vocabulary is associated with 2 embedding vectors (for the word and context representations) and 2 biases (one for the word and one for the context)."
      ]
    },
    {
      "cell_type": "markdown",
      "metadata": {
        "id": "rKbDkmuGoTCC"
      },
      "source": [
        "## 4.2 Expression for the Vectorized Loss function [0.5pt] \\[Type 1\\]\n",
        " In practice, we concatenate the $V$ embedding vectors into matrices $\\mathbf{W}, \\tilde{\\mathbf{W}} \\in \\mathbb{R}^{V \\times d}$ and bias (column) vectors $\\mathbf{b}, \\tilde{\\mathbf{b}} \\in \\mathbb{R}^{V}$, where $V$ denotes the number of distinct words as described in the introduction. Rewrite the loss function $L$ (Eq. 1) in a vectorized format in terms of $\\mathbf{W}, \\tilde{\\mathbf{W}}, \\mathbf{b}, \\tilde{\\mathbf{b}}, X$. You are allowed to use elementwise operations such as addition and subtraction as well as matrix operations such as the Frobenius norm and/or trace operator in your answer.\n",
        "        \n",
        "*Hint: Use the all-ones column vector $\\mathbf{1} = [1 \\dots 1]^{T} \\in \\mathbb{R}^{V}$. You can assume the bias vectors are column vectors, i.e. implicitly a matrix with $V$ rows and 1 column: $\\mathbf{b}, \\tilde{\\mathbf{b}} \\in \\mathbb{R}^{V \\times 1}$*\n",
        "\n",
        "*Hint: To prompt a GPT-like model, try naively copy-pasting the question, generate several answers several times, and check the generated answers.*"
      ]
    },
    {
      "cell_type": "markdown",
      "metadata": {
        "id": "0tz4hzwPogsL"
      },
      "source": [
        "4.2 **Answer**: \n",
        "**\\*\\*TODO: Write Part 4.2 answer here\\*\\***\n",
        "![4.2_prompt.png](data:image/png;base64,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)\n",
        "<!-- Paridhika -->\n",
        "**Answer**: \n",
        "\n",
        "The loss function L in Eq. 1 can be vectorized in terms of $W, \\tilde{W}, b, \\tilde{b}$ and $X$ as follows:\n",
        "\n",
        "$L = \\frac{1}{2} \\times (||WX - \\tilde{W}X||^2_F + α||b \\times \\mathbf{1} - \\tilde{b} \\times \\mathbf{1}||^2_F - \\beta \\times ∑(X .* log(X)))$\n",
        "\n",
        "Where $X$ is the co-occurrence matrix, $W, \\tilde{W}$ are the word and context embedding matrices respectively, $b$ and $\\tilde{b}$ are the word and context bias vectors respectively, alpha and beta are scalars used to balance the contributions of the different terms of the loss function, 1 is the all-ones column vector of size $V, \"||.||^2_F\"$ denotes the squared Frobenius norm of a matrix, and \".*\" denotes element-wise multiplication.\n",
        "\n",
        "The first term represents the squared Frobenius norm of the difference between the word-context product of W and W' with X. The second term represents the squared difference between the dot product of b and b' with the all-ones column vector. The third term is the element-wise log of X.\n",
        "\n",
        "Note that in this case, $W = \\tilde{W} , b = \\tilde{b}$ and the loss function is optimized to find a rank-d symmetric factorization of the co-occurrence matrix $X$."
      ]
    },
    {
      "cell_type": "markdown",
      "metadata": {
        "id": "_vQIRZynyGpl"
      },
      "source": [
        "## 4.3. Expression for gradient $\\frac{\\partial L}{\\partial \\mathbf{W}}$ \\[0.5pt\\] \\[Type 2\\]\n",
        "\n",
        "Write the vectorized expression for $\\frac{\\partial L}{\\partial \\mathbf{W}}$, the gradient of the loss function $L$ with respect to the embedding matrix $\\mathbf{W}$. The gradient should be a function of $\\mathbf{W}, \\tilde{\\mathbf{W}}, \\mathbf{b}, \\tilde{\\mathbf{b}}, X$. \n",
        "\n",
        "*Hint: Make sure that the shape of the gradient is equivalent to the shape of the matrix. You can use the all-ones vector as in the previous question.*"
      ]
    },
    {
      "cell_type": "markdown",
      "metadata": {
        "id": "HYDCmo7UyLyI"
      },
      "source": [
        "4.3 **Answer**: **\\*\\*TODO: Write Part 4.3 answer here \\*\\***\n"
      ]
    },
    {
      "cell_type": "markdown",
      "metadata": {
        "id": "jQJrG7fkpEOe"
      },
      "source": [
        "## 4.4 Implement Vectorized Loss Function [1pt] \\[Type 2\\]\n",
        "\n",
        "Implement the `loss_GloVe()` function of GloVe. \n",
        "\n",
        "**See** `YOUR CODE HERE` **Comment below for where to complete the code**\n",
        "\n",
        "Note that you need to implement both the loss for an *asymmetric* model (from your answer in question 1.2) and the loss for a *symmetric* model which uses the same embedding matrix $\\mathbf{W}$ and bias vector $\\mathbf{b}$ for the first and second word in the co-occurrence, i.e. $\\tilde{\\mathbf{W}} = \\mathbf{W}$ and $\\tilde{\\mathbf{b}} = \\mathbf{b}$ in the original loss.\n",
        "        \n",
        "*Hint: You may take advantage of NumPy's broadcasting feature for the bias vectors: https://numpy.org/doc/stable/user/basics.broadcasting.html*\n",
        "\n",
        "We have provided a few functions for training the embedding:\n",
        "\n",
        "*   `calculate_log_co_occurence` computes the log co-occurrence matrix of a given corpus\n",
        "*   `train_GloVe` runs momentum gradient descent to optimize the embedding\n",
        "*   `loss_GloVe`: **TO BE IMPLEMENTED.**\n",
        "  * INPUT \n",
        "      * V x d matrix `W` (collection of $V$ embedding vectors, each $d$-dimensional)\n",
        "      * V x d matrix `W_tilde` \n",
        "      * V x 1 vector `b` (collection of $V$ bias terms)\n",
        "      * V x 1 vector `b_tilde`\n",
        "      * V x V log co-occurrence matrix. \n",
        "  * OUTPUT\n",
        "      * loss of the GloVe objective\n",
        "*   `grad_GloVe`: **TO BE IMPLEMENTED.**\n",
        "  * INPUT:\n",
        "      * V x d matrix `W` (collection of $V$ embedding vectors, each $d$-dimensional), embedding for first word; \n",
        "      * V x d matrix `W_tilde`, embedding for second word; \n",
        "      * V x 1 vector `b` (collection of $V$ bias terms); \n",
        "      * V x 1 vector `b_tilde`, bias for second word; \n",
        "      * V x V log co-occurrence matrix. \n",
        "  * OUTPUT:\n",
        "      * V x d matrix `grad_W` containing the gradient of the loss function w.r.t. `W`;\n",
        "      * V x d matrix `grad_W_tilde` containing the gradient of the loss function w.r.t. `W_tilde`;\n",
        "      * V x 1 vector `grad_b` which is the gradient of the loss function w.r.t. `b`. \n",
        "      * V x 1 vector `grad_b_tilde` which is the gradient of the loss function w.r.t. `b_tilde`. \n",
        "\n",
        "Run the code to compute the co-occurence matrix.\n",
        "\n",
        "        "
      ]
    },
    {
      "cell_type": "code",
      "execution_count": 11,
      "metadata": {
        "id": "rw0IToBap3E2"
      },
      "outputs": [],
      "source": [
        "vocab_size = len(data['vocab']) # Number of vocabs\n",
        "\n",
        "def calculate_log_co_occurence(word_data, symmetric=False):\n",
        "  \"Compute the log-co-occurence matrix for our data.\"\n",
        "  log_co_occurence = np.zeros((vocab_size, vocab_size))\n",
        "  for input in word_data:\n",
        "    # Note: the co-occurence matrix may not be symmetric\n",
        "    log_co_occurence[input[0], input[1]] += 1\n",
        "    log_co_occurence[input[1], input[2]] += 1\n",
        "    log_co_occurence[input[2], input[3]] += 1\n",
        "    # Diagonal entries are just the frequency of the word\n",
        "    log_co_occurence[input[0], input[0]] += 1\n",
        "    log_co_occurence[input[1], input[1]] += 1\n",
        "    log_co_occurence[input[2], input[2]] += 1\n",
        "    log_co_occurence[input[3], input[3]] += 1\n",
        "    # If we want symmetric co-occurence can also increment for these.\n",
        "    if symmetric:\n",
        "      log_co_occurence[input[1], input[0]] += 1\n",
        "      log_co_occurence[input[2], input[1]] += 1\n",
        "      log_co_occurence[input[3], input[2]] += 1\n",
        "  delta_smoothing = 0.5  # A hyperparameter.  You can play with this if you want.\n",
        "  log_co_occurence += delta_smoothing  # Add delta so log doesn't break on 0's.\n",
        "  log_co_occurence = np.log(log_co_occurence)\n",
        "  return log_co_occurence"
      ]
    },
    {
      "cell_type": "code",
      "execution_count": 12,
      "metadata": {
        "id": "5K0knDihp45W"
      },
      "outputs": [],
      "source": [
        "asym_log_co_occurence_train = calculate_log_co_occurence(data['train_inputs'], symmetric=False)\n",
        "asym_log_co_occurence_valid = calculate_log_co_occurence(data['valid_inputs'], symmetric=False)"
      ]
    },
    {
      "cell_type": "code",
      "source": [
        "print(len(asym_log_co_occurence_train))\n",
        "# print(asym_log_co_occurence_valid)"
      ],
      "metadata": {
        "id": "nzdMdVhEmKn0",
        "outputId": "2d275aa3-c1a0-4b0a-f87b-58a2dc5b9d34",
        "colab": {
          "base_uri": "https://localhost:8080/"
        }
      },
      "execution_count": 13,
      "outputs": [
        {
          "output_type": "stream",
          "name": "stdout",
          "text": [
            "251\n"
          ]
        }
      ]
    },
    {
      "cell_type": "markdown",
      "metadata": {
        "id": "7vbozDCFp8lD"
      },
      "source": [
        "* [ ] **TO BE IMPLEMENTED**: Implement the loss function. You should vectorize the computation, i.e. not loop over every word.\n",
        "\n",
        "*Hint: To prompt a GPT-like model, you may include in your prompt the vectorized loss formula derived in 4.2.*"
      ]
    },
    {
      "cell_type": "code",
      "execution_count": 14,
      "metadata": {
        "id": "U1zltFcrqFnq"
      },
      "outputs": [],
      "source": [
        "def loss_GloVe(W, W_tilde, b, b_tilde, log_co_occurence):\n",
        "  \"\"\" Compute the GloVe loss given the parameters of the model. When W_tilde \n",
        "  and b_tilde are not given, then the model is symmetric (i.e. W_tilde = W,\n",
        "  b_tilde = b). \n",
        "\n",
        "  Args:\n",
        "    W: word embedding matrix, dimension V x d where V is vocab size and d\n",
        "      is the embedding dimension\n",
        "    W_tilde: for asymmetric GloVe model, a second word embedding matrix, with\n",
        "      dimensions V x d\n",
        "    b: bias vector, dimension V x 1\n",
        "    b_tilde: for asymmetric GloVe model, a second bias vector, dimension V x 1\n",
        "    log_co_occurence: V x V log co-occurrence matrix (log X)\n",
        "  \n",
        "  Returns:\n",
        "    loss: a scalar (float) for GloVe loss\n",
        "  \"\"\"\n",
        "  n,_ = log_co_occurence.shape\n",
        "  # Symmetric Case, no W_tilde and b_tilde\n",
        "  if W_tilde is None and b_tilde is None:\n",
        "    # Symmetric model\n",
        "    ###########################   YOUR CODE HERE  ##############################\n",
        "    loss = np.sum((W @ W.T + b @ np.ones([1,n]) + np.ones([n,1])@b.T - log_co_occurence)**2)\n",
        "    # print(loss)\n",
        "    ############################################################################\n",
        "  else: \n",
        "    # Asymmetric model\n",
        "    ###########################   YOUR CODE HERE  ##############################\n",
        "    loss = np.sum((W @ W_tilde.T + b @ np.ones([1,n]) + np.ones([n,1])@b_tilde.T - log_co_occurence)**2)\n",
        "    # print(loss)\n",
        "    ############################################################################\n",
        "  return loss\n"
      ]
    },
    {
      "cell_type": "markdown",
      "metadata": {
        "id": "HzWek3lP0p2e"
      },
      "source": [
        "## 4.5.  Implement the gradient update of GloVe. \\[1pt\\] \\[Type 2\\]\n",
        "\n",
        "Implement the `grad_GloVe()` function which computes the gradient of GloVe.\n",
        "\n",
        "**See** `YOUR CODE HERE` **Comment below for where to complete the code**\n",
        "\n",
        "\n",
        "Again, note that you need to implement the gradient for both the symmetric and asymmetric models. "
      ]
    },
    {
      "cell_type": "markdown",
      "metadata": {
        "id": "gNnKkMy-d2bB"
      },
      "source": [
        "* [ ] **TO BE IMPLEMENTED**: Calculate the gradient of the loss function w.r.t. the parameters $W$, $\\tilde{W}$, $\\mathbf{b}$, and $\\mathbf{b}$. You should vectorize the computation, i.e. not loop over every word.\n",
        "\n",
        "*Hint: To prompt a GPT-like model, you may include the GloVe loss implementation in 4.4.*"
      ]
    },
    {
      "cell_type": "code",
      "execution_count": 15,
      "metadata": {
        "id": "LbpkXeaAdwnj"
      },
      "outputs": [],
      "source": [
        "def grad_GloVe(W, W_tilde, b, b_tilde, log_co_occurence):\n",
        "  \"\"\"Return the gradient of GloVe objective w.r.t its parameters\n",
        "  Args:\n",
        "    W: word embedding matrix, dimension V x d where V is vocab size and d\n",
        "      is the embedding dimension\n",
        "    W_tilde: for asymmetric GloVe model, a second word embedding matrix, with\n",
        "      dimensions V x d\n",
        "    b: bias vector, dimension V x 1\n",
        "    b_tilde: for asymmetric GloVe model, a second bias vector, dimension V x 1\n",
        "    log_co_occurence: V x V log co-occurrence matrix (log X)\n",
        "  \n",
        "  Returns:\n",
        "    grad_W: gradient of the loss wrt W, dimension V x d\n",
        "    grad_W_tilde: gradient of the loss wrt W_tilde, dimension V x d. Return \n",
        "      None if W_tilde is None.\n",
        "    grad_b: gradient of the loss wrt b, dimension V x 1\n",
        "    grad_b_tilde: gradient of the loss wrt b, dimension V x 1. Return \n",
        "      None if b_tilde is None.\n",
        "  \"\"\"\n",
        "  n,_ = log_co_occurence.shape\n",
        "  \n",
        "  loss = loss_GloVe(W, W_tilde, b, b_tilde, log_co_occurence)\n",
        "  if not W_tilde is None and not b_tilde is None:\n",
        "  ###########################   YOUR CODE HERE  ##############################\n",
        "    loss = (W @ W_tilde.T + b @ np.ones([1,n]) + np.ones([n,1])@b_tilde.T - log_co_occurence)\n",
        "    grad_W = 2 * loss @ W_tilde\n",
        "    grad_W_tilde = 2 * (loss.T @ W)\n",
        "    grad_b = 2 * loss @ np.ones([n,1])\n",
        "    grad_b_tilde = 2 * (loss.T @ np.ones([n,1]))\n",
        "  ############################################################################\n",
        "  else:\n",
        "    grad_W_tilde = None\n",
        "    grad_b_tilde = None\n",
        "    \n",
        "    # Method 1: Add both summation over rows and over columns\n",
        "    loss = (W @ W.T + b @ np.ones([1,n]) + np.ones([n,1])@b.T - log_co_occurence)\n",
        "    grad_W = 2 * (loss.T @ W) + 2 * (loss @  W)\n",
        "    grad_b = 2 * loss @ np.ones([n,1]) + 2 * (loss.T @ np.ones([n,1]))\n",
        "    \n",
        "    # Method 2: Symmetrize the log_co_occurence and multiply by 2\n",
        "    loss = (W @ W.T + b @ np.ones([1,n]) + np.ones([n,1])@b.T - 0.5*(log_co_occurence + log_co_occurence.T))\n",
        "    grad_W = 4 * (loss.T @ W)\n",
        "    grad_b = 4 * (np.ones([1,n]) @ loss).T\n",
        "    \n",
        "  return grad_W, grad_W_tilde, grad_b, grad_b_tilde"
      ]
    },
    {
      "cell_type": "markdown",
      "metadata": {
        "id": "U5_CAJ0VxzI3"
      },
      "source": [
        "To help you debug your GloVe gradient computation, we have included a finite-difference gradien checker function defined below:"
      ]
    },
    {
      "cell_type": "code",
      "execution_count": 16,
      "metadata": {
        "id": "HNiv-P0or6gt"
      },
      "outputs": [],
      "source": [
        "def relative_error(a, b):\n",
        "    return np.abs(a - b) / (np.abs(a) + np.abs(b))\n",
        " \n",
        "def check_GloVe_gradients(W, W_tilde, b, b_tilde, log_co_occurence):\n",
        "    \"\"\"Check the computed gradients using finite differences.\"\"\"\n",
        "    np.random.seed(0)\n",
        "    np.seterr(all='ignore')  # suppress a warning which is harmless\n",
        "\n",
        "    # Obtain the analytical gradient\n",
        "    grad_W, grad_W_tilde, grad_b, grad_b_tilde = grad_GloVe(W, W_tilde, b, b_tilde, log_co_occurence)\n",
        "    grads_dict = {\"W\":grad_W, \"W_tilde\": grad_W_tilde, \n",
        "                      \"b\": grad_b, \"b_tilde\": grad_b_tilde}\n",
        "\n",
        "    params_dict = {\"W\":W, \"W_tilde\":W_tilde, \"b\":b, \"b_tilde\":b_tilde}\n",
        "\n",
        "    # Check that the shapes of the parameters and gradients match\n",
        "    for name in params_dict:\n",
        "      if params_dict[name] is None:\n",
        "        continue\n",
        "      dims = params_dict[name].shape\n",
        "      is_matrix = (len(dims) == 2)\n",
        "      if not is_matrix:\n",
        "        print()\n",
        "\n",
        "      if params_dict[name].shape != grads_dict[name].shape:\n",
        "        print('The gradient for {} should be size {} but is actually {}.'.format(\n",
        "            name, params_dict[name].shape, grads_dict[name].shape))\n",
        "        return\n",
        "\n",
        "      # Run finite difference for that param\n",
        "      for count in range(1000):\n",
        "        if is_matrix:\n",
        "            slc = np.random.randint(0, dims[0]), np.random.randint(0, dims[1])\n",
        "        else:\n",
        "            slc = np.random.randint(dims[0])\n",
        "        \n",
        "        params_dict_plus = params_dict.copy()\n",
        "        params_dict_plus[name] = params_dict[name].copy()\n",
        "        params_dict_plus[name][slc] += EPS\n",
        "        obj_plus = loss_GloVe(params_dict_plus[\"W\"], \n",
        "                              params_dict_plus[\"W_tilde\"], \n",
        "                              params_dict_plus[\"b\"],\n",
        "                              params_dict_plus[\"b_tilde\"],\n",
        "                              log_co_occurence)\n",
        "\n",
        "        params_dict_minus = params_dict.copy()\n",
        "        params_dict_minus[name] = params_dict[name].copy()\n",
        "        params_dict_minus[name][slc] -= EPS\n",
        "        obj_minus = loss_GloVe(params_dict_minus[\"W\"], \n",
        "                              params_dict_minus[\"W_tilde\"], \n",
        "                              params_dict_minus[\"b\"],\n",
        "                              params_dict_minus[\"b_tilde\"],\n",
        "                              log_co_occurence)\n",
        "\n",
        "        empirical = (obj_plus - obj_minus) / (2. * EPS)\n",
        "        exact = grads_dict[name][slc]\n",
        "        rel = relative_error(empirical, exact)\n",
        "        if rel > 5e-4:\n",
        "          print('The loss derivative has a relative error of {}, which is too large for param {}.'.format(rel, name))\n",
        "          return False\n",
        "      print('The gradient for {} looks OK.'.format(name))"
      ]
    },
    {
      "cell_type": "markdown",
      "metadata": {
        "id": "4TyVFJtax8Dd"
      },
      "source": [
        "Run the cell below to check if your `grad_GloVe` function passes the checker. The function will check for both the symmetric and asymmetric loss, for each of the parameter variables whether its gradient computation looks ok. The expected output is:\n",
        "\n",
        "```\n",
        "Checking asymmetric loss gradient...\n",
        "The gradient for W looks OK.\n",
        "The gradient for W_tilde looks OK.\n",
        "The gradient for b looks OK.\n",
        "The gradient for b_tilde looks OK.\n",
        "\n",
        "Checking symmetric loss gradient...\n",
        "The gradient for W looks OK.\n",
        "The gradient for b looks OK.\n",
        "```\n",
        "\n",
        "Note: If you update the `grad_GloVe` cell while debugging, make sure to run the `grad_GloVe` cell again before re-running the cell below to check the gradient.\n",
        "\n",
        "- [ ] **TODO**: Run this cell below to check the gradient implementation"
      ]
    },
    {
      "cell_type": "code",
      "execution_count": 17,
      "metadata": {
        "id": "SY5scli4sPKP",
        "colab": {
          "base_uri": "https://localhost:8080/"
        },
        "outputId": "54439247-d75a-4175-d3fd-9a0a433d9451"
      },
      "outputs": [
        {
          "output_type": "stream",
          "name": "stdout",
          "text": [
            "Checking asymmetric loss gradient...\n",
            "The gradient for W looks OK.\n",
            "The gradient for W_tilde looks OK.\n",
            "The gradient for b looks OK.\n",
            "The gradient for b_tilde looks OK.\n",
            "\n",
            "Checking symmetric loss gradient...\n",
            "The gradient for W looks OK.\n",
            "The gradient for b looks OK.\n"
          ]
        }
      ],
      "source": [
        "np.random.seed(0)\n",
        "\n",
        "# Store the final losses for graphing\n",
        "init_variance = 0.05  # A hyperparameter.  You can play with this if you want.\n",
        "embedding_dim = 16\n",
        "W = init_variance * np.random.normal(size=(vocab_size, embedding_dim))\n",
        "W_tilde = init_variance * np.random.normal(size=(vocab_size, embedding_dim))\n",
        "b = init_variance * np.random.normal(size=(vocab_size, 1))\n",
        "b_tilde = init_variance * np.random.normal(size=(vocab_size, 1))\n",
        "\n",
        "print(\"Checking asymmetric loss gradient...\")\n",
        "check_GloVe_gradients(W, W_tilde, b, b_tilde, asym_log_co_occurence_train)\n",
        "\n",
        "print(\"\\nChecking symmetric loss gradient...\")\n",
        "check_GloVe_gradients(W, None, b, None, asym_log_co_occurence_train)"
      ]
    },
    {
      "cell_type": "markdown",
      "metadata": {
        "id": "DXJBYGqX6hP_"
      },
      "source": [
        "Now that you have checked taht the gradient is correct, we define the training function for the model given the initial weights and ground truth log co-occurence matrix:"
      ]
    },
    {
      "cell_type": "code",
      "execution_count": 18,
      "metadata": {
        "id": "sefu3T7u6jBL"
      },
      "outputs": [],
      "source": [
        "def train_GloVe(W, W_tilde, b, b_tilde, log_co_occurence_train, log_co_occurence_valid, n_epochs, do_print=False):\n",
        "  \"Traing W and b according to GloVe objective.\"\n",
        "  n,_ = log_co_occurence_train.shape\n",
        "  learning_rate = 0.05 / n  # A hyperparameter.  You can play with this if you want.\n",
        "  train_loss_list = np.zeros(n_epochs)\n",
        "  valid_loss_list = np.zeros(n_epochs)\n",
        "  vocab_size = log_co_occurence_train.shape[0]\n",
        "\n",
        "  for epoch in range(n_epochs):\n",
        "    grad_W, grad_W_tilde, grad_b, grad_b_tilde = grad_GloVe(W, W_tilde, b, b_tilde, log_co_occurence_train)\n",
        "    W = W - learning_rate * grad_W\n",
        "    b = b - learning_rate * grad_b\n",
        "    if not grad_W_tilde is None and not grad_b_tilde is None:\n",
        "      W_tilde = W_tilde - learning_rate * grad_W_tilde\n",
        "      b_tilde = b_tilde - learning_rate * grad_b_tilde\n",
        "    train_loss, valid_loss = loss_GloVe(W, W_tilde, b, b_tilde, log_co_occurence_train), loss_GloVe(W, W_tilde, b, b_tilde, log_co_occurence_valid)\n",
        "    if do_print:\n",
        "      print(f\"Average Train Loss: {train_loss / vocab_size}, Average valid loss: {valid_loss / vocab_size}, grad_norm: {np.sum(grad_W**2)}\")\n",
        "    train_loss_list[epoch] = train_loss / vocab_size\n",
        "    valid_loss_list[epoch] = valid_loss / vocab_size\n",
        "\n",
        "  return W, W_tilde, b, b_tilde, train_loss_list, valid_loss_list"
      ]
    },
    {
      "cell_type": "markdown",
      "metadata": {
        "id": "AwmBLMvKGE9-"
      },
      "source": [
        "- [ ] **TODO**: Run this cell below to run an experiment training GloVe model "
      ]
    },
    {
      "cell_type": "code",
      "execution_count": 19,
      "metadata": {
        "id": "eIbyEcyhFwDC",
        "colab": {
          "base_uri": "https://localhost:8080/",
          "height": 312
        },
        "outputId": "51ea0564-8f97-4c76-bf9b-cffef9da56e7"
      },
      "outputs": [
        {
          "output_type": "execute_result",
          "data": {
            "text/plain": [
              "<matplotlib.legend.Legend at 0x7f410cf40cd0>"
            ]
          },
          "metadata": {},
          "execution_count": 19
        },
        {
          "output_type": "display_data",
          "data": {
            "text/plain": [
              "<Figure size 432x288 with 1 Axes>"
            ],
            "image/png": "[encoded data removed]"
          },
          "metadata": {
            "needs_background": "light"
          }
        }
      ],
      "source": [
        "### TODO: Run this cell ###\n",
        "np.random.seed(1)\n",
        "n_epochs = 500  # A hyperparameter.  You can play with this if you want.\n",
        "\n",
        "# Store the final losses for graphing\n",
        "do_print = False  # If you want to see diagnostic information during training\n",
        "init_variance = 0.1  # A hyperparameter.  You can play with this if you want.\n",
        "embedding_dim = 16\n",
        "W = init_variance * np.random.normal(size=(vocab_size, embedding_dim))\n",
        "W_tilde = init_variance * np.random.normal(size=(vocab_size, embedding_dim))\n",
        "b = init_variance * np.random.normal(size=(vocab_size, 1))\n",
        "b_tilde = init_variance * np.random.normal(size=(vocab_size, 1))\n",
        "\n",
        "# Run the training for the asymmetric and symmetric GloVe model\n",
        "Asym_W_final, Asym_W_tilde_final, Asym_b_final, Asym_b_tilde_final, Asym_train_loss_list, Asym_valid_loss_list = train_GloVe(W, W_tilde, b, b_tilde, asym_log_co_occurence_train, asym_log_co_occurence_valid, n_epochs, do_print=do_print)\n",
        "Sym_W_final, Sym_W_tilde_final, Sym_b_final, Sym_b_tilde_final, Sym_train_loss_list, Sym_valid_loss_list = train_GloVe(W, None, b, None, asym_log_co_occurence_train, asym_log_co_occurence_valid, n_epochs, do_print=do_print)\n",
        "\n",
        "# Plot the resulting training curve\n",
        "pylab.plot(Asym_train_loss_list, label=\"Asym Train Loss\", color='red')\n",
        "pylab.plot(Asym_valid_loss_list, label=\"Asym Valid Loss\", color='red', linestyle='--')\n",
        "pylab.plot(Sym_train_loss_list, label=\"Sym Train Loss\", color='blue')\n",
        "pylab.plot(Sym_valid_loss_list, label=\"Sym Valid Loss\", color='blue', linestyle='--')\n",
        "pylab.xlabel(\"Iterations\")\n",
        "pylab.ylabel(\"Average GloVe Loss\")\n",
        "pylab.title(\"Asymmetric and Symmetric GloVe Model on Asymmetric Log Co-Occurrence (Emb Dim={})\".format(embedding_dim))\n",
        "pylab.legend()"
      ]
    },
    {
      "cell_type": "markdown",
      "metadata": {
        "id": "cLTzPRRMqh2H"
      },
      "source": [
        "## 4.6 Effects of a buggy implementation [0pt] \\[Type 2\\]\n",
        "\n",
        "Suppose that during the implementation, you initialized the weight embedding matrix $\\mathbf{W}$ and $\\tilde{\\mathbf{W}}$ with the same initial values (i.e., $\\mathbf{W} = \\tilde{\\mathbf{W}} = \\mathbf{W}_0$).\n",
        "\n",
        "What will happen to the values of $\\mathbf{W}$ and $\\tilde{\\mathbf{W}}$ over the course of training. Will they stay equal to each other, or diverge from each other? Explain your answer briefly. \n",
        "        \n",
        "*Hint: Consider the gradient $\\frac{\\partial L}{\\partial \\mathbf{W}}$ versus  $\\frac{\\partial L}{\\partial \\tilde{\\mathbf{W}}}$*"
      ]
    },
    {
      "cell_type": "markdown",
      "metadata": {
        "id": "cEd9gGgkaijK"
      },
      "source": [
        "4.6 **Answer**: **\\*\\*TODO: Write Part 4.6 answer here \\*\\***\n"
      ]
    },
    {
      "cell_type": "markdown",
      "metadata": {
        "id": "bRoG_sqZySHD"
      },
      "source": [
        "## 4.7. Effect of embedding dimension $d$ \\[0pt\\] \\[Type 3\\]\n",
        "Train the both the symmetric and asymmetric GLoVe model with varying dimensionality $d$ by running the cell below. Comment on:\n",
        "1. Which $d$ leads to optimal validation performance for the asymmetric and symmetric models?\n",
        "2. Why does / doesn't larger $d$ always lead to better validation error? \n",
        "3. Which model is performing better, and why?\n"
      ]
    },
    {
      "cell_type": "markdown",
      "metadata": {
        "id": "mD5jnHJB2hFy"
      },
      "source": [
        "4.7 Answer: **\\*\\*TODO: Write Part 4.7 answer here\\*\\***"
      ]
    },
    {
      "cell_type": "markdown",
      "metadata": {
        "id": "pjiNQ0WkWi1Z"
      },
      "source": [
        "Train the GloVe model for a range of embedding dimensions"
      ]
    },
    {
      "cell_type": "code",
      "execution_count": null,
      "metadata": {
        "id": "46yGUezEMLJe"
      },
      "outputs": [],
      "source": [
        "np.random.seed(1)\n",
        "n_epochs = 500  # A hyperparameter.  You can play with this if you want.\n",
        "embedding_dims = np.array([1, 2, 10, 128, 256])  # Play with this\n",
        "# Store the final losses for graphing\n",
        "asymModel_asymCoOc_final_train_losses, asymModel_asymCoOc_final_val_losses = [], []\n",
        "symModel_asymCoOc_final_train_losses, symModel_asymCoOc_final_val_losses = [], []\n",
        "Asym_W_final_2d, Asym_b_final_2d, Asym_W_tilde_final_2d, Asym_b_tilde_final_2d = None, None, None, None\n",
        "W_final_2d, b_final_2d = None, None\n",
        "do_print = False  # If you want to see diagnostic information during training\n",
        "\n",
        "for embedding_dim in tqdm(embedding_dims):\n",
        "  init_variance = 0.1  # A hyperparameter.  You can play with this if you want.\n",
        "  W = init_variance * np.random.normal(size=(vocab_size, embedding_dim))\n",
        "  W_tilde = init_variance * np.random.normal(size=(vocab_size, embedding_dim))\n",
        "  b = init_variance * np.random.normal(size=(vocab_size, 1))\n",
        "  b_tilde = init_variance * np.random.normal(size=(vocab_size, 1))\n",
        "  if do_print:\n",
        "    print(f\"Training for embedding dimension: {embedding_dim}\")\n",
        "  \n",
        "  # Train Asym model on Asym Co-Oc matrix\n",
        "  Asym_W_final, Asym_W_tilde_final, Asym_b_final, Asym_b_tilde_final, train_loss_list, valid_loss_list = train_GloVe(W, W_tilde, b, b_tilde, asym_log_co_occurence_train, asym_log_co_occurence_valid, n_epochs, do_print=do_print)\n",
        "  if embedding_dim == 2:\n",
        "    # Save a parameter copy if we are training 2d embedding for visualization later\n",
        "    Asym_W_final_2d = Asym_W_final\n",
        "    Asym_W_tilde_final_2d = Asym_W_tilde_final\n",
        "    Asym_b_final_2d = Asym_b_final\n",
        "    Asym_b_tilde_final_2d = Asym_b_tilde_final\n",
        "  asymModel_asymCoOc_final_train_losses += [train_loss_list[-1]]\n",
        "  asymModel_asymCoOc_final_val_losses += [valid_loss_list[-1]]\n",
        "  if do_print:\n",
        "    print(f\"Final validation loss: {valid_loss}\")\n",
        "  \n",
        "  # Train Sym model on Asym Co-Oc matrix\n",
        "  W_final, W_tilde_final, b_final, b_tilde_final, train_loss_list, valid_loss_list = train_GloVe(W, None, b, None, asym_log_co_occurence_train, asym_log_co_occurence_valid, n_epochs, do_print=do_print)\n",
        "  if embedding_dim == 2:\n",
        "    # Save a parameter copy if we are training 2d embedding for visualization later\n",
        "    W_final_2d = W_final\n",
        "    b_final_2d = b_final\n",
        "  symModel_asymCoOc_final_train_losses += [train_loss_list[-1]]\n",
        "  symModel_asymCoOc_final_val_losses += [valid_loss_list[-1]]\n",
        "  if do_print:\n",
        "    print(f\"Final validation loss: {valid_loss}\")"
      ]
    },
    {
      "cell_type": "markdown",
      "metadata": {
        "id": "hzV-qFf5WfAp"
      },
      "source": [
        "Plot the training and validation losses against the embedding dimension."
      ]
    },
    {
      "cell_type": "code",
      "execution_count": null,
      "metadata": {
        "id": "WHgHgSzJTg5d"
      },
      "outputs": [],
      "source": [
        "pylab.loglog(embedding_dims, asymModel_asymCoOc_final_train_losses, label=\"Asymmetric Model / Asymmetric Co-Oc\", linestyle=\"--\")\n",
        "pylab.loglog(embedding_dims, symModel_asymCoOc_final_train_losses , label=\"Symmetric Model / Asymmetric Co-Oc\")\n",
        "pylab.xlabel(\"Embedding Dimension\")\n",
        "pylab.ylabel(\"Training Loss\")\n",
        "pylab.legend()"
      ]
    },
    {
      "cell_type": "code",
      "execution_count": null,
      "metadata": {
        "id": "0UJSfg_hfvIV"
      },
      "outputs": [],
      "source": [
        "pylab.loglog(embedding_dims, asymModel_asymCoOc_final_val_losses, label=\"Asymmetric Model / Asymmetric Co-Oc\", linestyle=\"--\")\n",
        "pylab.loglog(embedding_dims, symModel_asymCoOc_final_val_losses , label=\"Sym Model / Asymmetric Co-Oc\")\n",
        "pylab.xlabel(\"Embedding Dimension\")\n",
        "pylab.ylabel(\"Validation Loss\")\n",
        "pylab.legend(loc=\"upper left\")"
      ]
    },
    {
      "cell_type": "markdown",
      "metadata": {
        "id": "7YwDZcOhjywe"
      },
      "source": [
        "# Part 5: Neural Language Model Network architecture (2pt)\n",
        "See the handout for the written questions in this part.\n",
        "\n",
        "## Answer the following questions"
      ]
    },
    {
      "cell_type": "markdown",
      "metadata": {
        "id": "wBQmEPvazDkA"
      },
      "source": [
        "## 5.1. Number of parameters in neural network model \\[1pt\\] \\[Type 2\\]\n",
        "\n",
        "The trainable parameters of the model consist of 3 weight matrices and 2 sets of biases. What is the total number of trainable parameters in the model, as a function of $V,N,D,H$? \n",
        "\n",
        "In the diagram given, which part of the model (i.e., `word_embbeding_weights`, `embed_to_hid_weights`, `hid_to_output_weights`, `hid_bias`, or `output_bias`) has the largest number of trainable parameters if we have the constraint that $V \\gg H > D > N$? Note: The symbol $\\gg$ means ``much greater than\" Explain your reasoning. \n"
      ]
    },
    {
      "cell_type": "markdown",
      "metadata": {
        "id": "CJKJ7qi9zVAm"
      },
      "source": [
        "5.1 Answer: **\\*\\*TODO: Write Part 5.1 answer here\\*\\***"
      ]
    },
    {
      "cell_type": "markdown",
      "metadata": {
        "id": "Cx_h25zYzVWJ"
      },
      "source": [
        "## 5.2 Number of parameters in $n$-gram model \\[1pt\\] \\[Type 1\\]\n",
        "Another method for predicting the next words is an *n-gram model*, which was mentioned in Lecture 3. If we wanted to use an n-gram model with the same context length $N-1$ as our network (since we mask 1 of the $N$ words in our input), we'd need to store the counts of all possible $N$-grams. If we stored all the counts explicitly and suppose that we have $V$ words in the dictionary, how many entries would this table have?"
      ]
    },
    {
      "cell_type": "markdown",
      "metadata": {
        "id": "n4hTwsjTzXvi"
      },
      "source": [
        "5.2 Answer: **\\*\\*TODO: Write Part 5.2 answer here\\*\\***"
      ]
    },
    {
      "cell_type": "markdown",
      "metadata": {
        "id": "xDU6LrF-zX1v"
      },
      "source": [
        "\n",
        "## 5.3. Comparing neural network and $n$-gram model scaling \\[0pt\\] \\[Type 2\\]\n",
        "How do the parameters in the neural network model scale with the number of context words $N$ versus how the number of entries in the $n$-gram model scale with $N$? [0pt]"
      ]
    },
    {
      "cell_type": "markdown",
      "metadata": {
        "id": "IVJSp7gFzYa3"
      },
      "source": [
        "5.3 Answer: **\\*\\*TODO: Write Part 5.3 answer here\\*\\***"
      ]
    },
    {
      "cell_type": "markdown",
      "metadata": {
        "id": "C8FZTyrzlCNl"
      },
      "source": [
        "# Part 6: Training the Neural Network (2pts)\n"
      ]
    },
    {
      "cell_type": "markdown",
      "metadata": {
        "id": "ua0qkOH1tqHw"
      },
      "source": [
        "In this part, you will learn to implement and train the neural language model from Figure 1. As described in the previous section, during training, we randomly sample one of the $N$ context words to replace with a `[MASK]` token. The goal is for the network to predict the word that was masked, at the corresponding output word position. In practice, this `[MASK]` token is assigned the index 0 in our dictionary. The weights $W^{(2)}$ = `hid_to_output_weights` now has the shape $NV \\times H$, as the output layer has $NV$ neurons, where the first $V$ output units are for predicting the first word, then the next $V$ are for predicting the second word, and so on. \n",
        "        We call this as *concatenating* output units across all word positions, i.e. the $(v + nV)$-th column is for the word $v$ in vocabulary for the $n$-th output word position. \n",
        "        Note here that the softmax is applied in chunks of $V$ as well, to give a valid probability distribution over the $V$ words (For simplicity we also include the `[MASK]` token as one of the possible prediction even though we know the target should not be this token). Only the output word positions that were masked in the input are included in the cross entropy loss calculation:\n",
        "\n",
        "$$C = -\\sum_{i}^{B}\\sum_{n}^{N}\\sum_{v}^{V} m^{(i)}_{n} (t^{(i)}_{v + nV} \\log y^{(i)}_{v + nV})$$\n",
        "\n",
        "Where:\n",
        "*  $y^{(i)}_{v + nV}$ denotes the output probability prediction from the neural network for the $i$-th training example for the word $v$ in the $n$-th output word. Denoting $z$ as the logits output, we define the output probability $y$ as a softmax on $z$ over contiguous chunks of $V$ units (see also Figure 1): \n",
        "\n",
        "$$y^{(i)}_{v + nV} = \\frac{e^{z^{(i)}_{v+nV}}}{\\sum_{l}^{V} e^{z^{(i)}_{l+nV}}}$$\n",
        "* $t^{(i)}_{v + nV}  \\in \\{0,1\\}$ is 1 if for the $i$-th training example, the word $v$ is the $n$-th word in context\n",
        "* $m^{(i)}_{n} \\in \\{0,1\\}$ is a mask that is set to 1 if we are predicting the $n$-th word position for the $i$-th example (because we had masked that word in the input), and 0 otherwise\n",
        "\n",
        "There are three classes defined in this part: `Params`, `Activations`, `Model`.\n",
        "You will make changes to `Model`, but it may help to read through `Params` and `Activations` first."
      ]
    },
    {
      "cell_type": "code",
      "execution_count": null,
      "metadata": {
        "id": "EfGEjB3QLNXf"
      },
      "outputs": [],
      "source": [
        "class Params(object):\n",
        "    \"\"\"A class representing the trainable parameters of the model. This class has five fields:\n",
        "    \n",
        "           word_embedding_weights, a matrix of size V x D, where V is the number of words in the vocabulary\n",
        "                   and D is the embedding dimension.\n",
        "           embed_to_hid_weights, a matrix of size H x ND, where H is the number of hidden units. The first D\n",
        "                   columns represent connections from the embedding of the first context word, the next D columns\n",
        "                   for the second context word, and so on. There are N context words.\n",
        "           hid_bias, a vector of length H\n",
        "           hid_to_output_weights, a matrix of size NV x H\n",
        "           output_bias, a vector of length NV\"\"\"\n",
        "\n",
        "    def __init__(self, word_embedding_weights, embed_to_hid_weights, hid_to_output_weights,\n",
        "                 hid_bias, output_bias):\n",
        "        self.word_embedding_weights = word_embedding_weights\n",
        "        self.embed_to_hid_weights = embed_to_hid_weights\n",
        "        self.hid_to_output_weights = hid_to_output_weights\n",
        "        self.hid_bias = hid_bias\n",
        "        self.output_bias = output_bias\n",
        "\n",
        "    def copy(self):\n",
        "        return self.__class__(self.word_embedding_weights.copy(), self.embed_to_hid_weights.copy(),\n",
        "                              self.hid_to_output_weights.copy(), self.hid_bias.copy(), self.output_bias.copy())\n",
        "\n",
        "    @classmethod\n",
        "    def zeros(cls, vocab_size, context_len, embedding_dim, num_hid):\n",
        "        \"\"\"A constructor which initializes all weights and biases to 0.\"\"\"\n",
        "        word_embedding_weights = np.zeros((vocab_size, embedding_dim))\n",
        "        embed_to_hid_weights = np.zeros((num_hid, context_len * embedding_dim))\n",
        "        hid_to_output_weights = np.zeros((vocab_size * context_len, num_hid))\n",
        "        hid_bias = np.zeros(num_hid)\n",
        "        output_bias = np.zeros(vocab_size * context_len)\n",
        "        return cls(word_embedding_weights, embed_to_hid_weights, hid_to_output_weights,\n",
        "                   hid_bias, output_bias)\n",
        "\n",
        "    @classmethod\n",
        "    def random_init(cls, init_wt, vocab_size, context_len, embedding_dim, num_hid):\n",
        "        \"\"\"A constructor which initializes weights to small random values and biases to 0.\"\"\"\n",
        "        word_embedding_weights = np.random.normal(0., init_wt, size=(vocab_size, embedding_dim))\n",
        "        embed_to_hid_weights = np.random.normal(0., init_wt, size=(num_hid, context_len * embedding_dim))\n",
        "        hid_to_output_weights = np.random.normal(0., init_wt, size=(vocab_size * context_len, num_hid))\n",
        "        hid_bias = np.zeros(num_hid)\n",
        "        output_bias = np.zeros(vocab_size * context_len)\n",
        "        return cls(word_embedding_weights, embed_to_hid_weights, hid_to_output_weights,\n",
        "                   hid_bias, output_bias)\n",
        "\n",
        "    ###### The functions below are Python's somewhat oddball way of overloading operators, so that\n",
        "    ###### we can do arithmetic on Params instances. You don't need to understand this to do the assignment.\n",
        "\n",
        "    def __mul__(self, a):\n",
        "        return self.__class__(a * self.word_embedding_weights,\n",
        "                              a * self.embed_to_hid_weights,\n",
        "                              a * self.hid_to_output_weights,\n",
        "                              a * self.hid_bias,\n",
        "                              a * self.output_bias)\n",
        "\n",
        "    def __rmul__(self, a):\n",
        "        return self * a\n",
        "\n",
        "    def __add__(self, other):\n",
        "        return self.__class__(self.word_embedding_weights + other.word_embedding_weights,\n",
        "                              self.embed_to_hid_weights + other.embed_to_hid_weights,\n",
        "                              self.hid_to_output_weights + other.hid_to_output_weights,\n",
        "                              self.hid_bias + other.hid_bias,\n",
        "                              self.output_bias + other.output_bias)\n",
        "\n",
        "    def __sub__(self, other):\n",
        "        return self + -1. * other"
      ]
    },
    {
      "cell_type": "code",
      "execution_count": null,
      "metadata": {
        "id": "k6XFQUPsLSi7"
      },
      "outputs": [],
      "source": [
        "class Activations(object):\n",
        "    \"\"\"A class representing the activations of the units in the network. This class has three fields:\n",
        "\n",
        "        embedding_layer, a matrix of B x ND matrix (where B is the batch size, D is the embedding dimension,\n",
        "                and N is the number of input context words), representing the activations for the embedding \n",
        "                layer on all the cases in a batch. The first D columns represent the embeddings for the \n",
        "                first context word, and so on.\n",
        "        hidden_layer, a B x H matrix representing the hidden layer activations for a batch\n",
        "        output_layer, a B x V matrix representing the output layer activations for a batch\"\"\"\n",
        "\n",
        "    def __init__(self, embedding_layer, hidden_layer, output_layer):\n",
        "        self.embedding_layer = embedding_layer\n",
        "        self.hidden_layer = hidden_layer\n",
        "        self.output_layer = output_layer\n",
        "\n",
        "def get_batches(inputs, batch_size, shuffle=True):\n",
        "    \"\"\"Divide a dataset (usually the training set) into mini-batches of a given size. This is a\n",
        "    'generator', i.e. something you can use in a for loop. You don't need to understand how it\n",
        "    works to do the assignment.\"\"\"\n",
        "\n",
        "    if inputs.shape[0] % batch_size != 0:\n",
        "        raise RuntimeError('The number of data points must be a multiple of the batch size.')\n",
        "    num_batches = inputs.shape[0] // batch_size\n",
        "\n",
        "    if shuffle:\n",
        "        idxs = np.random.permutation(inputs.shape[0])\n",
        "        inputs = inputs[idxs, :]\n",
        "\n",
        "    for m in range(num_batches):\n",
        "        yield inputs[m * batch_size:(m + 1) * batch_size, :]"
      ]
    },
    {
      "cell_type": "markdown",
      "metadata": {
        "id": "uuAXaDNll0lf"
      },
      "source": [
        "In this part of the assignment, you implement a method which computes the gradient using backpropagation.\n",
        "To start you out, the *Model* class contains several important methods used in training:\n",
        "\n",
        "\n",
        "*   `compute_activations` computes the activations of all units on a given input batch\n",
        "*   `compute_loss_derivative` computes the gradient with respect to the output logits $\\frac{\\partial C}{\\partial z}$\n",
        "*   `evaluate` computes the average cross-entropy loss for a given set of inputs and targets\n",
        "\n",
        "You will need to complete the implementation of two additional methods to complete the training, and print the outputs of the gradients. "
      ]
    },
    {
      "cell_type": "markdown",
      "metadata": {
        "id": "lVF5TxDgtqHx"
      },
      "source": [
        "## 6.1 Implement gradient with respect to output layer inputs [0.5pt] \\[Type 2\\]\n",
        "Implement a vectorized `compute_loss` function, which computes the total cross-entropy loss on a mini-batch according to Eq. 2. Look for the `## YOUR CODE HERE ##` comment for where to complete the code. The docstring provides a description of the inputs to the function. \n",
        "\n"
      ]
    },
    {
      "cell_type": "markdown",
      "metadata": {
        "id": "pyAoLfRPYZYx"
      },
      "source": [
        "## 6.2 Implement gradient with respect to parameters [1pt] \\[Type 2\\]\n",
        "`back_propagate` is the function which computes the gradient of the loss with respect to model parameters using backpropagation.\n",
        "It uses the derivatives computed by *compute_loss_derivative*.\n",
        "Some parts are already filled in for you, but you need to compute the matrices of derivatives for `embed_to_hid_weights`, `hid_bias`, `hid_to_output_weights`, and `output_bias`.\n",
        "These matrices have the same sizes as the parameter matrices (see previous section). These matrices have the same sizes as the parameter matrices. Look for the `## YOUR CODE HERE ##` comment for where to complete the code.\n",
        "\n",
        "In order to implement backpropagation efficiently, you need to express the computations in terms of matrix operations, rather than *for* loops.\n",
        "You should first work through the derivatives on pencil and paper.\n",
        "First, apply the chain rule to compute the derivatives with respect to individual units, weights, and biases.\n",
        "Next, take the formulas you've derived, and express them in matrix form.\n",
        "You should be able to express all of the required computations using only matrix multiplication, matrix transpose, and elementwise operations --- no *for* loops!\n",
        "If you want inspiration, read through the code for *Model.compute_activations* and try to understand how the matrix operations correspond to the computations performed by all the units in the network.\n",
        "\n",
        "*Hint: Your implementations should also be similar to* `hid_to_output_weights_grad`,`hid_bias_grad` *in the same function call*\n",
        "\n",
        "*Hint: To prompt a GPT-like model, you may only include functions that are relevent to the implementation in your prompt.*\n",
        " "
      ]
    },
    {
      "cell_type": "code",
      "execution_count": null,
      "metadata": {
        "id": "0F4CTBipK9B6"
      },
      "outputs": [],
      "source": [
        "class Model(object):\n",
        "    \"\"\"A class representing the language model itself. This class contains various methods used in training\n",
        "    the model and visualizing the learned representations. It has two fields:\n",
        "\n",
        "        params, a Params instance which contains the model parameters\n",
        "        vocab, a list containing all the words in the dictionary; vocab[0] is the word with index\n",
        "               0, and so on.\"\"\"\n",
        "\n",
        "    def __init__(self, params, vocab):\n",
        "        self.params = params\n",
        "        self.vocab = vocab\n",
        "\n",
        "        self.vocab_size = len(vocab)\n",
        "        self.embedding_dim = self.params.word_embedding_weights.shape[1]\n",
        "        self.embedding_layer_dim = self.params.embed_to_hid_weights.shape[1]\n",
        "        self.context_len = self.embedding_layer_dim // self.embedding_dim\n",
        "        self.num_hid = self.params.embed_to_hid_weights.shape[0]\n",
        "\n",
        "    def copy(self):\n",
        "        return self.__class__(self.params.copy(), self.vocab[:])\n",
        "\n",
        "    @classmethod\n",
        "    def random_init(cls, init_wt, vocab, context_len, embedding_dim, num_hid):\n",
        "        \"\"\"Constructor which randomly initializes the weights to Gaussians with standard deviation init_wt\n",
        "        and initializes the biases to all zeros.\"\"\"\n",
        "        params = Params.random_init(init_wt, len(vocab), context_len, embedding_dim, num_hid)\n",
        "        return Model(params, vocab)\n",
        "\n",
        "    def indicator_matrix(self, targets, mask_zero_index=True):\n",
        "        \"\"\"Construct a matrix where the (v + n*V)th entry of row i is 1 if the n-th target word\n",
        "         for example i is v, and all other entries are 0.\n",
        "\n",
        "         Note: if the n-th target word index is 0, this corresponds to the [MASK] token,\n",
        "               and we set the entry to be 0. \n",
        "        \"\"\"\n",
        "        batch_size, context_len = targets.shape\n",
        "        expanded_targets = np.zeros((batch_size, context_len * len(self.vocab)))\n",
        "        offset = np.repeat((np.arange(context_len) * len(self.vocab))[np.newaxis, :], batch_size, axis=0) # [[0, V, 2V], [0, V, 2V], ...]\n",
        "        targets_offset = targets + offset\n",
        "\n",
        "        for c in range(context_len):\n",
        "          expanded_targets[np.arange(batch_size), targets_offset[:,c]] = 1.\n",
        "          if mask_zero_index:\n",
        "            # Note: Set the targets with index 0, V, 2V to be zero since it corresponds to the [MASK] token\n",
        "            expanded_targets[np.arange(batch_size), offset[:,c]] = 0. \n",
        "        return expanded_targets\n",
        "\n",
        "    def compute_loss_derivative(self, output_activations, expanded_target_batch, target_mask):\n",
        "        \"\"\"Compute the gradient of cross-entropy loss wrt output logits z\n",
        "        \n",
        "            For example:\n",
        "\n",
        "         [y_{0} ....  y_{V-1}] [y_{V}, ..., y_{2*V-1}] [y_{2*V} ... y_{i,3*V-1}] [y_{3*V} ... y_{i,4*V-1}] \n",
        "                  \n",
        "         Where for column v + n*V,\n",
        "\n",
        "            y_{v + n*V} = e^{z_{v + n*V}} / \\sum_{m=0}^{V-1} e^{z_{m + n*V}}, for n=0,...,N-1\n",
        "\n",
        "        This function should return a dC / dz matrix of size [batch_size x (vocab_size * context_len)],\n",
        "        where each row i in dC / dz has columns 0 to V-1 containing the gradient the 1st output \n",
        "        context word from i-th training example, then columns vocab_size to 2*vocab_size - 1 for the 2nd\n",
        "        output context word of the i-th training example, etc.\n",
        "        \n",
        "        C is the loss function summed acrossed all examples as well:\n",
        "\n",
        "            C = -\\sum_{i,j,n} mask_{i,n} (t_{i, j + n*V} log y_{i, j + n*V}), for j=0,...,V, and n=0,...,N\n",
        "\n",
        "        where mask_{i,n} = 1 if the i-th training example has n-th context word as the target, \n",
        "        otherwise mask_{i,n} = 0.\n",
        "        \n",
        "        Args:\n",
        "          output_activations: A [batch_size x (context_len * vocab_size)] matrix, \n",
        "              for the activations of the output layer, i.e. the y_j's.\n",
        "          expanded_target_batch: A [batch_size x (context_len * vocab_size)] matrix, \n",
        "              where expanded_target_batch[i,n*V:(n+1)*V] is the indicator vector for \n",
        "              the n-th context target word position, i.e. the (i, j + n*V) entry is 1 if the \n",
        "              i'th example, the context word at position n is j, and 0 otherwise.\n",
        "          target_mask: A [batch_size x context_len x 1] tensor, where target_mask[i,n] = 1 \n",
        "              if for the i'th example the n-th context word is a target position, otherwise 0\n",
        "        \n",
        "        Outputs:\n",
        "          loss_derivative: A [batch_size x (context_len * vocab_size)] matrix,\n",
        "              where loss_derivative[i,0:vocab_size] contains the gradient\n",
        "              dC / dz_0 for the i-th training example gradient for 1st output \n",
        "              context word, and loss_derivative[i,vocab_size:2*vocab_size] for \n",
        "              the 2nd output context word of the i-th training example, etc.\n",
        "        \"\"\"\n",
        "        # Reshape output_activations and expanded_target_batch and use broadcasting\n",
        "        output_activations_reshape = output_activations.reshape(-1, self.context_len, len(self.vocab))\n",
        "        expanded_target_batch_reshape = expanded_target_batch.reshape(-1, self.context_len, len(self.vocab))\n",
        "        gradient_masked_reshape =  target_mask * (output_activations_reshape - expanded_target_batch_reshape)\n",
        "        gradient_masked = gradient_masked_reshape.reshape(-1, self.context_len * len(self.vocab))\n",
        "        return gradient_masked\n",
        "\n",
        "    def compute_loss(self, output_activations, expanded_target_batch, target_mask):\n",
        "        \"\"\"Compute the total cross entropy loss over a mini-batch.\n",
        "\n",
        "        Args:\n",
        "          output_activations: [batch_size x (context_len * vocab_size)] matrix, \n",
        "                for the activations of the output layer, i.e. the y_j's.\n",
        "          expanded_target_batch: [batch_size (context_len * vocab_size)] matrix, \n",
        "                where expanded_target_batch[i,n*V:(n+1)*V] is the indicator vector for \n",
        "                the n-th context target word position, i.e. the (i, j + n*V) entry is 1 if the \n",
        "                i'th example, the context word at position n is j, and 0 otherwise. matrix obtained\n",
        "          target_mask: A [batch_size x context_len x 1] tensor, where target_mask[i,n,0] = 1 \n",
        "                if for the i'th example the n-th context word is a target position, otherwise 0\n",
        "        \n",
        "        Returns:\n",
        "          loss: a scalar for the  total cross entropy loss over the batch, \n",
        "                defined in Part 3\n",
        "        \"\"\"\n",
        "        ###########################   YOUR CODE HERE  ##############################\n",
        "        pass\n",
        "        ############################################################################\n",
        "        return loss\n",
        "\n",
        "    def compute_activations(self, inputs):\n",
        "        \"\"\"Compute the activations on a batch given the inputs. Returns an Activations instance.\n",
        "        You should try to read and understand this function, since this will give you clues for\n",
        "        how to implement back_propagate.\"\"\"\n",
        "\n",
        "        batch_size = inputs.shape[0]\n",
        "        if inputs.shape[1] != self.context_len:\n",
        "            raise RuntimeError('Dimension of the input vectors should be {}, but is instead {}'.format(\n",
        "                self.context_len, inputs.shape[1]))\n",
        "\n",
        "        # Embedding layer\n",
        "        # Look up the input word indices in the word_embedding_weights matrix\n",
        "        embedding_layer_state = self.params.word_embedding_weights[inputs.reshape([-1]), :].reshape([batch_size, self.embedding_layer_dim])\n",
        "\n",
        "        # Hidden layer\n",
        "        inputs_to_hid = np.dot(embedding_layer_state, self.params.embed_to_hid_weights.T) + \\\n",
        "                        self.params.hid_bias\n",
        "        # Apply logistic activation function\n",
        "        hidden_layer_state = 1. / (1. + np.exp(-inputs_to_hid))\n",
        "\n",
        "        # Output layer\n",
        "        inputs_to_softmax = np.dot(hidden_layer_state, self.params.hid_to_output_weights.T) + \\\n",
        "                            self.params.output_bias\n",
        "\n",
        "        # Subtract maximum.\n",
        "        # Remember that adding or subtracting the same constant from each input to a\n",
        "        # softmax unit does not affect the outputs. So subtract the maximum to\n",
        "        # make all inputs <= 0. This prevents overflows when computing their exponents.\n",
        "        inputs_to_softmax -= inputs_to_softmax.max(1).reshape((-1, 1))\n",
        "\n",
        "        # Take softmax along each V chunks in the output layer\n",
        "        output_layer_state = np.exp(inputs_to_softmax)\n",
        "        output_layer_state_shape = output_layer_state.shape\n",
        "        output_layer_state = output_layer_state.reshape((-1, self.context_len, len(self.vocab)))\n",
        "        output_layer_state /= output_layer_state.sum(axis=-1, keepdims=True) # Softmax along vocab of each target word\n",
        "        output_layer_state = output_layer_state.reshape(output_layer_state_shape) # Flatten back to 2D matrix\n",
        "\n",
        "        return Activations(embedding_layer_state, hidden_layer_state, output_layer_state)\n",
        "\n",
        "    def back_propagate(self, input_batch, activations, loss_derivative):\n",
        "        \"\"\"Compute the gradient of the loss function with respect to the trainable parameters\n",
        "        of the model.\n",
        "        \n",
        "        Part of this function is already completed, but you need to fill in the derivative\n",
        "        computations for hid_to_output_weights_grad, output_bias_grad, embed_to_hid_weights_grad,\n",
        "        and hid_bias_grad. See the documentation for the Params class for a description of what\n",
        "        these matrices represent.\n",
        "\n",
        "        Args: \n",
        "          input_batch: A [batch_size x context_length] matrix containing the \n",
        "              indices of the context words\n",
        "          activations: an Activations object representing the output of \n",
        "              Model.compute_activations\n",
        "          loss_derivative:  A [batch_size x (context_len * vocab_size)] matrix,\n",
        "              where loss_derivative[i,0:vocab_size] contains the gradient\n",
        "              dC / dz_0 for the i-th training example gradient for 1st output \n",
        "              context word, and loss_derivative[i,vocab_size:2*vocab_size] for \n",
        "              the 2nd output context word of the i-th training example, etc.\n",
        "              Obtained from calling compute_loss_derivative()\n",
        "          \n",
        "        Returns:\n",
        "          Params object containing the gradient for word_embedding_weights_grad, \n",
        "              embed_to_hid_weights_grad, hid_to_output_weights_grad,\n",
        "              hid_bias_grad, output_bias_grad  \n",
        "        \"\"\"\n",
        "\n",
        "        # The matrix with values dC / dz_j, where dz_j is the input to the jth hidden unit,\n",
        "        # i.e. h_j = 1 / (1 + e^{-z_j})\n",
        "        hid_deriv = np.dot(loss_derivative, self.params.hid_to_output_weights) \\\n",
        "                    * activations.hidden_layer * (1. - activations.hidden_layer)\n",
        "\n",
        "        \n",
        "        hid_to_output_weights_grad = np.dot(loss_derivative.T, activations.hidden_layer)\n",
        "        \n",
        "        ###########################   YOUR CODE HERE  ##############################\n",
        "        # output_bias_grad = ...\n",
        "        # embed_to_hid_weights_grad = ...\n",
        "        ############################################################################\n",
        "        \n",
        "        hid_bias_grad = hid_deriv.sum(0)\n",
        "\n",
        "        # The matrix of derivatives for the embedding layer\n",
        "        embed_deriv = np.dot(hid_deriv, self.params.embed_to_hid_weights)\n",
        "\n",
        "        # Word Embedding Weights gradient\n",
        "        word_embedding_weights_grad = np.dot(self.indicator_matrix(input_batch.reshape([-1,1]), mask_zero_index=False).T, \n",
        "                                                 embed_deriv.reshape([-1, self.embedding_dim]))\n",
        "\n",
        "        return Params(word_embedding_weights_grad, embed_to_hid_weights_grad, hid_to_output_weights_grad,\n",
        "                      hid_bias_grad, output_bias_grad)\n",
        "\n",
        "    def sample_input_mask(self, batch_size):\n",
        "        \"\"\"Samples a binary mask for the inputs of size batch_size x context_len\n",
        "        For each row, at most one element will be 1.\n",
        "        \"\"\"\n",
        "        mask_idx = np.random.randint(self.context_len, size=(batch_size,))\n",
        "        mask = np.zeros((batch_size, self.context_len), dtype=np.int)# Convert to one hot B x N, B batch size, N context len\n",
        "        mask[np.arange(batch_size), mask_idx] = 1\n",
        "        return mask\n",
        "    \n",
        "    def evaluate(self, inputs, batch_size=100):\n",
        "        \"\"\"Compute the average cross-entropy over a dataset.\n",
        "\n",
        "            inputs: matrix of shape D x N\"\"\"\n",
        "\n",
        "        ndata = inputs.shape[0]\n",
        "\n",
        "        total = 0.\n",
        "        for input_batch in get_batches(inputs, batch_size):\n",
        "            mask = self.sample_input_mask(batch_size)\n",
        "            input_batch_masked = input_batch * (1 - mask)\n",
        "            activations = self.compute_activations(input_batch_masked)\n",
        "            expanded_target_batch = self.indicator_matrix(input_batch)\n",
        "            target_mask = np.expand_dims(mask, axis=2)\n",
        "            cross_entropy = self.compute_loss(activations.output_layer, expanded_target_batch, target_mask)\n",
        "            total += cross_entropy\n",
        "\n",
        "        return total / float(ndata)\n",
        "\n",
        "    def display_nearest_words(self, word, k=10):\n",
        "        \"\"\"List the k words nearest to a given word, along with their distances.\"\"\"\n",
        "\n",
        "        if word not in self.vocab:\n",
        "            print('Word \"{}\" not in vocabulary.'.format(word))\n",
        "            return\n",
        "\n",
        "        # Compute distance to every other word.\n",
        "        idx = self.vocab.index(word)\n",
        "        word_rep = self.params.word_embedding_weights[idx, :]\n",
        "        diff = self.params.word_embedding_weights - word_rep.reshape((1, -1))\n",
        "        distance = np.sqrt(np.sum(diff ** 2, axis=1))\n",
        "\n",
        "        # Sort by distance.\n",
        "        order = np.argsort(distance)\n",
        "        order = order[1:1 + k]  # The nearest word is the query word itself, skip that.\n",
        "        for i in order:\n",
        "            print('{}: {}'.format(self.vocab[i], distance[i]))\n",
        "\n",
        "    def word_distance(self, word1, word2):\n",
        "        \"\"\"Compute the distance between the vector representations of two words.\"\"\"\n",
        "\n",
        "        if word1 not in self.vocab:\n",
        "            raise RuntimeError('Word \"{}\" not in vocabulary.'.format(word1))\n",
        "        if word2 not in self.vocab:\n",
        "            raise RuntimeError('Word \"{}\" not in vocabulary.'.format(word2))\n",
        "\n",
        "        idx1, idx2 = self.vocab.index(word1), self.vocab.index(word2)\n",
        "        word_rep1 = self.params.word_embedding_weights[idx1, :]\n",
        "        word_rep2 = self.params.word_embedding_weights[idx2, :]\n",
        "        diff = word_rep1 - word_rep2\n",
        "        return np.sqrt(np.sum(diff ** 2))"
      ]
    },
    {
      "cell_type": "markdown",
      "metadata": {
        "id": "JbwZCTkboEhz"
      },
      "source": [
        "## 6.3 Print the gradients [0.5pt] \\[Type 4\\]\n",
        "\n",
        "To make your life easier, we have provided the routine `check_gradients`, which checks your gradients using finite differences.\n",
        "        You should make sure this check passes before continuing with the assignment. Once `check_gradients()` passes, call `print_gradients()` and include its output in your write-up. "
      ]
    },
    {
      "cell_type": "code",
      "execution_count": null,
      "metadata": {
        "id": "B5soRTiRn6W4"
      },
      "outputs": [],
      "source": [
        "def relative_error(a, b):\n",
        "    return np.abs(a - b) / (np.abs(a) + np.abs(b))\n",
        "\n",
        "\n",
        "def check_output_derivatives(model, input_batch, target_batch, mask):\n",
        "    def softmax(z):\n",
        "        z = z.copy()\n",
        "        z -= z.max(-1, keepdims=True)\n",
        "        y = np.exp(z)\n",
        "        y /= y.sum(-1, keepdims=True)\n",
        "        return y\n",
        "\n",
        "    batch_size = input_batch.shape[0]\n",
        "    z = np.random.normal(size=(batch_size, model.context_len, model.vocab_size))\n",
        "    y = softmax(z).reshape((batch_size, model.context_len * model.vocab_size))\n",
        "    z = z.reshape((batch_size, model.context_len * model.vocab_size))\n",
        "\n",
        "    expanded_target_batch = model.indicator_matrix(target_batch)\n",
        "    target_mask = np.expand_dims(mask, axis=2)\n",
        "    loss_derivative = model.compute_loss_derivative(y, expanded_target_batch, target_mask)\n",
        "\n",
        "    if loss_derivative is None:\n",
        "        print('Loss derivative not implemented yet.')\n",
        "        return False\n",
        "\n",
        "    if loss_derivative.shape != (batch_size, model.vocab_size * model.context_len):\n",
        "        print('Loss derivative should be size {} but is actually {}.'.format(\n",
        "            (batch_size, model.vocab_size), loss_derivative.shape))\n",
        "        return False\n",
        "\n",
        "    def obj(z):\n",
        "        z = z.reshape((-1, model.context_len, model.vocab_size))\n",
        "        y = softmax(z).reshape((batch_size, model.context_len * model.vocab_size))\n",
        "        return model.compute_loss(y, expanded_target_batch, target_mask)\n",
        "\n",
        "    for count in range(1000):\n",
        "        i, j = np.random.randint(0, loss_derivative.shape[0]), np.random.randint(0, loss_derivative.shape[1])\n",
        "\n",
        "        z_plus = z.copy()\n",
        "        z_plus[i, j] += EPS\n",
        "        obj_plus = obj(z_plus)\n",
        "\n",
        "        z_minus = z.copy()\n",
        "        z_minus[i, j] -= EPS\n",
        "        obj_minus = obj(z_minus)\n",
        "\n",
        "        empirical = (obj_plus - obj_minus) / (2. * EPS)\n",
        "        rel = relative_error(empirical, loss_derivative[i, j])\n",
        "        if rel > 1e-4:\n",
        "            print('The loss derivative has a relative error of {}, which is too large.'.format(rel))\n",
        "            return False\n",
        "\n",
        "    print('The loss derivative looks OK.')\n",
        "    return True\n",
        "\n",
        "\n",
        "def check_param_gradient(model, param_name, input_batch, target_batch, mask):\n",
        "    activations = model.compute_activations(input_batch)\n",
        "    expanded_target_batch = model.indicator_matrix(target_batch)\n",
        "    target_mask = np.expand_dims(mask, axis=2)\n",
        "    loss_derivative = model.compute_loss_derivative(activations.output_layer, expanded_target_batch, target_mask)\n",
        "    param_gradient = model.back_propagate(input_batch, activations, loss_derivative)\n",
        "\n",
        "    def obj(model):\n",
        "        activations = model.compute_activations(input_batch)\n",
        "        return model.compute_loss(activations.output_layer, expanded_target_batch, target_mask)\n",
        "\n",
        "    dims = getattr(model.params, param_name).shape\n",
        "    is_matrix = (len(dims) == 2)\n",
        "\n",
        "    if getattr(param_gradient, param_name).shape != dims:\n",
        "        print('The gradient for {} should be size {} but is actually {}.'.format(\n",
        "            param_name, dims, getattr(param_gradient, param_name).shape))\n",
        "        return\n",
        "\n",
        "    for count in range(1000):\n",
        "        if is_matrix:\n",
        "            slc = np.random.randint(0, dims[0]), np.random.randint(0, dims[1])\n",
        "        else:\n",
        "            slc = np.random.randint(dims[0])\n",
        "\n",
        "        model_plus = model.copy()\n",
        "        getattr(model_plus.params, param_name)[slc] += EPS\n",
        "        obj_plus = obj(model_plus)\n",
        "\n",
        "        model_minus = model.copy()\n",
        "        getattr(model_minus.params, param_name)[slc] -= EPS\n",
        "        obj_minus = obj(model_minus)\n",
        "\n",
        "        empirical = (obj_plus - obj_minus) / (2. * EPS)\n",
        "        exact = getattr(param_gradient, param_name)[slc]\n",
        "        rel = relative_error(empirical, exact)\n",
        "        if rel > 5e-4:\n",
        "            print('The loss derivative has a relative error of {}, which is too large for param {}.'.format(rel, param_name))\n",
        "            return False\n",
        "\n",
        "    print('The gradient for {} looks OK.'.format(param_name))\n",
        "\n",
        "\n",
        "def load_partially_trained_model():\n",
        "    obj = pickle.load(open(PARTIALLY_TRAINED_MODEL, 'rb'))\n",
        "    params = Params(obj['word_embedding_weights'], obj['embed_to_hid_weights'],\n",
        "                                   obj['hid_to_output_weights'], obj['hid_bias'],\n",
        "                                   obj['output_bias'])\n",
        "    vocab = obj['vocab']\n",
        "    return Model(params, vocab)\n",
        "\n",
        "\n",
        "def check_gradients():\n",
        "    \"\"\"Check the computed gradients using finite differences.\"\"\"\n",
        "    np.random.seed(0)\n",
        "\n",
        "    np.seterr(all='ignore')  # suppress a warning which is harmless\n",
        "\n",
        "    model = load_partially_trained_model()\n",
        "    data_obj = pickle.load(open(data_location, 'rb'))\n",
        "    train_inputs = data_obj['train_inputs']\n",
        "    input_batch = train_inputs[:100, :]\n",
        "    mask = model.sample_input_mask(input_batch.shape[0])\n",
        "    input_batch_masked = input_batch * (1 - mask)\n",
        " \n",
        "    if not check_output_derivatives(model, input_batch_masked, input_batch, mask):\n",
        "        return\n",
        "\n",
        "    for param_name in ['word_embedding_weights', 'embed_to_hid_weights', 'hid_to_output_weights',\n",
        "                       'hid_bias', 'output_bias']:\n",
        "        check_param_gradient(model, param_name, input_batch_masked, input_batch, mask)\n",
        "\n",
        "\n",
        "def print_gradients():\n",
        "    \"\"\"Print out certain derivatives for grading.\"\"\"\n",
        "    np.random.seed(0)\n",
        "\n",
        "    model = load_partially_trained_model()\n",
        "    data_obj = pickle.load(open(data_location, 'rb'))\n",
        "    train_inputs = data_obj['train_inputs']\n",
        "    input_batch = train_inputs[:100, :]\n",
        "\n",
        "    mask = model.sample_input_mask(input_batch.shape[0])\n",
        "    input_batch_masked = input_batch * (1 - mask)\n",
        "    activations = model.compute_activations(input_batch_masked)\n",
        "    expanded_target_batch = model.indicator_matrix(input_batch)\n",
        "    target_mask = np.expand_dims(mask, axis=2)\n",
        "    loss_derivative = model.compute_loss_derivative(activations.output_layer, expanded_target_batch, target_mask)\n",
        "    param_gradient = model.back_propagate(input_batch, activations, loss_derivative)\n",
        "\n",
        "    print('loss_derivative[46, 785]', loss_derivative[46, 785])\n",
        "    print('loss_derivative[46, 766]', loss_derivative[46, 766])\n",
        "    print('loss_derivative[5, 42]', loss_derivative[5, 42])\n",
        "    print('loss_derivative[5, 31]', loss_derivative[5, 31])\n",
        "    print()\n",
        "    print('param_gradient.word_embedding_weights[27, 2]', param_gradient.word_embedding_weights[27, 2])\n",
        "    print('param_gradient.word_embedding_weights[43, 3]', param_gradient.word_embedding_weights[43, 3])\n",
        "    print('param_gradient.word_embedding_weights[22, 4]', param_gradient.word_embedding_weights[22, 4])\n",
        "    print('param_gradient.word_embedding_weights[2, 5]', param_gradient.word_embedding_weights[2, 5])\n",
        "    print()\n",
        "    print('param_gradient.embed_to_hid_weights[10, 2]', param_gradient.embed_to_hid_weights[10, 2])\n",
        "    print('param_gradient.embed_to_hid_weights[15, 3]', param_gradient.embed_to_hid_weights[15, 3])\n",
        "    print('param_gradient.embed_to_hid_weights[30, 9]', param_gradient.embed_to_hid_weights[30, 9])\n",
        "    print('param_gradient.embed_to_hid_weights[35, 21]', param_gradient.embed_to_hid_weights[35, 21])\n",
        "    print()\n",
        "    print('param_gradient.hid_bias[10]', param_gradient.hid_bias[10])\n",
        "    print('param_gradient.hid_bias[20]', param_gradient.hid_bias[20])\n",
        "    print()\n",
        "    print('param_gradient.output_bias[0]', param_gradient.output_bias[0])\n",
        "    print('param_gradient.output_bias[1]', param_gradient.output_bias[1])\n",
        "    print('param_gradient.output_bias[2]', param_gradient.output_bias[2])\n",
        "    print('param_gradient.output_bias[3]', param_gradient.output_bias[3])\n"
      ]
    },
    {
      "cell_type": "code",
      "execution_count": null,
      "metadata": {
        "id": "6Tlficab3ZfJ"
      },
      "outputs": [],
      "source": [
        "# Run this to check if your implement gradients matches the finite difference within tolerance\n",
        "# Note: this may take a few minutes to go through all the checks\n",
        "check_gradients()                                   "
      ]
    },
    {
      "cell_type": "code",
      "execution_count": null,
      "metadata": {
        "id": "1TCLl7v189SI"
      },
      "outputs": [],
      "source": [
        "# Run this to print out the gradients\n",
        "print_gradients()"
      ]
    },
    {
      "cell_type": "markdown",
      "metadata": {
        "id": "qtC-br-N5xGT"
      },
      "source": [
        "## 6.4 Run model training [0pt]\n",
        "\n",
        "Once you've implemented the gradient computation, you'll need to train the model.\n",
        "The function *train* implements the main training procedure.\n",
        "It takes two arguments:\n",
        "\n",
        "\n",
        "*   `embedding_dim`: The number of dimensions in the distributed representation.\n",
        "*   `num_hid`: The number of hidden units\n",
        "\n",
        "\n",
        "As the model trains, the script prints out some numbers that tell you how well the training is going.\n",
        "It shows:\n",
        "\n",
        "\n",
        "*   The cross entropy on the last 100 mini-batches of the training set. This is shown after every 100 mini-batches.\n",
        "*   The cross entropy on the entire validation set every 1000 mini-batches of training.\n",
        "\n",
        "At the end of training, this function shows the cross entropies on the training, validation and test sets.\n",
        "It will return a *Model* instance."
      ]
    },
    {
      "cell_type": "code",
      "execution_count": null,
      "metadata": {
        "id": "akBYJQOdLfaF"
      },
      "outputs": [],
      "source": [
        "_train_inputs = None\n",
        "_train_targets = None\n",
        "_vocab = None\n",
        "\n",
        "DEFAULT_TRAINING_CONFIG = {'batch_size': 100,  # the size of a mini-batch\n",
        "                           'learning_rate': 0.1,  # the learning rate\n",
        "                           'momentum': 0.9,  # the decay parameter for the momentum vector\n",
        "                           'epochs': 50,  # the maximum number of epochs to run\n",
        "                           'init_wt': 0.01,  # the standard deviation of the initial random weights\n",
        "                           'context_len': 4,  # the number of context words used\n",
        "                           'show_training_CE_after': 100,  # measure training error after this many mini-batches\n",
        "                           'show_validation_CE_after': 1000,  # measure validation error after this many mini-batches\n",
        "                           }\n",
        "\n",
        "\n",
        "def find_occurrences(word1, word2, word3):\n",
        "    \"\"\"Lists all the words that followed a given tri-gram in the training set and the number of\n",
        "    times each one followed it.\"\"\"\n",
        "\n",
        "    # cache the data so we don't keep reloading\n",
        "    global _train_inputs, _train_targets, _vocab\n",
        "    if _train_inputs is None:\n",
        "        data_obj = pickle.load(open(data_location, 'rb'))\n",
        "        _vocab = data_obj['vocab']\n",
        "        _train_inputs, _train_targets = data_obj['train_inputs'], data_obj['train_targets']\n",
        "\n",
        "    if word1 not in _vocab:\n",
        "        raise RuntimeError('Word \"{}\" not in vocabulary.'.format(word1))\n",
        "    if word2 not in _vocab:\n",
        "        raise RuntimeError('Word \"{}\" not in vocabulary.'.format(word2))\n",
        "    if word3 not in _vocab:\n",
        "        raise RuntimeError('Word \"{}\" not in vocabulary.'.format(word3))\n",
        "\n",
        "    idx1, idx2, idx3 = _vocab.index(word1), _vocab.index(word2), _vocab.index(word3)\n",
        "    idxs = np.array([idx1, idx2, idx3])\n",
        "\n",
        "    matches = np.all(_train_inputs == idxs.reshape((1, -1)), 1)\n",
        "\n",
        "    if np.any(matches):\n",
        "        counts = collections.defaultdict(int)\n",
        "        for m in np.where(matches)[0]:\n",
        "            counts[_vocab[_train_targets[m]]] += 1\n",
        "\n",
        "        word_counts = sorted(list(counts.items()), key=lambda t: t[1], reverse=True)\n",
        "        print('The tri-gram \"{} {} {}\" was followed by the following words in the training set:'.format(\n",
        "            word1, word2, word3))\n",
        "        for word, count in word_counts:\n",
        "            if count > 1:\n",
        "                print('    {} ({} times)'.format(word, count))\n",
        "            else:\n",
        "                print('    {} (1 time)'.format(word))\n",
        "    else:\n",
        "        print('The tri-gram \"{} {} {}\" did not occur in the training set.'.format(word1, word2, word3))\n",
        "\n",
        "\n",
        "def train(embedding_dim, num_hid, config=DEFAULT_TRAINING_CONFIG):\n",
        "    \"\"\"This is the main training routine for the language model. It takes two parameters:\n",
        "\n",
        "        embedding_dim, the dimension of the embedding space\n",
        "        num_hid, the number of hidden units.\"\"\"\n",
        "    # For reproducibility\n",
        "    np.random.seed(123)\n",
        "\n",
        "    # Load the data\n",
        "    data_obj = pickle.load(open(data_location, 'rb'))\n",
        "    vocab = data_obj['vocab']\n",
        "    train_inputs = data_obj['train_inputs']\n",
        "    valid_inputs = data_obj['valid_inputs']\n",
        "    test_inputs = data_obj['test_inputs']\n",
        "\n",
        "    # Randomly initialize the trainable parameters\n",
        "    model = Model.random_init(config['init_wt'], vocab, config['context_len'], embedding_dim, num_hid)\n",
        "\n",
        "    # Variables used for early stopping\n",
        "    best_valid_CE = np.infty\n",
        "    end_training = False\n",
        "\n",
        "    # Initialize the momentum vector to all zeros\n",
        "    delta = Params.zeros(len(vocab), config['context_len'], embedding_dim, num_hid)\n",
        "\n",
        "    this_chunk_CE = 0.\n",
        "    batch_count = 0\n",
        "    for epoch in range(1, config['epochs'] + 1):\n",
        "        if end_training:\n",
        "            break\n",
        "\n",
        "        print()\n",
        "        print('Epoch', epoch)\n",
        "\n",
        "        for m, (input_batch) in enumerate(get_batches(train_inputs, config['batch_size'])):\n",
        "            batch_count += 1\n",
        "\n",
        "            # For each example (row in input_batch), select one word to mask out\n",
        "            mask = model.sample_input_mask(config['batch_size'])\n",
        "            input_batch_masked = input_batch * (1 - mask) # We only zero out one word per row\n",
        "\n",
        "            # Forward propagate\n",
        "            activations = model.compute_activations(input_batch_masked)\n",
        "\n",
        "            # Compute loss derivative            \n",
        "            expanded_target_batch = model.indicator_matrix(input_batch)\n",
        "            loss_derivative = model.compute_loss_derivative(activations.output_layer, expanded_target_batch, mask[:,:, np.newaxis])\n",
        "            loss_derivative /= config['batch_size']\n",
        "\n",
        "            # Measure loss function\n",
        "            cross_entropy = model.compute_loss(activations.output_layer, expanded_target_batch, np.expand_dims(mask, axis=2)) / config['batch_size']\n",
        "            this_chunk_CE += cross_entropy\n",
        "            if batch_count % config['show_training_CE_after'] == 0:\n",
        "                print('Batch {} Train CE {:1.3f}'.format(\n",
        "                    batch_count, this_chunk_CE / config['show_training_CE_after']))\n",
        "                this_chunk_CE = 0.\n",
        "\n",
        "            # Backpropagate\n",
        "            loss_gradient = model.back_propagate(input_batch, activations, loss_derivative)\n",
        "\n",
        "            # Update the momentum vector and model parameters\n",
        "            delta = config['momentum'] * delta + loss_gradient\n",
        "            model.params -= config['learning_rate'] * delta\n",
        "\n",
        "            # Validate\n",
        "            if batch_count % config['show_validation_CE_after'] == 0:\n",
        "                print('Running validation...')\n",
        "                cross_entropy = model.evaluate(valid_inputs)\n",
        "                print('Validation cross-entropy: {:1.3f}'.format(cross_entropy))\n",
        "\n",
        "                if cross_entropy > best_valid_CE:\n",
        "                    print('Validation error increasing!  Training stopped.')\n",
        "                    end_training = True\n",
        "                    break\n",
        "\n",
        "                best_valid_CE = cross_entropy\n",
        "\n",
        "    print()\n",
        "    train_CE = model.evaluate(train_inputs)\n",
        "    print('Final training cross-entropy: {:1.3f}'.format(train_CE))\n",
        "    valid_CE = model.evaluate(valid_inputs)\n",
        "    print('Final validation cross-entropy: {:1.3f}'.format(valid_CE))\n",
        "    test_CE = model.evaluate(test_inputs)\n",
        "    print('Final test cross-entropy: {:1.3f}'.format(test_CE))\n",
        "\n",
        "    return model"
      ]
    },
    {
      "cell_type": "markdown",
      "metadata": {
        "id": "ZX-g3K-F55h7"
      },
      "source": [
        "Run the training.\n"
      ]
    },
    {
      "cell_type": "code",
      "execution_count": null,
      "metadata": {
        "id": "BwlRG7j8LmIM"
      },
      "outputs": [],
      "source": [
        "embedding_dim = 16\n",
        "num_hid = 128\n",
        "trained_model = train(embedding_dim, num_hid)"
      ]
    },
    {
      "cell_type": "markdown",
      "metadata": {
        "id": "2FD5Om0ypNPe"
      },
      "source": [
        "To convince us that you have correctly implemented the gradient computations, please include the following with your assignment submission:\n",
        "\n",
        "* [ ] You will submit `a1-code.ipynb` through MarkUs.\n",
        "You do not need to modify any of the code except the parts we asked you to implement.\n",
        "* [ ] In your writeup, include the output of the function `print_gradients`.\n",
        "This prints out part of the gradients for a partially trained network which we have provided, and we will check them against the correct outputs. **Important:** make sure to give the output of `print_gradients`, **not** `check_gradients`.\n"
      ]
    },
    {
      "cell_type": "markdown",
      "metadata": {
        "id": "_VUBTt0ZQl3s"
      },
      "source": [
        "# Part 7: Bias in Word Embeddings (2pts)\n",
        "\n",
        "Unfortunately, stereotypes and prejudices are often reflected in the outputs of natural language processing algorithms. For example, Google Translate is more likely to translate a non-English sentence to \"_He_ is a doctor\" than \"_She_ is a doctor when the sentence is ambiguous. In this section, you will explore how bias enters natural language processing algorithms by implementing and analyzing a popular method for measuring bias in word embeddings.\n",
        "\n",
        "> Note: In AI and machine learning, **bias** generally refers to prior information, a necessary prerequisite for intelligent action. However, bias can be problematic when it is derived from aspects of human culture known to lead to harmful behaviour, such as stereotypes and prejudices."
      ]
    },
    {
      "cell_type": "markdown",
      "metadata": {
        "id": "-HlZw3-5Q5XJ"
      },
      "source": [
        "## 7.1 WEAT method for detecting bias [1pt] \\[Type 2\\]\n",
        "\n",
        "   Word embedding models such as GloVe attempt to learn a vector space where semantically similar words are clustered close together. However, they have been shown to learn problematic associations, e.g. by embedding \"man\" more closely to \"doctor\" than \"woman\" (and vice versa for \"nurse\"). To detect such biases in word embeddings, [\"Semantics derived automatically from language corpora contain human-like biases\"](https://www.science.org/doi/10.1126/science.aal4230) introduced the Word Embedding Association Test (WEAT). The WEAT test measures whether two _target_ word sets (e.g., {programmer, engineer, scientist, ...} and {nurse, teacher, librarian, ...}) have the same relative association to two _attribute_ word sets (e.g., man, male, ... and woman, female ...).\n",
        "   \n",
        "> There is an excellent blog on bias in word embeddings and the WEAT test [here](https://developers.googleblog.com/2018/04/text-embedding-models-contain-bias.html).\n",
        "\n",
        "In the following section, you will run a WEAT test for a given set of target and attribute words. Specifically, you must implement the function `weat_association_score` and then run the remaining cells to compute the p-value and effect size. Before you begin, make sure you understand the formal definition of the WEAT test given in section 4.1 of the handout.\n",
        "\n",
        "\n"
      ]
    },
    {
      "cell_type": "markdown",
      "metadata": {
        "id": "FMfmBOJnqNmJ"
      },
      "source": [
        "Run the following cell to download pretrained GloVe embeddings."
      ]
    },
    {
      "cell_type": "code",
      "execution_count": null,
      "metadata": {
        "id": "AI1hYohRQ-lz"
      },
      "outputs": [],
      "source": [
        "import gensim.downloader as api\n",
        "\n",
        "glove = api.load(\"glove-wiki-gigaword-50\")\n",
        "num_words, num_dims = glove.vectors.shape\n",
        "print(f\"Downloaded {num_words} word embeddings of dimension {num_dims}.\")"
      ]
    },
    {
      "cell_type": "markdown",
      "metadata": {
        "id": "x0mViYtFnwLR"
      },
      "source": [
        "Before proceeding, you should familiarize yourself with the `similarity` method, which computes the cosine similarity between two words. You will need this method to implement `weat_association_score`. Some examples are given below.\n",
        "\n",
        "> Can you spot the gender bias between occupations in the examples below?"
      ]
    },
    {
      "cell_type": "code",
      "execution_count": null,
      "metadata": {
        "id": "SuRrncLtn5Tl"
      },
      "outputs": [],
      "source": [
        "print(glove.similarity(\"man\", \"scientist\"))\n",
        "print(glove.similarity(\"man\", \"nurse\"))\n",
        "print(glove.similarity(\"woman\", \"scientist\"))\n",
        "print(glove.similarity(\"woman\", \"nurse\"))"
      ]
    },
    {
      "cell_type": "markdown",
      "metadata": {
        "id": "WlJS8luQoQV5"
      },
      "source": [
        "Below, we define our target words (`occupations`) and attribute words (`A` and `B`). Our target words consist of *occupations*, and our attribute words are *gendered*. We will use the WEAT test to determine if the word embeddings contain gender biases for certain occupations."
      ]
    },
    {
      "cell_type": "code",
      "execution_count": null,
      "metadata": {
        "id": "H1OEkmNiX-AH"
      },
      "outputs": [],
      "source": [
        "# Target words (occupations)\n",
        "occupations = [\"programmer\", \"engineer\", \"scientist\", \"nurse\", \"teacher\", \"librarian\"]\n",
        "# Two sets of gendered attribute words, A and B\n",
        "A = [\"man\", \"male\", \"he\", \"boyish\"]\n",
        "B = [\"woman\", \"female\", \"she\", \"girlish\"]"
      ]
    },
    {
      "cell_type": "markdown",
      "metadata": {
        "id": "lvTau4w1s2es"
      },
      "source": [
        "- [ ] __TODO__: Implement the following function, `weat_association_score` which computes the association of a word _w_ with the attribute:\n",
        "\n",
        "$$s(w, A, B) = \\text{mean}_{a\\in A} \\cos(w, a) - \\text{mean}_{b\\in B} \\cos(w,b)$$\n",
        "\n",
        "*Hint: To prompt a GPT-like model, think about how to provide the information that the `glove` has an method `similarity` which can be called.*"
      ]
    },
    {
      "cell_type": "code",
      "execution_count": null,
      "metadata": {
        "id": "FH7KHVgPYyl5"
      },
      "outputs": [],
      "source": [
        "def weat_association_score(w, A, B, glove):\n",
        "    \"\"\"Given a target word w, the set of attribute words A and B,\n",
        "    and the GloVe embeddings, returns the association score s(w, A, B).\n",
        "    \"\"\"\n",
        "    ###########################   YOUR CODE HERE  ##############################\n",
        "    pass\n",
        "    ############################################################################"
      ]
    },
    {
      "cell_type": "markdown",
      "metadata": {
        "id": "5VM9-DCewvsJ"
      },
      "source": [
        "Use the following code to check your implementation:"
      ]
    },
    {
      "cell_type": "code",
      "execution_count": null,
      "metadata": {
        "id": "QlN4D0JRwgpu"
      },
      "outputs": [],
      "source": [
        "np.isclose(weat_association_score(\"programmer\", A, B, glove), 0.019615129)"
      ]
    },
    {
      "cell_type": "markdown",
      "metadata": {
        "id": "Anbhmfiy_qiU"
      },
      "source": [
        "Now, compute the WEAT association score for each element of `occupations` and the attribute sets A and B. Include the printed out association scores in your pdf."
      ]
    },
    {
      "cell_type": "code",
      "execution_count": null,
      "metadata": {
        "id": "4ld48gnL_ySM"
      },
      "outputs": [],
      "source": [
        "# TODO: Print out the weat association score for each occupation\n",
        "###########################   YOUR CODE HERE  ##############################\n",
        "\n",
        "############################################################################"
      ]
    },
    {
      "cell_type": "markdown",
      "metadata": {
        "id": "SHf4e3Aextcz"
      },
      "source": [
        " ## 7.2 Reasons for bias in word embeddings [0pt] \\[Type 1\\]\n",
        "\n",
        "Based on these WEAT association scores, do the pretrained word embeddings associate certain occuptations with one gender more than another? What might cause word embedding models to learn certain stereotypes and prejudices? How might this be a problem in downstream applications?"
      ]
    },
    {
      "cell_type": "markdown",
      "metadata": {
        "id": "rDaumHBBSXm7"
      },
      "source": [
        "7.2 Answer: \n",
        "**\\*\\*TODO: Write Part 7.2 answer here\\*\\***"
      ]
    },
    {
      "cell_type": "markdown",
      "metadata": {
        "id": "KzFpg3AFRAp0"
      },
      "source": [
        "## 7.3 Analyzing WEAT [1pt]\n",
        "\n",
        "   While WEAT makes intuitive sense by asserting that closeness in the embedding space indicates greater similarity, more recent work ([Ethayarajh et al. [2019]](https://aclanthology.org/P19-1166.pdf)) has further analyzed the mathematical assertions and found some flaws with this method. Analyzing edge cases is a good way to find logical inconsistencies with any algorithm, and WEAT in particular can behave strangely when A and B contain just one word each. \n",
        "    \n",
        "\n",
        "      "
      ]
    },
    {
      "cell_type": "markdown",
      "metadata": {
        "id": "NFvAf7jXWhrS"
      },
      "source": [
        "### 7.3.1 1-word subsets [0.5 pts] \\[Type 4\\]\n",
        "Find 1-word subsets of the original A and B that reverse the sign of the association score for at least some of the occupations"
      ]
    },
    {
      "cell_type": "code",
      "execution_count": null,
      "metadata": {
        "id": "mEuECz_6PEMQ"
      },
      "outputs": [],
      "source": [
        "## Original sets provided here for convenience - try commenting out all but one word from each set\n",
        "# Two sets of gendered attribute words, C and D\n",
        "C = [\"man\",\n",
        "     \"male\",\n",
        "     \"he\",\n",
        "     \"boyish\"\n",
        "     ]\n",
        "D = [\"woman\",\n",
        "     \"female\",\n",
        "     \"she\",\n",
        "     \"girlish\"\n",
        "     ]\n",
        "\n",
        "# TODO: Print out the weat association score for each word in occupations, with regards to C and D\n",
        "###########################   YOUR CODE HERE  ##############################\n",
        "\n",
        "############################################################################"
      ]
    },
    {
      "cell_type": "markdown",
      "metadata": {
        "id": "SStZzhgNVcYA"
      },
      "source": [
        "### 7.3.2  How word frequency affects embedding similarity [0.5 pts] \\[Type 3\\] \\[EC\\]\n",
        "\n",
        "Consider the fact that the squared norm of a word embedding is linear in the log probability of the word in the training corpus. In other words, the more common a word is in the training corpus, the larger the norm of its word embedding. (See handout for more thorough description)\n",
        "    \n",
        "Briefly explain how this fact might contribute to the results from the previous section when using different attribute words. Provide your answers in no more than three sentences.\n",
        "\n",
        "*Hint 2: The paper cited above is a great resource if you are stuck.*"
      ]
    },
    {
      "cell_type": "markdown",
      "metadata": {
        "id": "0J9-uOZgRQCL"
      },
      "source": [
        "7.3.2 Answer: \n",
        "**\\*\\*TODO: Write Part 7.3.2 answer here\\*\\***"
      ]
    },
    {
      "cell_type": "markdown",
      "metadata": {
        "id": "pzh6MIbQAyBi"
      },
      "source": [
        "### 7.3.3  Relative association between two sets of target words [0 pts] \\[Type 3\\]\n",
        "\n",
        "In the original WEAT paper, the authors do not examine the association of individual words with attributes, but rather compare the relative association of two sets of target words. For example, are insect words more associated with positive attributes or negative attributes than flower words.\n",
        "    \n",
        "Formally, let $X$ and $Y$ be two sets of target words of equal size. The WEAT test statistic is given by:\n",
        "$$ s(X, Y, A, B) = \\sum_{x\\in X} s(x, A, B) - \\sum_{y \\in Y} s(y, A, B) $$\n",
        "    \n",
        "Will the same technique from the previous section work to manipulate this test statistic as well? Provide your answer in no more than 3 sentences."
      ]
    },
    {
      "cell_type": "markdown",
      "metadata": {
        "id": "88rIqovtLJt9"
      },
      "source": [
        "7.3.3 Answer: **TODO: Write 7.3.3 answer here**"
      ]
    },
    {
      "cell_type": "markdown",
      "metadata": {
        "id": "-DVGkTS3CPqi"
      },
      "source": [
        "# What you have to submit\n",
        "\n",
        "Refer to the handout for the checklist"
      ]
    },
    {
      "cell_type": "code",
      "execution_count": null,
      "metadata": {
        "id": "jcVh0VMgFGsW"
      },
      "outputs": [],
      "source": []
    }
  ],
  "metadata": {
    "colab": {
      "provenance": []
    },
    "kernelspec": {
      "display_name": "Python 3",
      "language": "python",
      "name": "python3"
    },
    "language_info": {
      "codemirror_mode": {
        "name": "ipython",
        "version": 3
      },
      "file_extension": ".py",
      "mimetype": "text/x-python",
      "name": "python",
      "nbconvert_exporter": "python",
      "pygments_lexer": "ipython3",
      "version": "3.6.10-final"
    }
  },
  "nbformat": 4,
  "nbformat_minor": 0
}